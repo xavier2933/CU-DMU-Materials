{
 "cells": [
  {
   "cell_type": "code",
   "execution_count": 17,
   "metadata": {},
   "outputs": [],
   "source": [
    "using Plots: scatter, scatter!, plot\n",
    "using Flux\n",
    "using StaticArrays\n",
    "using Random: randperm"
   ]
  },
  {
   "cell_type": "code",
   "execution_count": 27,
   "metadata": {},
   "outputs": [],
   "source": [
    "n = 100\n",
    "dx = rand(n)\n",
    "dy = sin.(4*pi*dx) + 0.01*randn(n);"
   ]
  },
  {
   "cell_type": "code",
   "execution_count": 28,
   "metadata": {},
   "outputs": [
    {
     "data": {
      "image/svg+xml": [
       "<?xml version=\"1.0\" encoding=\"utf-8\"?>\n",
       "<svg xmlns=\"http://www.w3.org/2000/svg\" xmlns:xlink=\"http://www.w3.org/1999/xlink\" width=\"600\" height=\"400\" viewBox=\"0 0 2400 1600\">\n",
       "<defs>\n",
       "  <clipPath id=\"clip400\">\n",
       "    <rect x=\"0\" y=\"0\" width=\"2400\" height=\"1600\"/>\n",
       "  </clipPath>\n",
       "</defs>\n",
       "<path clip-path=\"url(#clip400)\" d=\"\n",
       "M0 1600 L2400 1600 L2400 0 L0 0  Z\n",
       "  \" fill=\"#ffffff\" fill-rule=\"evenodd\" fill-opacity=\"1\"/>\n",
       "<defs>\n",
       "  <clipPath id=\"clip401\">\n",
       "    <rect x=\"480\" y=\"0\" width=\"1681\" height=\"1600\"/>\n",
       "  </clipPath>\n",
       "</defs>\n",
       "<path clip-path=\"url(#clip400)\" d=\"\n",
       "M179.654 1486.45 L2352.76 1486.45 L2352.76 47.2441 L179.654 47.2441  Z\n",
       "  \" fill=\"#ffffff\" fill-rule=\"evenodd\" fill-opacity=\"1\"/>\n",
       "<defs>\n",
       "  <clipPath id=\"clip402\">\n",
       "    <rect x=\"179\" y=\"47\" width=\"2174\" height=\"1440\"/>\n",
       "  </clipPath>\n",
       "</defs>\n",
       "<polyline clip-path=\"url(#clip402)\" style=\"stroke:#000000; stroke-width:2; stroke-opacity:0.1; fill:none\" points=\"\n",
       "  591.401,1486.45 591.401,47.2441 \n",
       "  \"/>\n",
       "<polyline clip-path=\"url(#clip402)\" style=\"stroke:#000000; stroke-width:2; stroke-opacity:0.1; fill:none\" points=\"\n",
       "  1017.68,1486.45 1017.68,47.2441 \n",
       "  \"/>\n",
       "<polyline clip-path=\"url(#clip402)\" style=\"stroke:#000000; stroke-width:2; stroke-opacity:0.1; fill:none\" points=\"\n",
       "  1443.96,1486.45 1443.96,47.2441 \n",
       "  \"/>\n",
       "<polyline clip-path=\"url(#clip402)\" style=\"stroke:#000000; stroke-width:2; stroke-opacity:0.1; fill:none\" points=\"\n",
       "  1870.23,1486.45 1870.23,47.2441 \n",
       "  \"/>\n",
       "<polyline clip-path=\"url(#clip402)\" style=\"stroke:#000000; stroke-width:2; stroke-opacity:0.1; fill:none\" points=\"\n",
       "  2296.51,1486.45 2296.51,47.2441 \n",
       "  \"/>\n",
       "<polyline clip-path=\"url(#clip400)\" style=\"stroke:#000000; stroke-width:4; stroke-opacity:1; fill:none\" points=\"\n",
       "  179.654,1486.45 2352.76,1486.45 \n",
       "  \"/>\n",
       "<polyline clip-path=\"url(#clip400)\" style=\"stroke:#000000; stroke-width:4; stroke-opacity:1; fill:none\" points=\"\n",
       "  591.401,1486.45 591.401,1469.18 \n",
       "  \"/>\n",
       "<polyline clip-path=\"url(#clip400)\" style=\"stroke:#000000; stroke-width:4; stroke-opacity:1; fill:none\" points=\"\n",
       "  1017.68,1486.45 1017.68,1469.18 \n",
       "  \"/>\n",
       "<polyline clip-path=\"url(#clip400)\" style=\"stroke:#000000; stroke-width:4; stroke-opacity:1; fill:none\" points=\"\n",
       "  1443.96,1486.45 1443.96,1469.18 \n",
       "  \"/>\n",
       "<polyline clip-path=\"url(#clip400)\" style=\"stroke:#000000; stroke-width:4; stroke-opacity:1; fill:none\" points=\"\n",
       "  1870.23,1486.45 1870.23,1469.18 \n",
       "  \"/>\n",
       "<polyline clip-path=\"url(#clip400)\" style=\"stroke:#000000; stroke-width:4; stroke-opacity:1; fill:none\" points=\"\n",
       "  2296.51,1486.45 2296.51,1469.18 \n",
       "  \"/>\n",
       "<path clip-path=\"url(#clip400)\" d=\"M 0 0 M573.716 1515.64 Q570.105 1515.64 568.276 1519.2 Q566.47 1522.75 566.47 1529.87 Q566.47 1536.98 568.276 1540.55 Q570.105 1544.09 573.716 1544.09 Q577.35 1544.09 579.156 1540.55 Q580.984 1536.98 580.984 1529.87 Q580.984 1522.75 579.156 1519.2 Q577.35 1515.64 573.716 1515.64 M573.716 1511.93 Q579.526 1511.93 582.581 1516.54 Q585.66 1521.12 585.66 1529.87 Q585.66 1538.6 582.581 1543.21 Q579.526 1547.79 573.716 1547.79 Q567.906 1547.79 564.827 1543.21 Q561.771 1538.6 561.771 1529.87 Q561.771 1521.12 564.827 1516.54 Q567.906 1511.93 573.716 1511.93 Z\" fill=\"#000000\" fill-rule=\"evenodd\" fill-opacity=\"1\" /><path clip-path=\"url(#clip400)\" d=\"M 0 0 M590.73 1541.24 L595.614 1541.24 L595.614 1547.12 L590.73 1547.12 L590.73 1541.24 Z\" fill=\"#000000\" fill-rule=\"evenodd\" fill-opacity=\"1\" /><path clip-path=\"url(#clip400)\" d=\"M 0 0 M604.711 1543.18 L621.03 1543.18 L621.03 1547.12 L599.086 1547.12 L599.086 1543.18 Q601.748 1540.43 606.331 1535.8 Q610.938 1531.15 612.118 1529.81 Q614.364 1527.28 615.243 1525.55 Q616.146 1523.79 616.146 1522.1 Q616.146 1519.34 614.202 1517.61 Q612.28 1515.87 609.179 1515.87 Q606.98 1515.87 604.526 1516.63 Q602.095 1517.4 599.318 1518.95 L599.318 1514.23 Q602.142 1513.09 604.595 1512.51 Q607.049 1511.93 609.086 1511.93 Q614.456 1511.93 617.651 1514.62 Q620.845 1517.31 620.845 1521.8 Q620.845 1523.93 620.035 1525.85 Q619.248 1527.74 617.141 1530.34 Q616.563 1531.01 613.461 1534.23 Q610.359 1537.42 604.711 1543.18 Z\" fill=\"#000000\" fill-rule=\"evenodd\" fill-opacity=\"1\" /><path clip-path=\"url(#clip400)\" d=\"M 0 0 M998.952 1515.64 Q995.341 1515.64 993.512 1519.2 Q991.706 1522.75 991.706 1529.87 Q991.706 1536.98 993.512 1540.55 Q995.341 1544.09 998.952 1544.09 Q1002.59 1544.09 1004.39 1540.55 Q1006.22 1536.98 1006.22 1529.87 Q1006.22 1522.75 1004.39 1519.2 Q1002.59 1515.64 998.952 1515.64 M998.952 1511.93 Q1004.76 1511.93 1007.82 1516.54 Q1010.9 1521.12 1010.9 1529.87 Q1010.9 1538.6 1007.82 1543.21 Q1004.76 1547.79 998.952 1547.79 Q993.142 1547.79 990.063 1543.21 Q987.007 1538.6 987.007 1529.87 Q987.007 1521.12 990.063 1516.54 Q993.142 1511.93 998.952 1511.93 Z\" fill=\"#000000\" fill-rule=\"evenodd\" fill-opacity=\"1\" /><path clip-path=\"url(#clip400)\" d=\"M 0 0 M1015.97 1541.24 L1020.85 1541.24 L1020.85 1547.12 L1015.97 1547.12 L1015.97 1541.24 Z\" fill=\"#000000\" fill-rule=\"evenodd\" fill-opacity=\"1\" /><path clip-path=\"url(#clip400)\" d=\"M 0 0 M1038.77 1516.63 L1026.96 1535.08 L1038.77 1535.08 L1038.77 1516.63 M1037.54 1512.56 L1043.42 1512.56 L1043.42 1535.08 L1048.35 1535.08 L1048.35 1538.97 L1043.42 1538.97 L1043.42 1547.12 L1038.77 1547.12 L1038.77 1538.97 L1023.16 1538.97 L1023.16 1534.46 L1037.54 1512.56 Z\" fill=\"#000000\" fill-rule=\"evenodd\" fill-opacity=\"1\" /><path clip-path=\"url(#clip400)\" d=\"M 0 0 M1425.39 1515.64 Q1421.78 1515.64 1419.95 1519.2 Q1418.15 1522.75 1418.15 1529.87 Q1418.15 1536.98 1419.95 1540.55 Q1421.78 1544.09 1425.39 1544.09 Q1429.03 1544.09 1430.83 1540.55 Q1432.66 1536.98 1432.66 1529.87 Q1432.66 1522.75 1430.83 1519.2 Q1429.03 1515.64 1425.39 1515.64 M1425.39 1511.93 Q1431.2 1511.93 1434.26 1516.54 Q1437.34 1521.12 1437.34 1529.87 Q1437.34 1538.6 1434.26 1543.21 Q1431.2 1547.79 1425.39 1547.79 Q1419.58 1547.79 1416.5 1543.21 Q1413.45 1538.6 1413.45 1529.87 Q1413.45 1521.12 1416.5 1516.54 Q1419.58 1511.93 1425.39 1511.93 Z\" fill=\"#000000\" fill-rule=\"evenodd\" fill-opacity=\"1\" /><path clip-path=\"url(#clip400)\" d=\"M 0 0 M1442.41 1541.24 L1447.29 1541.24 L1447.29 1547.12 L1442.41 1547.12 L1442.41 1541.24 Z\" fill=\"#000000\" fill-rule=\"evenodd\" fill-opacity=\"1\" /><path clip-path=\"url(#clip400)\" d=\"M 0 0 M1462.94 1527.98 Q1459.79 1527.98 1457.94 1530.13 Q1456.11 1532.28 1456.11 1536.03 Q1456.11 1539.76 1457.94 1541.93 Q1459.79 1544.09 1462.94 1544.09 Q1466.09 1544.09 1467.91 1541.93 Q1469.77 1539.76 1469.77 1536.03 Q1469.77 1532.28 1467.91 1530.13 Q1466.09 1527.98 1462.94 1527.98 M1472.22 1513.32 L1472.22 1517.58 Q1470.46 1516.75 1468.66 1516.31 Q1466.87 1515.87 1465.11 1515.87 Q1460.48 1515.87 1458.03 1519 Q1455.6 1522.12 1455.25 1528.44 Q1456.62 1526.43 1458.68 1525.36 Q1460.74 1524.27 1463.22 1524.27 Q1468.42 1524.27 1471.43 1527.44 Q1474.47 1530.59 1474.47 1536.03 Q1474.47 1541.36 1471.32 1544.57 Q1468.17 1547.79 1462.94 1547.79 Q1456.94 1547.79 1453.77 1543.21 Q1450.6 1538.6 1450.6 1529.87 Q1450.6 1521.68 1454.49 1516.82 Q1458.38 1511.93 1464.93 1511.93 Q1466.69 1511.93 1468.47 1512.28 Q1470.28 1512.63 1472.22 1513.32 Z\" fill=\"#000000\" fill-rule=\"evenodd\" fill-opacity=\"1\" /><path clip-path=\"url(#clip400)\" d=\"M 0 0 M1851.8 1515.64 Q1848.19 1515.64 1846.36 1519.2 Q1844.55 1522.75 1844.55 1529.87 Q1844.55 1536.98 1846.36 1540.55 Q1848.19 1544.09 1851.8 1544.09 Q1855.43 1544.09 1857.24 1540.55 Q1859.06 1536.98 1859.06 1529.87 Q1859.06 1522.75 1857.24 1519.2 Q1855.43 1515.64 1851.8 1515.64 M1851.8 1511.93 Q1857.61 1511.93 1860.66 1516.54 Q1863.74 1521.12 1863.74 1529.87 Q1863.74 1538.6 1860.66 1543.21 Q1857.61 1547.79 1851.8 1547.79 Q1845.99 1547.79 1842.91 1543.21 Q1839.85 1538.6 1839.85 1529.87 Q1839.85 1521.12 1842.91 1516.54 Q1845.99 1511.93 1851.8 1511.93 Z\" fill=\"#000000\" fill-rule=\"evenodd\" fill-opacity=\"1\" /><path clip-path=\"url(#clip400)\" d=\"M 0 0 M1868.81 1541.24 L1873.69 1541.24 L1873.69 1547.12 L1868.81 1547.12 L1868.81 1541.24 Z\" fill=\"#000000\" fill-rule=\"evenodd\" fill-opacity=\"1\" /><path clip-path=\"url(#clip400)\" d=\"M 0 0 M1888.76 1530.71 Q1885.43 1530.71 1883.51 1532.49 Q1881.61 1534.27 1881.61 1537.4 Q1881.61 1540.52 1883.51 1542.31 Q1885.43 1544.09 1888.76 1544.09 Q1892.1 1544.09 1894.02 1542.31 Q1895.94 1540.5 1895.94 1537.4 Q1895.94 1534.27 1894.02 1532.49 Q1892.12 1530.71 1888.76 1530.71 M1884.09 1528.72 Q1881.08 1527.98 1879.39 1525.92 Q1877.72 1523.86 1877.72 1520.89 Q1877.72 1516.75 1880.66 1514.34 Q1883.62 1511.93 1888.76 1511.93 Q1893.93 1511.93 1896.87 1514.34 Q1899.81 1516.75 1899.81 1520.89 Q1899.81 1523.86 1898.12 1525.92 Q1896.45 1527.98 1893.46 1528.72 Q1896.84 1529.5 1898.72 1531.8 Q1900.62 1534.09 1900.62 1537.4 Q1900.62 1542.42 1897.54 1545.11 Q1894.48 1547.79 1888.76 1547.79 Q1883.05 1547.79 1879.97 1545.11 Q1876.91 1542.42 1876.91 1537.4 Q1876.91 1534.09 1878.81 1531.8 Q1880.71 1529.5 1884.09 1528.72 M1882.37 1521.33 Q1882.37 1524.02 1884.04 1525.52 Q1885.73 1527.03 1888.76 1527.03 Q1891.77 1527.03 1893.46 1525.52 Q1895.18 1524.02 1895.18 1521.33 Q1895.18 1518.65 1893.46 1517.14 Q1891.77 1515.64 1888.76 1515.64 Q1885.73 1515.64 1884.04 1517.14 Q1882.37 1518.65 1882.37 1521.33 Z\" fill=\"#000000\" fill-rule=\"evenodd\" fill-opacity=\"1\" /><path clip-path=\"url(#clip400)\" d=\"M 0 0 M2268.41 1543.18 L2276.05 1543.18 L2276.05 1516.82 L2267.74 1518.49 L2267.74 1514.23 L2276 1512.56 L2280.68 1512.56 L2280.68 1543.18 L2288.32 1543.18 L2288.32 1547.12 L2268.41 1547.12 L2268.41 1543.18 Z\" fill=\"#000000\" fill-rule=\"evenodd\" fill-opacity=\"1\" /><path clip-path=\"url(#clip400)\" d=\"M 0 0 M2293.39 1541.24 L2298.27 1541.24 L2298.27 1547.12 L2293.39 1547.12 L2293.39 1541.24 Z\" fill=\"#000000\" fill-rule=\"evenodd\" fill-opacity=\"1\" /><path clip-path=\"url(#clip400)\" d=\"M 0 0 M2313.34 1515.64 Q2309.73 1515.64 2307.9 1519.2 Q2306.09 1522.75 2306.09 1529.87 Q2306.09 1536.98 2307.9 1540.55 Q2309.73 1544.09 2313.34 1544.09 Q2316.97 1544.09 2318.78 1540.55 Q2320.61 1536.98 2320.61 1529.87 Q2320.61 1522.75 2318.78 1519.2 Q2316.97 1515.64 2313.34 1515.64 M2313.34 1511.93 Q2319.15 1511.93 2322.21 1516.54 Q2325.28 1521.12 2325.28 1529.87 Q2325.28 1538.6 2322.21 1543.21 Q2319.15 1547.79 2313.34 1547.79 Q2307.53 1547.79 2304.45 1543.21 Q2301.4 1538.6 2301.4 1529.87 Q2301.4 1521.12 2304.45 1516.54 Q2307.53 1511.93 2313.34 1511.93 Z\" fill=\"#000000\" fill-rule=\"evenodd\" fill-opacity=\"1\" /><polyline clip-path=\"url(#clip402)\" style=\"stroke:#000000; stroke-width:2; stroke-opacity:0.1; fill:none\" points=\"\n",
       "  179.654,1443.03 2352.76,1443.03 \n",
       "  \"/>\n",
       "<polyline clip-path=\"url(#clip402)\" style=\"stroke:#000000; stroke-width:2; stroke-opacity:0.1; fill:none\" points=\"\n",
       "  179.654,1104.58 2352.76,1104.58 \n",
       "  \"/>\n",
       "<polyline clip-path=\"url(#clip402)\" style=\"stroke:#000000; stroke-width:2; stroke-opacity:0.1; fill:none\" points=\"\n",
       "  179.654,766.139 2352.76,766.139 \n",
       "  \"/>\n",
       "<polyline clip-path=\"url(#clip402)\" style=\"stroke:#000000; stroke-width:2; stroke-opacity:0.1; fill:none\" points=\"\n",
       "  179.654,427.695 2352.76,427.695 \n",
       "  \"/>\n",
       "<polyline clip-path=\"url(#clip402)\" style=\"stroke:#000000; stroke-width:2; stroke-opacity:0.1; fill:none\" points=\"\n",
       "  179.654,89.2508 2352.76,89.2508 \n",
       "  \"/>\n",
       "<polyline clip-path=\"url(#clip400)\" style=\"stroke:#000000; stroke-width:4; stroke-opacity:1; fill:none\" points=\"\n",
       "  179.654,1486.45 179.654,47.2441 \n",
       "  \"/>\n",
       "<polyline clip-path=\"url(#clip400)\" style=\"stroke:#000000; stroke-width:4; stroke-opacity:1; fill:none\" points=\"\n",
       "  179.654,1443.03 205.731,1443.03 \n",
       "  \"/>\n",
       "<polyline clip-path=\"url(#clip400)\" style=\"stroke:#000000; stroke-width:4; stroke-opacity:1; fill:none\" points=\"\n",
       "  179.654,1104.58 205.731,1104.58 \n",
       "  \"/>\n",
       "<polyline clip-path=\"url(#clip400)\" style=\"stroke:#000000; stroke-width:4; stroke-opacity:1; fill:none\" points=\"\n",
       "  179.654,766.139 205.731,766.139 \n",
       "  \"/>\n",
       "<polyline clip-path=\"url(#clip400)\" style=\"stroke:#000000; stroke-width:4; stroke-opacity:1; fill:none\" points=\"\n",
       "  179.654,427.695 205.731,427.695 \n",
       "  \"/>\n",
       "<polyline clip-path=\"url(#clip400)\" style=\"stroke:#000000; stroke-width:4; stroke-opacity:1; fill:none\" points=\"\n",
       "  179.654,89.2508 205.731,89.2508 \n",
       "  \"/>\n",
       "<path clip-path=\"url(#clip400)\" d=\"M 0 0 M51.2236 1443.48 L80.8994 1443.48 L80.8994 1447.41 L51.2236 1447.41 L51.2236 1443.48 Z\" fill=\"#000000\" fill-rule=\"evenodd\" fill-opacity=\"1\" /><path clip-path=\"url(#clip400)\" d=\"M 0 0 M86.779 1456.37 L94.4178 1456.37 L94.4178 1430.01 L86.1077 1431.67 L86.1077 1427.41 L94.3715 1425.75 L99.0474 1425.75 L99.0474 1456.37 L106.686 1456.37 L106.686 1460.31 L86.779 1460.31 L86.779 1456.37 Z\" fill=\"#000000\" fill-rule=\"evenodd\" fill-opacity=\"1\" /><path clip-path=\"url(#clip400)\" d=\"M 0 0 M111.756 1454.43 L116.64 1454.43 L116.64 1460.31 L111.756 1460.31 L111.756 1454.43 Z\" fill=\"#000000\" fill-rule=\"evenodd\" fill-opacity=\"1\" /><path clip-path=\"url(#clip400)\" d=\"M 0 0 M131.709 1428.83 Q128.098 1428.83 126.27 1432.39 Q124.464 1435.93 124.464 1443.06 Q124.464 1450.17 126.27 1453.73 Q128.098 1457.28 131.709 1457.28 Q135.344 1457.28 137.149 1453.73 Q138.978 1450.17 138.978 1443.06 Q138.978 1435.93 137.149 1432.39 Q135.344 1428.83 131.709 1428.83 M131.709 1425.12 Q137.519 1425.12 140.575 1429.73 Q143.654 1434.31 143.654 1443.06 Q143.654 1451.79 140.575 1456.4 Q137.519 1460.98 131.709 1460.98 Q125.899 1460.98 122.82 1456.4 Q119.765 1451.79 119.765 1443.06 Q119.765 1434.31 122.82 1429.73 Q125.899 1425.12 131.709 1425.12 Z\" fill=\"#000000\" fill-rule=\"evenodd\" fill-opacity=\"1\" /><path clip-path=\"url(#clip400)\" d=\"M 0 0 M50.9921 1105.03 L80.6679 1105.03 L80.6679 1108.97 L50.9921 1108.97 L50.9921 1105.03 Z\" fill=\"#000000\" fill-rule=\"evenodd\" fill-opacity=\"1\" /><path clip-path=\"url(#clip400)\" d=\"M 0 0 M95.7373 1090.38 Q92.1262 1090.38 90.2975 1093.95 Q88.4919 1097.49 88.4919 1104.62 Q88.4919 1111.72 90.2975 1115.29 Q92.1262 1118.83 95.7373 1118.83 Q99.3715 1118.83 101.177 1115.29 Q103.006 1111.72 103.006 1104.62 Q103.006 1097.49 101.177 1093.95 Q99.3715 1090.38 95.7373 1090.38 M95.7373 1086.68 Q101.547 1086.68 104.603 1091.28 Q107.682 1095.87 107.682 1104.62 Q107.682 1113.35 104.603 1117.95 Q101.547 1122.53 95.7373 1122.53 Q89.9271 1122.53 86.8484 1117.95 Q83.7929 1113.35 83.7929 1104.62 Q83.7929 1095.87 86.8484 1091.28 Q89.9271 1086.68 95.7373 1086.68 Z\" fill=\"#000000\" fill-rule=\"evenodd\" fill-opacity=\"1\" /><path clip-path=\"url(#clip400)\" d=\"M 0 0 M112.751 1115.98 L117.635 1115.98 L117.635 1121.86 L112.751 1121.86 L112.751 1115.98 Z\" fill=\"#000000\" fill-rule=\"evenodd\" fill-opacity=\"1\" /><path clip-path=\"url(#clip400)\" d=\"M 0 0 M122.751 1087.3 L141.107 1087.3 L141.107 1091.24 L127.033 1091.24 L127.033 1099.71 Q128.052 1099.36 129.07 1099.2 Q130.089 1099.02 131.107 1099.02 Q136.894 1099.02 140.274 1102.19 Q143.654 1105.36 143.654 1110.78 Q143.654 1116.35 140.181 1119.46 Q136.709 1122.53 130.39 1122.53 Q128.214 1122.53 125.945 1122.16 Q123.7 1121.79 121.293 1121.05 L121.293 1116.35 Q123.376 1117.49 125.598 1118.04 Q127.82 1118.6 130.297 1118.6 Q134.302 1118.6 136.64 1116.49 Q138.978 1114.39 138.978 1110.78 Q138.978 1107.16 136.64 1105.06 Q134.302 1102.95 130.297 1102.95 Q128.422 1102.95 126.547 1103.37 Q124.695 1103.78 122.751 1104.66 L122.751 1087.3 Z\" fill=\"#000000\" fill-rule=\"evenodd\" fill-opacity=\"1\" /><path clip-path=\"url(#clip400)\" d=\"M 0 0 M94.7419 751.938 Q91.1308 751.938 89.3021 755.503 Q87.4966 759.044 87.4966 766.174 Q87.4966 773.28 89.3021 776.845 Q91.1308 780.387 94.7419 780.387 Q98.3761 780.387 100.182 776.845 Q102.01 773.28 102.01 766.174 Q102.01 759.044 100.182 755.503 Q98.3761 751.938 94.7419 751.938 M94.7419 748.234 Q100.552 748.234 103.608 752.841 Q106.686 757.424 106.686 766.174 Q106.686 774.901 103.608 779.507 Q100.552 784.091 94.7419 784.091 Q88.9317 784.091 85.8531 779.507 Q82.7975 774.901 82.7975 766.174 Q82.7975 757.424 85.8531 752.841 Q88.9317 748.234 94.7419 748.234 Z\" fill=\"#000000\" fill-rule=\"evenodd\" fill-opacity=\"1\" /><path clip-path=\"url(#clip400)\" d=\"M 0 0 M111.756 777.54 L116.64 777.54 L116.64 783.419 L111.756 783.419 L111.756 777.54 Z\" fill=\"#000000\" fill-rule=\"evenodd\" fill-opacity=\"1\" /><path clip-path=\"url(#clip400)\" d=\"M 0 0 M131.709 751.938 Q128.098 751.938 126.27 755.503 Q124.464 759.044 124.464 766.174 Q124.464 773.28 126.27 776.845 Q128.098 780.387 131.709 780.387 Q135.344 780.387 137.149 776.845 Q138.978 773.28 138.978 766.174 Q138.978 759.044 137.149 755.503 Q135.344 751.938 131.709 751.938 M131.709 748.234 Q137.519 748.234 140.575 752.841 Q143.654 757.424 143.654 766.174 Q143.654 774.901 140.575 779.507 Q137.519 784.091 131.709 784.091 Q125.899 784.091 122.82 779.507 Q119.765 774.901 119.765 766.174 Q119.765 757.424 122.82 752.841 Q125.899 748.234 131.709 748.234 Z\" fill=\"#000000\" fill-rule=\"evenodd\" fill-opacity=\"1\" /><path clip-path=\"url(#clip400)\" d=\"M 0 0 M95.7373 413.494 Q92.1262 413.494 90.2975 417.059 Q88.4919 420.6 88.4919 427.73 Q88.4919 434.836 90.2975 438.401 Q92.1262 441.943 95.7373 441.943 Q99.3715 441.943 101.177 438.401 Q103.006 434.836 103.006 427.73 Q103.006 420.6 101.177 417.059 Q99.3715 413.494 95.7373 413.494 M95.7373 409.79 Q101.547 409.79 104.603 414.397 Q107.682 418.98 107.682 427.73 Q107.682 436.457 104.603 441.063 Q101.547 445.646 95.7373 445.646 Q89.9271 445.646 86.8484 441.063 Q83.7929 436.457 83.7929 427.73 Q83.7929 418.98 86.8484 414.397 Q89.9271 409.79 95.7373 409.79 Z\" fill=\"#000000\" fill-rule=\"evenodd\" fill-opacity=\"1\" /><path clip-path=\"url(#clip400)\" d=\"M 0 0 M112.751 439.095 L117.635 439.095 L117.635 444.975 L112.751 444.975 L112.751 439.095 Z\" fill=\"#000000\" fill-rule=\"evenodd\" fill-opacity=\"1\" /><path clip-path=\"url(#clip400)\" d=\"M 0 0 M122.751 410.415 L141.107 410.415 L141.107 414.35 L127.033 414.35 L127.033 422.822 Q128.052 422.475 129.07 422.313 Q130.089 422.128 131.107 422.128 Q136.894 422.128 140.274 425.299 Q143.654 428.471 143.654 433.887 Q143.654 439.466 140.181 442.568 Q136.709 445.646 130.39 445.646 Q128.214 445.646 125.945 445.276 Q123.7 444.906 121.293 444.165 L121.293 439.466 Q123.376 440.6 125.598 441.156 Q127.82 441.711 130.297 441.711 Q134.302 441.711 136.64 439.605 Q138.978 437.498 138.978 433.887 Q138.978 430.276 136.64 428.17 Q134.302 426.063 130.297 426.063 Q128.422 426.063 126.547 426.48 Q124.695 426.896 122.751 427.776 L122.751 410.415 Z\" fill=\"#000000\" fill-rule=\"evenodd\" fill-opacity=\"1\" /><path clip-path=\"url(#clip400)\" d=\"M 0 0 M86.779 102.596 L94.4178 102.596 L94.4178 76.2301 L86.1077 77.8967 L86.1077 73.6375 L94.3715 71.9708 L99.0474 71.9708 L99.0474 102.596 L106.686 102.596 L106.686 106.531 L86.779 106.531 L86.779 102.596 Z\" fill=\"#000000\" fill-rule=\"evenodd\" fill-opacity=\"1\" /><path clip-path=\"url(#clip400)\" d=\"M 0 0 M111.756 100.651 L116.64 100.651 L116.64 106.531 L111.756 106.531 L111.756 100.651 Z\" fill=\"#000000\" fill-rule=\"evenodd\" fill-opacity=\"1\" /><path clip-path=\"url(#clip400)\" d=\"M 0 0 M131.709 75.0495 Q128.098 75.0495 126.27 78.6143 Q124.464 82.156 124.464 89.2856 Q124.464 96.392 126.27 99.9568 Q128.098 103.498 131.709 103.498 Q135.344 103.498 137.149 99.9568 Q138.978 96.392 138.978 89.2856 Q138.978 82.156 137.149 78.6143 Q135.344 75.0495 131.709 75.0495 M131.709 71.3458 Q137.519 71.3458 140.575 75.9523 Q143.654 80.5356 143.654 89.2856 Q143.654 98.0124 140.575 102.619 Q137.519 107.202 131.709 107.202 Q125.899 107.202 122.82 102.619 Q119.765 98.0124 119.765 89.2856 Q119.765 80.5356 122.82 75.9523 Q125.899 71.3458 131.709 71.3458 Z\" fill=\"#000000\" fill-rule=\"evenodd\" fill-opacity=\"1\" /><circle clip-path=\"url(#clip402)\" cx=\"1149.39\" cy=\"1089.04\" r=\"14\" fill=\"#009af9\" fill-rule=\"evenodd\" fill-opacity=\"1\" stroke=\"#000000\" stroke-opacity=\"1\" stroke-width=\"3.2\"/>\n",
       "<circle clip-path=\"url(#clip402)\" cx=\"775.966\" cy=\"1061.37\" r=\"14\" fill=\"#009af9\" fill-rule=\"evenodd\" fill-opacity=\"1\" stroke=\"#000000\" stroke-opacity=\"1\" stroke-width=\"3.2\"/>\n",
       "<circle clip-path=\"url(#clip402)\" cx=\"592.301\" cy=\"372.86\" r=\"14\" fill=\"#009af9\" fill-rule=\"evenodd\" fill-opacity=\"1\" stroke=\"#000000\" stroke-opacity=\"1\" stroke-width=\"3.2\"/>\n",
       "<circle clip-path=\"url(#clip402)\" cx=\"1883.13\" cy=\"1204.05\" r=\"14\" fill=\"#009af9\" fill-rule=\"evenodd\" fill-opacity=\"1\" stroke=\"#000000\" stroke-opacity=\"1\" stroke-width=\"3.2\"/>\n",
       "<circle clip-path=\"url(#clip402)\" cx=\"914.734\" cy=\"1416.5\" r=\"14\" fill=\"#009af9\" fill-rule=\"evenodd\" fill-opacity=\"1\" stroke=\"#000000\" stroke-opacity=\"1\" stroke-width=\"3.2\"/>\n",
       "<circle clip-path=\"url(#clip402)\" cx=\"1783.33\" cy=\"842.537\" r=\"14\" fill=\"#009af9\" fill-rule=\"evenodd\" fill-opacity=\"1\" stroke=\"#000000\" stroke-opacity=\"1\" stroke-width=\"3.2\"/>\n",
       "<circle clip-path=\"url(#clip402)\" cx=\"395.065\" cy=\"96.736\" r=\"14\" fill=\"#009af9\" fill-rule=\"evenodd\" fill-opacity=\"1\" stroke=\"#000000\" stroke-opacity=\"1\" stroke-width=\"3.2\"/>\n",
       "<circle clip-path=\"url(#clip402)\" cx=\"1141.09\" cy=\"1090.69\" r=\"14\" fill=\"#009af9\" fill-rule=\"evenodd\" fill-opacity=\"1\" stroke=\"#000000\" stroke-opacity=\"1\" stroke-width=\"3.2\"/>\n",
       "<circle clip-path=\"url(#clip402)\" cx=\"1894.09\" cy=\"1248.73\" r=\"14\" fill=\"#009af9\" fill-rule=\"evenodd\" fill-opacity=\"1\" stroke=\"#000000\" stroke-opacity=\"1\" stroke-width=\"3.2\"/>\n",
       "<circle clip-path=\"url(#clip402)\" cx=\"2119.06\" cy=\"1352.15\" r=\"14\" fill=\"#009af9\" fill-rule=\"evenodd\" fill-opacity=\"1\" stroke=\"#000000\" stroke-opacity=\"1\" stroke-width=\"3.2\"/>\n",
       "<circle clip-path=\"url(#clip402)\" cx=\"568.701\" cy=\"300.466\" r=\"14\" fill=\"#009af9\" fill-rule=\"evenodd\" fill-opacity=\"1\" stroke=\"#000000\" stroke-opacity=\"1\" stroke-width=\"3.2\"/>\n",
       "<circle clip-path=\"url(#clip402)\" cx=\"1692.24\" cy=\"499.33\" r=\"14\" fill=\"#009af9\" fill-rule=\"evenodd\" fill-opacity=\"1\" stroke=\"#000000\" stroke-opacity=\"1\" stroke-width=\"3.2\"/>\n",
       "<circle clip-path=\"url(#clip402)\" cx=\"2139.22\" cy=\"1311.92\" r=\"14\" fill=\"#009af9\" fill-rule=\"evenodd\" fill-opacity=\"1\" stroke=\"#000000\" stroke-opacity=\"1\" stroke-width=\"3.2\"/>\n",
       "<circle clip-path=\"url(#clip402)\" cx=\"839.341\" cy=\"1265.97\" r=\"14\" fill=\"#009af9\" fill-rule=\"evenodd\" fill-opacity=\"1\" stroke=\"#000000\" stroke-opacity=\"1\" stroke-width=\"3.2\"/>\n",
       "<circle clip-path=\"url(#clip402)\" cx=\"1752.19\" cy=\"718.709\" r=\"14\" fill=\"#009af9\" fill-rule=\"evenodd\" fill-opacity=\"1\" stroke=\"#000000\" stroke-opacity=\"1\" stroke-width=\"3.2\"/>\n",
       "<circle clip-path=\"url(#clip402)\" cx=\"760.816\" cy=\"1015.88\" r=\"14\" fill=\"#009af9\" fill-rule=\"evenodd\" fill-opacity=\"1\" stroke=\"#000000\" stroke-opacity=\"1\" stroke-width=\"3.2\"/>\n",
       "<circle clip-path=\"url(#clip402)\" cx=\"2012.52\" cy=\"1445.72\" r=\"14\" fill=\"#009af9\" fill-rule=\"evenodd\" fill-opacity=\"1\" stroke=\"#000000\" stroke-opacity=\"1\" stroke-width=\"3.2\"/>\n",
       "<circle clip-path=\"url(#clip402)\" cx=\"586.639\" cy=\"370.921\" r=\"14\" fill=\"#009af9\" fill-rule=\"evenodd\" fill-opacity=\"1\" stroke=\"#000000\" stroke-opacity=\"1\" stroke-width=\"3.2\"/>\n",
       "<circle clip-path=\"url(#clip402)\" cx=\"673.802\" cy=\"662.786\" r=\"14\" fill=\"#009af9\" fill-rule=\"evenodd\" fill-opacity=\"1\" stroke=\"#000000\" stroke-opacity=\"1\" stroke-width=\"3.2\"/>\n",
       "<circle clip-path=\"url(#clip402)\" cx=\"1149.65\" cy=\"1088.91\" r=\"14\" fill=\"#009af9\" fill-rule=\"evenodd\" fill-opacity=\"1\" stroke=\"#000000\" stroke-opacity=\"1\" stroke-width=\"3.2\"/>\n",
       "<circle clip-path=\"url(#clip402)\" cx=\"586.999\" cy=\"352.293\" r=\"14\" fill=\"#009af9\" fill-rule=\"evenodd\" fill-opacity=\"1\" stroke=\"#000000\" stroke-opacity=\"1\" stroke-width=\"3.2\"/>\n",
       "<circle clip-path=\"url(#clip402)\" cx=\"431.093\" cy=\"87.9763\" r=\"14\" fill=\"#009af9\" fill-rule=\"evenodd\" fill-opacity=\"1\" stroke=\"#000000\" stroke-opacity=\"1\" stroke-width=\"3.2\"/>\n",
       "<circle clip-path=\"url(#clip402)\" cx=\"922.66\" cy=\"1420.89\" r=\"14\" fill=\"#009af9\" fill-rule=\"evenodd\" fill-opacity=\"1\" stroke=\"#000000\" stroke-opacity=\"1\" stroke-width=\"3.2\"/>\n",
       "<circle clip-path=\"url(#clip402)\" cx=\"2098.19\" cy=\"1383.36\" r=\"14\" fill=\"#009af9\" fill-rule=\"evenodd\" fill-opacity=\"1\" stroke=\"#000000\" stroke-opacity=\"1\" stroke-width=\"3.2\"/>\n",
       "<circle clip-path=\"url(#clip402)\" cx=\"858.028\" cy=\"1310.23\" r=\"14\" fill=\"#009af9\" fill-rule=\"evenodd\" fill-opacity=\"1\" stroke=\"#000000\" stroke-opacity=\"1\" stroke-width=\"3.2\"/>\n",
       "<circle clip-path=\"url(#clip402)\" cx=\"2004.57\" cy=\"1438.83\" r=\"14\" fill=\"#009af9\" fill-rule=\"evenodd\" fill-opacity=\"1\" stroke=\"#000000\" stroke-opacity=\"1\" stroke-width=\"3.2\"/>\n",
       "<circle clip-path=\"url(#clip402)\" cx=\"453.137\" cy=\"94.165\" r=\"14\" fill=\"#009af9\" fill-rule=\"evenodd\" fill-opacity=\"1\" stroke=\"#000000\" stroke-opacity=\"1\" stroke-width=\"3.2\"/>\n",
       "<circle clip-path=\"url(#clip402)\" cx=\"2172.39\" cy=\"1219.3\" r=\"14\" fill=\"#009af9\" fill-rule=\"evenodd\" fill-opacity=\"1\" stroke=\"#000000\" stroke-opacity=\"1\" stroke-width=\"3.2\"/>\n",
       "<circle clip-path=\"url(#clip402)\" cx=\"753.601\" cy=\"980.428\" r=\"14\" fill=\"#009af9\" fill-rule=\"evenodd\" fill-opacity=\"1\" stroke=\"#000000\" stroke-opacity=\"1\" stroke-width=\"3.2\"/>\n",
       "<circle clip-path=\"url(#clip402)\" cx=\"1483.21\" cy=\"93.7083\" r=\"14\" fill=\"#009af9\" fill-rule=\"evenodd\" fill-opacity=\"1\" stroke=\"#000000\" stroke-opacity=\"1\" stroke-width=\"3.2\"/>\n",
       "<circle clip-path=\"url(#clip402)\" cx=\"850.404\" cy=\"1292.29\" r=\"14\" fill=\"#009af9\" fill-rule=\"evenodd\" fill-opacity=\"1\" stroke=\"#000000\" stroke-opacity=\"1\" stroke-width=\"3.2\"/>\n",
       "<circle clip-path=\"url(#clip402)\" cx=\"1811.45\" cy=\"943.257\" r=\"14\" fill=\"#009af9\" fill-rule=\"evenodd\" fill-opacity=\"1\" stroke=\"#000000\" stroke-opacity=\"1\" stroke-width=\"3.2\"/>\n",
       "<circle clip-path=\"url(#clip402)\" cx=\"1991.8\" cy=\"1424.6\" r=\"14\" fill=\"#009af9\" fill-rule=\"evenodd\" fill-opacity=\"1\" stroke=\"#000000\" stroke-opacity=\"1\" stroke-width=\"3.2\"/>\n",
       "<circle clip-path=\"url(#clip402)\" cx=\"2199.29\" cy=\"1127.74\" r=\"14\" fill=\"#009af9\" fill-rule=\"evenodd\" fill-opacity=\"1\" stroke=\"#000000\" stroke-opacity=\"1\" stroke-width=\"3.2\"/>\n",
       "<circle clip-path=\"url(#clip402)\" cx=\"2087.92\" cy=\"1413.62\" r=\"14\" fill=\"#009af9\" fill-rule=\"evenodd\" fill-opacity=\"1\" stroke=\"#000000\" stroke-opacity=\"1\" stroke-width=\"3.2\"/>\n",
       "<circle clip-path=\"url(#clip402)\" cx=\"2112.59\" cy=\"1360.22\" r=\"14\" fill=\"#009af9\" fill-rule=\"evenodd\" fill-opacity=\"1\" stroke=\"#000000\" stroke-opacity=\"1\" stroke-width=\"3.2\"/>\n",
       "<circle clip-path=\"url(#clip402)\" cx=\"1818.02\" cy=\"984.816\" r=\"14\" fill=\"#009af9\" fill-rule=\"evenodd\" fill-opacity=\"1\" stroke=\"#000000\" stroke-opacity=\"1\" stroke-width=\"3.2\"/>\n",
       "<circle clip-path=\"url(#clip402)\" cx=\"1137.14\" cy=\"1117.5\" r=\"14\" fill=\"#009af9\" fill-rule=\"evenodd\" fill-opacity=\"1\" stroke=\"#000000\" stroke-opacity=\"1\" stroke-width=\"3.2\"/>\n",
       "<circle clip-path=\"url(#clip402)\" cx=\"718.243\" cy=\"856.036\" r=\"14\" fill=\"#009af9\" fill-rule=\"evenodd\" fill-opacity=\"1\" stroke=\"#000000\" stroke-opacity=\"1\" stroke-width=\"3.2\"/>\n",
       "<circle clip-path=\"url(#clip402)\" cx=\"1927.9\" cy=\"1315.24\" r=\"14\" fill=\"#009af9\" fill-rule=\"evenodd\" fill-opacity=\"1\" stroke=\"#000000\" stroke-opacity=\"1\" stroke-width=\"3.2\"/>\n",
       "<circle clip-path=\"url(#clip402)\" cx=\"531.637\" cy=\"220.389\" r=\"14\" fill=\"#009af9\" fill-rule=\"evenodd\" fill-opacity=\"1\" stroke=\"#000000\" stroke-opacity=\"1\" stroke-width=\"3.2\"/>\n",
       "<circle clip-path=\"url(#clip402)\" cx=\"1434.52\" cy=\"134.076\" r=\"14\" fill=\"#009af9\" fill-rule=\"evenodd\" fill-opacity=\"1\" stroke=\"#000000\" stroke-opacity=\"1\" stroke-width=\"3.2\"/>\n",
       "<circle clip-path=\"url(#clip402)\" cx=\"899.499\" cy=\"1398.51\" r=\"14\" fill=\"#009af9\" fill-rule=\"evenodd\" fill-opacity=\"1\" stroke=\"#000000\" stroke-opacity=\"1\" stroke-width=\"3.2\"/>\n",
       "<circle clip-path=\"url(#clip402)\" cx=\"684.304\" cy=\"712.877\" r=\"14\" fill=\"#009af9\" fill-rule=\"evenodd\" fill-opacity=\"1\" stroke=\"#000000\" stroke-opacity=\"1\" stroke-width=\"3.2\"/>\n",
       "<circle clip-path=\"url(#clip402)\" cx=\"667.844\" cy=\"641.56\" r=\"14\" fill=\"#009af9\" fill-rule=\"evenodd\" fill-opacity=\"1\" stroke=\"#000000\" stroke-opacity=\"1\" stroke-width=\"3.2\"/>\n",
       "<circle clip-path=\"url(#clip402)\" cx=\"1898.84\" cy=\"1254.94\" r=\"14\" fill=\"#009af9\" fill-rule=\"evenodd\" fill-opacity=\"1\" stroke=\"#000000\" stroke-opacity=\"1\" stroke-width=\"3.2\"/>\n",
       "<circle clip-path=\"url(#clip402)\" cx=\"2177.27\" cy=\"1204.95\" r=\"14\" fill=\"#009af9\" fill-rule=\"evenodd\" fill-opacity=\"1\" stroke=\"#000000\" stroke-opacity=\"1\" stroke-width=\"3.2\"/>\n",
       "<circle clip-path=\"url(#clip402)\" cx=\"2217.59\" cy=\"1068.42\" r=\"14\" fill=\"#009af9\" fill-rule=\"evenodd\" fill-opacity=\"1\" stroke=\"#000000\" stroke-opacity=\"1\" stroke-width=\"3.2\"/>\n",
       "<circle clip-path=\"url(#clip402)\" cx=\"1453.88\" cy=\"121.53\" r=\"14\" fill=\"#009af9\" fill-rule=\"evenodd\" fill-opacity=\"1\" stroke=\"#000000\" stroke-opacity=\"1\" stroke-width=\"3.2\"/>\n",
       "<circle clip-path=\"url(#clip402)\" cx=\"380.345\" cy=\"124.573\" r=\"14\" fill=\"#009af9\" fill-rule=\"evenodd\" fill-opacity=\"1\" stroke=\"#000000\" stroke-opacity=\"1\" stroke-width=\"3.2\"/>\n",
       "<circle clip-path=\"url(#clip402)\" cx=\"624.475\" cy=\"487.064\" r=\"14\" fill=\"#009af9\" fill-rule=\"evenodd\" fill-opacity=\"1\" stroke=\"#000000\" stroke-opacity=\"1\" stroke-width=\"3.2\"/>\n",
       "<circle clip-path=\"url(#clip402)\" cx=\"1905.35\" cy=\"1267.7\" r=\"14\" fill=\"#009af9\" fill-rule=\"evenodd\" fill-opacity=\"1\" stroke=\"#000000\" stroke-opacity=\"1\" stroke-width=\"3.2\"/>\n",
       "<circle clip-path=\"url(#clip402)\" cx=\"732.754\" cy=\"900.203\" r=\"14\" fill=\"#009af9\" fill-rule=\"evenodd\" fill-opacity=\"1\" stroke=\"#000000\" stroke-opacity=\"1\" stroke-width=\"3.2\"/>\n",
       "<circle clip-path=\"url(#clip402)\" cx=\"1418.89\" cy=\"163.956\" r=\"14\" fill=\"#009af9\" fill-rule=\"evenodd\" fill-opacity=\"1\" stroke=\"#000000\" stroke-opacity=\"1\" stroke-width=\"3.2\"/>\n",
       "<circle clip-path=\"url(#clip402)\" cx=\"2288.04\" cy=\"801.123\" r=\"14\" fill=\"#009af9\" fill-rule=\"evenodd\" fill-opacity=\"1\" stroke=\"#000000\" stroke-opacity=\"1\" stroke-width=\"3.2\"/>\n",
       "<circle clip-path=\"url(#clip402)\" cx=\"2121.09\" cy=\"1354.52\" r=\"14\" fill=\"#009af9\" fill-rule=\"evenodd\" fill-opacity=\"1\" stroke=\"#000000\" stroke-opacity=\"1\" stroke-width=\"3.2\"/>\n",
       "<circle clip-path=\"url(#clip402)\" cx=\"2260.87\" cy=\"906.929\" r=\"14\" fill=\"#009af9\" fill-rule=\"evenodd\" fill-opacity=\"1\" stroke=\"#000000\" stroke-opacity=\"1\" stroke-width=\"3.2\"/>\n",
       "<circle clip-path=\"url(#clip402)\" cx=\"1232.13\" cy=\"754.496\" r=\"14\" fill=\"#009af9\" fill-rule=\"evenodd\" fill-opacity=\"1\" stroke=\"#000000\" stroke-opacity=\"1\" stroke-width=\"3.2\"/>\n",
       "<circle clip-path=\"url(#clip402)\" cx=\"1351.98\" cy=\"324.181\" r=\"14\" fill=\"#009af9\" fill-rule=\"evenodd\" fill-opacity=\"1\" stroke=\"#000000\" stroke-opacity=\"1\" stroke-width=\"3.2\"/>\n",
       "<circle clip-path=\"url(#clip402)\" cx=\"558.637\" cy=\"267.29\" r=\"14\" fill=\"#009af9\" fill-rule=\"evenodd\" fill-opacity=\"1\" stroke=\"#000000\" stroke-opacity=\"1\" stroke-width=\"3.2\"/>\n",
       "<circle clip-path=\"url(#clip402)\" cx=\"300.114\" cy=\"283.265\" r=\"14\" fill=\"#009af9\" fill-rule=\"evenodd\" fill-opacity=\"1\" stroke=\"#000000\" stroke-opacity=\"1\" stroke-width=\"3.2\"/>\n",
       "<circle clip-path=\"url(#clip402)\" cx=\"2109.56\" cy=\"1374.7\" r=\"14\" fill=\"#009af9\" fill-rule=\"evenodd\" fill-opacity=\"1\" stroke=\"#000000\" stroke-opacity=\"1\" stroke-width=\"3.2\"/>\n",
       "<circle clip-path=\"url(#clip402)\" cx=\"828.169\" cy=\"1244.73\" r=\"14\" fill=\"#009af9\" fill-rule=\"evenodd\" fill-opacity=\"1\" stroke=\"#000000\" stroke-opacity=\"1\" stroke-width=\"3.2\"/>\n",
       "<circle clip-path=\"url(#clip402)\" cx=\"1842.22\" cy=\"1067.17\" r=\"14\" fill=\"#009af9\" fill-rule=\"evenodd\" fill-opacity=\"1\" stroke=\"#000000\" stroke-opacity=\"1\" stroke-width=\"3.2\"/>\n",
       "<circle clip-path=\"url(#clip402)\" cx=\"1249.45\" cy=\"696.055\" r=\"14\" fill=\"#009af9\" fill-rule=\"evenodd\" fill-opacity=\"1\" stroke=\"#000000\" stroke-opacity=\"1\" stroke-width=\"3.2\"/>\n",
       "<circle clip-path=\"url(#clip402)\" cx=\"658.697\" cy=\"614.227\" r=\"14\" fill=\"#009af9\" fill-rule=\"evenodd\" fill-opacity=\"1\" stroke=\"#000000\" stroke-opacity=\"1\" stroke-width=\"3.2\"/>\n",
       "<circle clip-path=\"url(#clip402)\" cx=\"1950.8\" cy=\"1369.86\" r=\"14\" fill=\"#009af9\" fill-rule=\"evenodd\" fill-opacity=\"1\" stroke=\"#000000\" stroke-opacity=\"1\" stroke-width=\"3.2\"/>\n",
       "<circle clip-path=\"url(#clip402)\" cx=\"562.08\" cy=\"269.202\" r=\"14\" fill=\"#009af9\" fill-rule=\"evenodd\" fill-opacity=\"1\" stroke=\"#000000\" stroke-opacity=\"1\" stroke-width=\"3.2\"/>\n",
       "<circle clip-path=\"url(#clip402)\" cx=\"937.516\" cy=\"1431.77\" r=\"14\" fill=\"#009af9\" fill-rule=\"evenodd\" fill-opacity=\"1\" stroke=\"#000000\" stroke-opacity=\"1\" stroke-width=\"3.2\"/>\n",
       "<circle clip-path=\"url(#clip402)\" cx=\"2005.89\" cy=\"1442.03\" r=\"14\" fill=\"#009af9\" fill-rule=\"evenodd\" fill-opacity=\"1\" stroke=\"#000000\" stroke-opacity=\"1\" stroke-width=\"3.2\"/>\n",
       "<circle clip-path=\"url(#clip402)\" cx=\"1008.75\" cy=\"1424.44\" r=\"14\" fill=\"#009af9\" fill-rule=\"evenodd\" fill-opacity=\"1\" stroke=\"#000000\" stroke-opacity=\"1\" stroke-width=\"3.2\"/>\n",
       "<circle clip-path=\"url(#clip402)\" cx=\"1609.74\" cy=\"227.849\" r=\"14\" fill=\"#009af9\" fill-rule=\"evenodd\" fill-opacity=\"1\" stroke=\"#000000\" stroke-opacity=\"1\" stroke-width=\"3.2\"/>\n",
       "<circle clip-path=\"url(#clip402)\" cx=\"700.443\" cy=\"778.776\" r=\"14\" fill=\"#009af9\" fill-rule=\"evenodd\" fill-opacity=\"1\" stroke=\"#000000\" stroke-opacity=\"1\" stroke-width=\"3.2\"/>\n",
       "<circle clip-path=\"url(#clip402)\" cx=\"1283.41\" cy=\"547.518\" r=\"14\" fill=\"#009af9\" fill-rule=\"evenodd\" fill-opacity=\"1\" stroke=\"#000000\" stroke-opacity=\"1\" stroke-width=\"3.2\"/>\n",
       "<circle clip-path=\"url(#clip402)\" cx=\"1123.63\" cy=\"1156.95\" r=\"14\" fill=\"#009af9\" fill-rule=\"evenodd\" fill-opacity=\"1\" stroke=\"#000000\" stroke-opacity=\"1\" stroke-width=\"3.2\"/>\n",
       "<circle clip-path=\"url(#clip402)\" cx=\"1335.61\" cy=\"368.558\" r=\"14\" fill=\"#009af9\" fill-rule=\"evenodd\" fill-opacity=\"1\" stroke=\"#000000\" stroke-opacity=\"1\" stroke-width=\"3.2\"/>\n",
       "<circle clip-path=\"url(#clip402)\" cx=\"1744.07\" cy=\"686.819\" r=\"14\" fill=\"#009af9\" fill-rule=\"evenodd\" fill-opacity=\"1\" stroke=\"#000000\" stroke-opacity=\"1\" stroke-width=\"3.2\"/>\n",
       "<circle clip-path=\"url(#clip402)\" cx=\"1174.36\" cy=\"984.514\" r=\"14\" fill=\"#009af9\" fill-rule=\"evenodd\" fill-opacity=\"1\" stroke=\"#000000\" stroke-opacity=\"1\" stroke-width=\"3.2\"/>\n",
       "<circle clip-path=\"url(#clip402)\" cx=\"1670.37\" cy=\"405.915\" r=\"14\" fill=\"#009af9\" fill-rule=\"evenodd\" fill-opacity=\"1\" stroke=\"#000000\" stroke-opacity=\"1\" stroke-width=\"3.2\"/>\n",
       "<circle clip-path=\"url(#clip402)\" cx=\"1901.29\" cy=\"1262.59\" r=\"14\" fill=\"#009af9\" fill-rule=\"evenodd\" fill-opacity=\"1\" stroke=\"#000000\" stroke-opacity=\"1\" stroke-width=\"3.2\"/>\n",
       "<circle clip-path=\"url(#clip402)\" cx=\"414.99\" cy=\"96.822\" r=\"14\" fill=\"#009af9\" fill-rule=\"evenodd\" fill-opacity=\"1\" stroke=\"#000000\" stroke-opacity=\"1\" stroke-width=\"3.2\"/>\n",
       "<circle clip-path=\"url(#clip402)\" cx=\"241.157\" cy=\"480.522\" r=\"14\" fill=\"#009af9\" fill-rule=\"evenodd\" fill-opacity=\"1\" stroke=\"#000000\" stroke-opacity=\"1\" stroke-width=\"3.2\"/>\n",
       "<circle clip-path=\"url(#clip402)\" cx=\"1539.45\" cy=\"102.701\" r=\"14\" fill=\"#009af9\" fill-rule=\"evenodd\" fill-opacity=\"1\" stroke=\"#000000\" stroke-opacity=\"1\" stroke-width=\"3.2\"/>\n",
       "<circle clip-path=\"url(#clip402)\" cx=\"703\" cy=\"799.862\" r=\"14\" fill=\"#009af9\" fill-rule=\"evenodd\" fill-opacity=\"1\" stroke=\"#000000\" stroke-opacity=\"1\" stroke-width=\"3.2\"/>\n",
       "<circle clip-path=\"url(#clip402)\" cx=\"946.057\" cy=\"1432.09\" r=\"14\" fill=\"#009af9\" fill-rule=\"evenodd\" fill-opacity=\"1\" stroke=\"#000000\" stroke-opacity=\"1\" stroke-width=\"3.2\"/>\n",
       "<circle clip-path=\"url(#clip402)\" cx=\"1828.85\" cy=\"1015.52\" r=\"14\" fill=\"#009af9\" fill-rule=\"evenodd\" fill-opacity=\"1\" stroke=\"#000000\" stroke-opacity=\"1\" stroke-width=\"3.2\"/>\n",
       "<circle clip-path=\"url(#clip402)\" cx=\"519.474\" cy=\"178.358\" r=\"14\" fill=\"#009af9\" fill-rule=\"evenodd\" fill-opacity=\"1\" stroke=\"#000000\" stroke-opacity=\"1\" stroke-width=\"3.2\"/>\n",
       "<circle clip-path=\"url(#clip402)\" cx=\"325.929\" cy=\"212.88\" r=\"14\" fill=\"#009af9\" fill-rule=\"evenodd\" fill-opacity=\"1\" stroke=\"#000000\" stroke-opacity=\"1\" stroke-width=\"3.2\"/>\n",
       "<circle clip-path=\"url(#clip402)\" cx=\"1351.72\" cy=\"323.074\" r=\"14\" fill=\"#009af9\" fill-rule=\"evenodd\" fill-opacity=\"1\" stroke=\"#000000\" stroke-opacity=\"1\" stroke-width=\"3.2\"/>\n",
       "<circle clip-path=\"url(#clip402)\" cx=\"805.987\" cy=\"1172.18\" r=\"14\" fill=\"#009af9\" fill-rule=\"evenodd\" fill-opacity=\"1\" stroke=\"#000000\" stroke-opacity=\"1\" stroke-width=\"3.2\"/>\n",
       "<circle clip-path=\"url(#clip402)\" cx=\"1881.2\" cy=\"1197.6\" r=\"14\" fill=\"#009af9\" fill-rule=\"evenodd\" fill-opacity=\"1\" stroke=\"#000000\" stroke-opacity=\"1\" stroke-width=\"3.2\"/>\n",
       "<circle clip-path=\"url(#clip402)\" cx=\"716.555\" cy=\"830.139\" r=\"14\" fill=\"#009af9\" fill-rule=\"evenodd\" fill-opacity=\"1\" stroke=\"#000000\" stroke-opacity=\"1\" stroke-width=\"3.2\"/>\n",
       "<circle clip-path=\"url(#clip402)\" cx=\"855.881\" cy=\"1316.14\" r=\"14\" fill=\"#009af9\" fill-rule=\"evenodd\" fill-opacity=\"1\" stroke=\"#000000\" stroke-opacity=\"1\" stroke-width=\"3.2\"/>\n",
       "<circle clip-path=\"url(#clip402)\" cx=\"1800.28\" cy=\"907.676\" r=\"14\" fill=\"#009af9\" fill-rule=\"evenodd\" fill-opacity=\"1\" stroke=\"#000000\" stroke-opacity=\"1\" stroke-width=\"3.2\"/>\n",
       "<circle clip-path=\"url(#clip402)\" cx=\"773.228\" cy=\"1065.9\" r=\"14\" fill=\"#009af9\" fill-rule=\"evenodd\" fill-opacity=\"1\" stroke=\"#000000\" stroke-opacity=\"1\" stroke-width=\"3.2\"/>\n",
       "<circle clip-path=\"url(#clip402)\" cx=\"2291.25\" cy=\"793.49\" r=\"14\" fill=\"#009af9\" fill-rule=\"evenodd\" fill-opacity=\"1\" stroke=\"#000000\" stroke-opacity=\"1\" stroke-width=\"3.2\"/>\n",
       "<circle clip-path=\"url(#clip402)\" cx=\"980.823\" cy=\"1440.16\" r=\"14\" fill=\"#009af9\" fill-rule=\"evenodd\" fill-opacity=\"1\" stroke=\"#000000\" stroke-opacity=\"1\" stroke-width=\"3.2\"/>\n",
       "<circle clip-path=\"url(#clip402)\" cx=\"2016.23\" cy=\"1441.86\" r=\"14\" fill=\"#009af9\" fill-rule=\"evenodd\" fill-opacity=\"1\" stroke=\"#000000\" stroke-opacity=\"1\" stroke-width=\"3.2\"/>\n",
       "<circle clip-path=\"url(#clip402)\" cx=\"683.469\" cy=\"699.744\" r=\"14\" fill=\"#009af9\" fill-rule=\"evenodd\" fill-opacity=\"1\" stroke=\"#000000\" stroke-opacity=\"1\" stroke-width=\"3.2\"/>\n",
       "<circle clip-path=\"url(#clip402)\" cx=\"279.325\" cy=\"354.656\" r=\"14\" fill=\"#009af9\" fill-rule=\"evenodd\" fill-opacity=\"1\" stroke=\"#000000\" stroke-opacity=\"1\" stroke-width=\"3.2\"/>\n",
       "<path clip-path=\"url(#clip400)\" d=\"\n",
       "M1987.85 216.178 L2280.32 216.178 L2280.32 95.2176 L1987.85 95.2176  Z\n",
       "  \" fill=\"#ffffff\" fill-rule=\"evenodd\" fill-opacity=\"1\"/>\n",
       "<polyline clip-path=\"url(#clip400)\" style=\"stroke:#000000; stroke-width:4; stroke-opacity:1; fill:none\" points=\"\n",
       "  1987.85,216.178 2280.32,216.178 2280.32,95.2176 1987.85,95.2176 1987.85,216.178 \n",
       "  \"/>\n",
       "<circle clip-path=\"url(#clip400)\" cx=\"2084.43\" cy=\"155.698\" r=\"23\" fill=\"#009af9\" fill-rule=\"evenodd\" fill-opacity=\"1\" stroke=\"#000000\" stroke-opacity=\"1\" stroke-width=\"5.12\"/>\n",
       "<path clip-path=\"url(#clip400)\" d=\"M 0 0 M2194.85 175.385 Q2193.05 180.015 2191.33 181.427 Q2189.62 182.839 2186.75 182.839 L2183.35 182.839 L2183.35 179.274 L2185.85 179.274 Q2187.61 179.274 2188.58 178.44 Q2189.55 177.607 2190.73 174.505 L2191.5 172.561 L2181.01 147.052 L2185.52 147.052 L2193.63 167.329 L2201.73 147.052 L2206.24 147.052 L2194.85 175.385 Z\" fill=\"#000000\" fill-rule=\"evenodd\" fill-opacity=\"1\" /><path clip-path=\"url(#clip400)\" d=\"M 0 0 M2212.12 169.042 L2219.76 169.042 L2219.76 142.677 L2211.45 144.343 L2211.45 140.084 L2219.71 138.418 L2224.39 138.418 L2224.39 169.042 L2232.03 169.042 L2232.03 172.978 L2212.12 172.978 L2212.12 169.042 Z\" fill=\"#000000\" fill-rule=\"evenodd\" fill-opacity=\"1\" /></svg>\n"
      ]
     },
     "execution_count": 28,
     "metadata": {},
     "output_type": "execute_result"
    }
   ],
   "source": [
    "scatter(dx, dy)"
   ]
  },
  {
   "cell_type": "code",
   "execution_count": 29,
   "metadata": {},
   "outputs": [
    {
     "data": {
      "text/plain": [
       "Chain(Dense(1, 50, σ), Dense(50, 50, σ), Dense(50, 1))"
      ]
     },
     "execution_count": 29,
     "metadata": {},
     "output_type": "execute_result"
    }
   ],
   "source": [
    "m = Chain(Dense(1,50,σ), Dense(50,50,σ), Dense(50,1))"
   ]
  },
  {
   "cell_type": "code",
   "execution_count": 30,
   "metadata": {},
   "outputs": [
    {
     "data": {
      "text/plain": [
       "loss (generic function with 1 method)"
      ]
     },
     "execution_count": 30,
     "metadata": {},
     "output_type": "execute_result"
    }
   ],
   "source": [
    "# loss(x, y) = Flux.mse(m(x), y)\n",
    "loss(x, y) = sum((m(x)-y).^2)"
   ]
  },
  {
   "cell_type": "code",
   "execution_count": 31,
   "metadata": {},
   "outputs": [
    {
     "data": {
      "text/plain": [
       "Params([Float32[-0.2042903; 0.2789504; … ; 0.24610151; 0.0053748684], Float32[0.0, 0.0, 0.0, 0.0, 0.0, 0.0, 0.0, 0.0, 0.0, 0.0  …  0.0, 0.0, 0.0, 0.0, 0.0, 0.0, 0.0, 0.0, 0.0, 0.0], Float32[-0.22780722 -0.12517649 … -0.21947291 0.099005766; 0.0061082714 -0.008108602 … -0.18212621 -0.23627558; … ; -0.11668438 0.025758425 … -0.02511088 0.053137224; 0.16852757 -0.17881206 … -0.11347855 0.13615039], Float32[0.0, 0.0, 0.0, 0.0, 0.0, 0.0, 0.0, 0.0, 0.0, 0.0  …  0.0, 0.0, 0.0, 0.0, 0.0, 0.0, 0.0, 0.0, 0.0, 0.0], Float32[-0.33711937 -0.087203205 … 0.31299534 0.13696118], Float32[0.0]])"
      ]
     },
     "execution_count": 31,
     "metadata": {},
     "output_type": "execute_result"
    }
   ],
   "source": [
    "ps = Flux.params(m)"
   ]
  },
  {
   "cell_type": "code",
   "execution_count": 32,
   "metadata": {},
   "outputs": [
    {
     "data": {
      "text/plain": [
       "100-element Array{Tuple{SArray{Tuple{1},Float64,1,1},SArray{Tuple{1},Float64,1,1}},1}:\n",
       " ([0.4617982443630584], [-0.47703036036820373])\n",
       " ([0.2865937668726859], [-0.4361613171562511])\n",
       " ([0.20042227530905787], [0.5810101432903569])\n",
       " ([0.8060495126358667], [-0.6469503188077546])\n",
       " ([0.35170053763673237], [-0.9608051570618975])\n",
       " ([0.7592271047402688], [-0.11286646127913266])\n",
       " ([0.10788363354103603], [0.9889417642374664])\n",
       " ([0.4579027418542825], [-0.4794731074420633])\n",
       " ([0.8111940819026662], [-0.7129546104849156])\n",
       " ([0.9167449091177822], [-0.865742506394015])\n",
       " ([0.18934980407715374], [0.6879614677834407])\n",
       " ([0.7164884470993578], [0.3941706997157589])\n",
       " ([0.9262045518063236], [-0.8063145198221632])\n",
       " ⋮\n",
       " ([0.556723644295043], [0.6545611940805762])\n",
       " ([0.30067910553757815], [-0.599863802941767])\n",
       " ([0.8051441405312976], [-0.6374137178633217])\n",
       " ([0.25871949068915256], [-0.09454998686984072])\n",
       " ([0.324088056314211], [-0.8125431864293338])\n",
       " ([0.7671775808642394], [-0.20909914717419945])\n",
       " ([0.285309373122667], [-0.44285364089598345])\n",
       " ([0.9975328734386506], [-0.040406645003350346])\n",
       " ([0.3827079959118509], [-0.9957635042593118])\n",
       " ([0.8684982234351728], [-0.998271043441147])\n",
       " ([0.24319631787386164], [0.09808879256995845])\n",
       " ([0.05358096536342316], [0.6079039476875339])"
      ]
     },
     "execution_count": 32,
     "metadata": {},
     "output_type": "execute_result"
    }
   ],
   "source": [
    "data = [(SVector(dx[i]), SVector(dy[i])) for i in 1:length(dx)]"
   ]
  },
  {
   "cell_type": "code",
   "execution_count": 33,
   "metadata": {
    "scrolled": false
   },
   "outputs": [
    {
     "ename": "LoadError",
     "evalue": "\u001b[91mUndefVarError: scatter! not defined\u001b[39m",
     "output_type": "error",
     "traceback": [
      "\u001b[91mUndefVarError: scatter! not defined\u001b[39m",
      "",
      "Stacktrace:",
      " [1] top-level scope at In[33]:5",
      " [2] include_string(::Function, ::Module, ::String, ::String) at ./loading.jl:1091"
     ]
    }
   ],
   "source": [
    "for i in 1:1000\n",
    "    Flux.train!(loss, ps, data, ADAM())\n",
    "    if i%10 == 0\n",
    "        p = plot(sort(dx), x->(sin(4*pi*x)))\n",
    "        scatter!(p, dx, [first(y) for y in m.(d[1] for d in data)])\n",
    "        IJulia.clear_output(true)\n",
    "        display(i)\n",
    "        display(p)\n",
    "    end\n",
    "end"
   ]
  },
  {
   "cell_type": "code",
   "execution_count": null,
   "metadata": {},
   "outputs": [],
   "source": []
  },
  {
   "cell_type": "code",
   "execution_count": null,
   "metadata": {},
   "outputs": [],
   "source": []
  },
  {
   "cell_type": "code",
   "execution_count": 34,
   "metadata": {},
   "outputs": [
    {
     "data": {
      "image/svg+xml": [
       "<?xml version=\"1.0\" encoding=\"utf-8\"?>\n",
       "<svg xmlns=\"http://www.w3.org/2000/svg\" xmlns:xlink=\"http://www.w3.org/1999/xlink\" width=\"600\" height=\"400\" viewBox=\"0 0 2400 1600\">\n",
       "<defs>\n",
       "  <clipPath id=\"clip440\">\n",
       "    <rect x=\"0\" y=\"0\" width=\"2400\" height=\"1600\"/>\n",
       "  </clipPath>\n",
       "</defs>\n",
       "<path clip-path=\"url(#clip440)\" d=\"\n",
       "M0 1600 L2400 1600 L2400 0 L0 0  Z\n",
       "  \" fill=\"#ffffff\" fill-rule=\"evenodd\" fill-opacity=\"1\"/>\n",
       "<defs>\n",
       "  <clipPath id=\"clip441\">\n",
       "    <rect x=\"480\" y=\"0\" width=\"1681\" height=\"1600\"/>\n",
       "  </clipPath>\n",
       "</defs>\n",
       "<path clip-path=\"url(#clip440)\" d=\"\n",
       "M174.862 1486.45 L2352.76 1486.45 L2352.76 47.2441 L174.862 47.2441  Z\n",
       "  \" fill=\"#ffffff\" fill-rule=\"evenodd\" fill-opacity=\"1\"/>\n",
       "<defs>\n",
       "  <clipPath id=\"clip442\">\n",
       "    <rect x=\"174\" y=\"47\" width=\"2179\" height=\"1440\"/>\n",
       "  </clipPath>\n",
       "</defs>\n",
       "<polyline clip-path=\"url(#clip442)\" style=\"stroke:#000000; stroke-width:2; stroke-opacity:0.1; fill:none\" points=\"\n",
       "  441.962,1486.45 441.962,47.2441 \n",
       "  \"/>\n",
       "<polyline clip-path=\"url(#clip442)\" style=\"stroke:#000000; stroke-width:2; stroke-opacity:0.1; fill:none\" points=\"\n",
       "  852.886,1486.45 852.886,47.2441 \n",
       "  \"/>\n",
       "<polyline clip-path=\"url(#clip442)\" style=\"stroke:#000000; stroke-width:2; stroke-opacity:0.1; fill:none\" points=\"\n",
       "  1263.81,1486.45 1263.81,47.2441 \n",
       "  \"/>\n",
       "<polyline clip-path=\"url(#clip442)\" style=\"stroke:#000000; stroke-width:2; stroke-opacity:0.1; fill:none\" points=\"\n",
       "  1674.73,1486.45 1674.73,47.2441 \n",
       "  \"/>\n",
       "<polyline clip-path=\"url(#clip442)\" style=\"stroke:#000000; stroke-width:2; stroke-opacity:0.1; fill:none\" points=\"\n",
       "  2085.66,1486.45 2085.66,47.2441 \n",
       "  \"/>\n",
       "<polyline clip-path=\"url(#clip440)\" style=\"stroke:#000000; stroke-width:4; stroke-opacity:1; fill:none\" points=\"\n",
       "  174.862,1486.45 2352.76,1486.45 \n",
       "  \"/>\n",
       "<polyline clip-path=\"url(#clip440)\" style=\"stroke:#000000; stroke-width:4; stroke-opacity:1; fill:none\" points=\"\n",
       "  441.962,1486.45 441.962,1469.18 \n",
       "  \"/>\n",
       "<polyline clip-path=\"url(#clip440)\" style=\"stroke:#000000; stroke-width:4; stroke-opacity:1; fill:none\" points=\"\n",
       "  852.886,1486.45 852.886,1469.18 \n",
       "  \"/>\n",
       "<polyline clip-path=\"url(#clip440)\" style=\"stroke:#000000; stroke-width:4; stroke-opacity:1; fill:none\" points=\"\n",
       "  1263.81,1486.45 1263.81,1469.18 \n",
       "  \"/>\n",
       "<polyline clip-path=\"url(#clip440)\" style=\"stroke:#000000; stroke-width:4; stroke-opacity:1; fill:none\" points=\"\n",
       "  1674.73,1486.45 1674.73,1469.18 \n",
       "  \"/>\n",
       "<polyline clip-path=\"url(#clip440)\" style=\"stroke:#000000; stroke-width:4; stroke-opacity:1; fill:none\" points=\"\n",
       "  2085.66,1486.45 2085.66,1469.18 \n",
       "  \"/>\n",
       "<path clip-path=\"url(#clip440)\" d=\"M 0 0 M413.374 1530.29 L443.05 1530.29 L443.05 1534.23 L413.374 1534.23 L413.374 1530.29 Z\" fill=\"#000000\" fill-rule=\"evenodd\" fill-opacity=\"1\" /><path clip-path=\"url(#clip440)\" d=\"M 0 0 M460.967 1516.63 L449.161 1535.08 L460.967 1535.08 L460.967 1516.63 M459.74 1512.56 L465.619 1512.56 L465.619 1535.08 L470.55 1535.08 L470.55 1538.97 L465.619 1538.97 L465.619 1547.12 L460.967 1547.12 L460.967 1538.97 L445.365 1538.97 L445.365 1534.46 L459.74 1512.56 Z\" fill=\"#000000\" fill-rule=\"evenodd\" fill-opacity=\"1\" /><path clip-path=\"url(#clip440)\" d=\"M 0 0 M825.339 1530.29 L855.015 1530.29 L855.015 1534.23 L825.339 1534.23 L825.339 1530.29 Z\" fill=\"#000000\" fill-rule=\"evenodd\" fill-opacity=\"1\" /><path clip-path=\"url(#clip440)\" d=\"M 0 0 M864.112 1543.18 L880.432 1543.18 L880.432 1547.12 L858.487 1547.12 L858.487 1543.18 Q861.149 1540.43 865.733 1535.8 Q870.339 1531.15 871.52 1529.81 Q873.765 1527.28 874.645 1525.55 Q875.548 1523.79 875.548 1522.1 Q875.548 1519.34 873.603 1517.61 Q871.682 1515.87 868.58 1515.87 Q866.381 1515.87 863.927 1516.63 Q861.497 1517.4 858.719 1518.95 L858.719 1514.23 Q861.543 1513.09 863.997 1512.51 Q866.45 1511.93 868.487 1511.93 Q873.858 1511.93 877.052 1514.62 Q880.247 1517.31 880.247 1521.8 Q880.247 1523.93 879.436 1525.85 Q878.649 1527.74 876.543 1530.34 Q875.964 1531.01 872.862 1534.23 Q869.761 1537.42 864.112 1543.18 Z\" fill=\"#000000\" fill-rule=\"evenodd\" fill-opacity=\"1\" /><path clip-path=\"url(#clip440)\" d=\"M 0 0 M1263.81 1515.64 Q1260.2 1515.64 1258.37 1519.2 Q1256.56 1522.75 1256.56 1529.87 Q1256.56 1536.98 1258.37 1540.55 Q1260.2 1544.09 1263.81 1544.09 Q1267.44 1544.09 1269.25 1540.55 Q1271.08 1536.98 1271.08 1529.87 Q1271.08 1522.75 1269.25 1519.2 Q1267.44 1515.64 1263.81 1515.64 M1263.81 1511.93 Q1269.62 1511.93 1272.67 1516.54 Q1275.75 1521.12 1275.75 1529.87 Q1275.75 1538.6 1272.67 1543.21 Q1269.62 1547.79 1263.81 1547.79 Q1258 1547.79 1254.92 1543.21 Q1251.86 1538.6 1251.86 1529.87 Q1251.86 1521.12 1254.92 1516.54 Q1258 1511.93 1263.81 1511.93 Z\" fill=\"#000000\" fill-rule=\"evenodd\" fill-opacity=\"1\" /><path clip-path=\"url(#clip440)\" d=\"M 0 0 M1669.39 1543.18 L1685.7 1543.18 L1685.7 1547.12 L1663.76 1547.12 L1663.76 1543.18 Q1666.42 1540.43 1671.01 1535.8 Q1675.61 1531.15 1676.79 1529.81 Q1679.04 1527.28 1679.92 1525.55 Q1680.82 1523.79 1680.82 1522.1 Q1680.82 1519.34 1678.88 1517.61 Q1676.95 1515.87 1673.85 1515.87 Q1671.65 1515.87 1669.2 1516.63 Q1666.77 1517.4 1663.99 1518.95 L1663.99 1514.23 Q1666.82 1513.09 1669.27 1512.51 Q1671.72 1511.93 1673.76 1511.93 Q1679.13 1511.93 1682.32 1514.62 Q1685.52 1517.31 1685.52 1521.8 Q1685.52 1523.93 1684.71 1525.85 Q1683.92 1527.74 1681.82 1530.34 Q1681.24 1531.01 1678.14 1534.23 Q1675.03 1537.42 1669.39 1543.18 Z\" fill=\"#000000\" fill-rule=\"evenodd\" fill-opacity=\"1\" /><path clip-path=\"url(#clip440)\" d=\"M 0 0 M2088.66 1516.63 L2076.86 1535.08 L2088.66 1535.08 L2088.66 1516.63 M2087.44 1512.56 L2093.32 1512.56 L2093.32 1535.08 L2098.25 1535.08 L2098.25 1538.97 L2093.32 1538.97 L2093.32 1547.12 L2088.66 1547.12 L2088.66 1538.97 L2073.06 1538.97 L2073.06 1534.46 L2087.44 1512.56 Z\" fill=\"#000000\" fill-rule=\"evenodd\" fill-opacity=\"1\" /><polyline clip-path=\"url(#clip442)\" style=\"stroke:#000000; stroke-width:2; stroke-opacity:0.1; fill:none\" points=\"\n",
       "  174.862,1446.54 2352.76,1446.54 \n",
       "  \"/>\n",
       "<polyline clip-path=\"url(#clip442)\" style=\"stroke:#000000; stroke-width:2; stroke-opacity:0.1; fill:none\" points=\"\n",
       "  174.862,1106.9 2352.76,1106.9 \n",
       "  \"/>\n",
       "<polyline clip-path=\"url(#clip442)\" style=\"stroke:#000000; stroke-width:2; stroke-opacity:0.1; fill:none\" points=\"\n",
       "  174.862,767.26 2352.76,767.26 \n",
       "  \"/>\n",
       "<polyline clip-path=\"url(#clip442)\" style=\"stroke:#000000; stroke-width:2; stroke-opacity:0.1; fill:none\" points=\"\n",
       "  174.862,427.618 2352.76,427.618 \n",
       "  \"/>\n",
       "<polyline clip-path=\"url(#clip442)\" style=\"stroke:#000000; stroke-width:2; stroke-opacity:0.1; fill:none\" points=\"\n",
       "  174.862,87.9763 2352.76,87.9763 \n",
       "  \"/>\n",
       "<polyline clip-path=\"url(#clip440)\" style=\"stroke:#000000; stroke-width:4; stroke-opacity:1; fill:none\" points=\"\n",
       "  174.862,1486.45 174.862,47.2441 \n",
       "  \"/>\n",
       "<polyline clip-path=\"url(#clip440)\" style=\"stroke:#000000; stroke-width:4; stroke-opacity:1; fill:none\" points=\"\n",
       "  174.862,1446.54 200.997,1446.54 \n",
       "  \"/>\n",
       "<polyline clip-path=\"url(#clip440)\" style=\"stroke:#000000; stroke-width:4; stroke-opacity:1; fill:none\" points=\"\n",
       "  174.862,1106.9 200.997,1106.9 \n",
       "  \"/>\n",
       "<polyline clip-path=\"url(#clip440)\" style=\"stroke:#000000; stroke-width:4; stroke-opacity:1; fill:none\" points=\"\n",
       "  174.862,767.26 200.997,767.26 \n",
       "  \"/>\n",
       "<polyline clip-path=\"url(#clip440)\" style=\"stroke:#000000; stroke-width:4; stroke-opacity:1; fill:none\" points=\"\n",
       "  174.862,427.618 200.997,427.618 \n",
       "  \"/>\n",
       "<polyline clip-path=\"url(#clip440)\" style=\"stroke:#000000; stroke-width:4; stroke-opacity:1; fill:none\" points=\"\n",
       "  174.862,87.9763 200.997,87.9763 \n",
       "  \"/>\n",
       "<path clip-path=\"url(#clip440)\" d=\"M 0 0 M62.9365 1432.34 Q59.3254 1432.34 57.4967 1435.91 Q55.6912 1439.45 55.6912 1446.58 Q55.6912 1453.68 57.4967 1457.25 Q59.3254 1460.79 62.9365 1460.79 Q66.5707 1460.79 68.3763 1457.25 Q70.205 1453.68 70.205 1446.58 Q70.205 1439.45 68.3763 1435.91 Q66.5707 1432.34 62.9365 1432.34 M62.9365 1428.64 Q68.7467 1428.64 71.8022 1433.24 Q74.8809 1437.83 74.8809 1446.58 Q74.8809 1455.3 71.8022 1459.91 Q68.7467 1464.49 62.9365 1464.49 Q57.1264 1464.49 54.0477 1459.91 Q50.9921 1455.3 50.9921 1446.58 Q50.9921 1437.83 54.0477 1433.24 Q57.1264 1428.64 62.9365 1428.64 Z\" fill=\"#000000\" fill-rule=\"evenodd\" fill-opacity=\"1\" /><path clip-path=\"url(#clip440)\" d=\"M 0 0 M79.9503 1457.94 L84.8345 1457.94 L84.8345 1463.82 L79.9503 1463.82 L79.9503 1457.94 Z\" fill=\"#000000\" fill-rule=\"evenodd\" fill-opacity=\"1\" /><path clip-path=\"url(#clip440)\" d=\"M 0 0 M99.9039 1432.34 Q96.2928 1432.34 94.4641 1435.91 Q92.6586 1439.45 92.6586 1446.58 Q92.6586 1453.68 94.4641 1457.25 Q96.2928 1460.79 99.9039 1460.79 Q103.538 1460.79 105.344 1457.25 Q107.172 1453.68 107.172 1446.58 Q107.172 1439.45 105.344 1435.91 Q103.538 1432.34 99.9039 1432.34 M99.9039 1428.64 Q105.714 1428.64 108.77 1433.24 Q111.848 1437.83 111.848 1446.58 Q111.848 1455.3 108.77 1459.91 Q105.714 1464.49 99.9039 1464.49 Q94.0937 1464.49 91.0151 1459.91 Q87.9595 1455.3 87.9595 1446.58 Q87.9595 1437.83 91.0151 1433.24 Q94.0937 1428.64 99.9039 1428.64 Z\" fill=\"#000000\" fill-rule=\"evenodd\" fill-opacity=\"1\" /><path clip-path=\"url(#clip440)\" d=\"M 0 0 M126.918 1432.34 Q123.307 1432.34 121.478 1435.91 Q119.672 1439.45 119.672 1446.58 Q119.672 1453.68 121.478 1457.25 Q123.307 1460.79 126.918 1460.79 Q130.552 1460.79 132.357 1457.25 Q134.186 1453.68 134.186 1446.58 Q134.186 1439.45 132.357 1435.91 Q130.552 1432.34 126.918 1432.34 M126.918 1428.64 Q132.728 1428.64 135.783 1433.24 Q138.862 1437.83 138.862 1446.58 Q138.862 1455.3 135.783 1459.91 Q132.728 1464.49 126.918 1464.49 Q121.107 1464.49 118.029 1459.91 Q114.973 1455.3 114.973 1446.58 Q114.973 1437.83 118.029 1433.24 Q121.107 1428.64 126.918 1428.64 Z\" fill=\"#000000\" fill-rule=\"evenodd\" fill-opacity=\"1\" /><path clip-path=\"url(#clip440)\" d=\"M 0 0 M65.5291 1092.7 Q61.918 1092.7 60.0893 1096.26 Q58.2838 1099.81 58.2838 1106.94 Q58.2838 1114.04 60.0893 1117.61 Q61.918 1121.15 65.5291 1121.15 Q69.1633 1121.15 70.9689 1117.61 Q72.7976 1114.04 72.7976 1106.94 Q72.7976 1099.81 70.9689 1096.26 Q69.1633 1092.7 65.5291 1092.7 M65.5291 1089 Q71.3392 1089 74.3948 1093.6 Q77.4735 1098.19 77.4735 1106.94 Q77.4735 1115.66 74.3948 1120.27 Q71.3392 1124.85 65.5291 1124.85 Q59.7189 1124.85 56.6402 1120.27 Q53.5847 1115.66 53.5847 1106.94 Q53.5847 1098.19 56.6402 1093.6 Q59.7189 1089 65.5291 1089 Z\" fill=\"#000000\" fill-rule=\"evenodd\" fill-opacity=\"1\" /><path clip-path=\"url(#clip440)\" d=\"M 0 0 M82.5429 1118.3 L87.4271 1118.3 L87.4271 1124.18 L82.5429 1124.18 L82.5429 1118.3 Z\" fill=\"#000000\" fill-rule=\"evenodd\" fill-opacity=\"1\" /><path clip-path=\"url(#clip440)\" d=\"M 0 0 M96.5243 1120.25 L112.844 1120.25 L112.844 1124.18 L90.8993 1124.18 L90.8993 1120.25 Q93.5613 1117.49 98.1447 1112.86 Q102.751 1108.21 103.932 1106.87 Q106.177 1104.34 107.057 1102.61 Q107.959 1100.85 107.959 1099.16 Q107.959 1096.4 106.015 1094.67 Q104.094 1092.93 100.992 1092.93 Q98.7928 1092.93 96.3391 1093.7 Q93.9086 1094.46 91.1308 1096.01 L91.1308 1091.29 Q93.9549 1090.15 96.4085 1089.58 Q98.8622 1089 100.899 1089 Q106.27 1089 109.464 1091.68 Q112.658 1094.37 112.658 1098.86 Q112.658 1100.99 111.848 1102.91 Q111.061 1104.81 108.955 1107.4 Q108.376 1108.07 105.274 1111.29 Q102.172 1114.48 96.5243 1120.25 Z\" fill=\"#000000\" fill-rule=\"evenodd\" fill-opacity=\"1\" /><path clip-path=\"url(#clip440)\" d=\"M 0 0 M117.959 1089.62 L136.316 1089.62 L136.316 1093.56 L122.242 1093.56 L122.242 1102.03 Q123.26 1101.68 124.279 1101.52 Q125.297 1101.33 126.316 1101.33 Q132.103 1101.33 135.482 1104.51 Q138.862 1107.68 138.862 1113.09 Q138.862 1118.67 135.39 1121.77 Q131.918 1124.85 125.598 1124.85 Q123.422 1124.85 121.154 1124.48 Q118.908 1124.11 116.501 1123.37 L116.501 1118.67 Q118.584 1119.81 120.807 1120.36 Q123.029 1120.92 125.506 1120.92 Q129.51 1120.92 131.848 1118.81 Q134.186 1116.7 134.186 1113.09 Q134.186 1109.48 131.848 1107.38 Q129.51 1105.27 125.506 1105.27 Q123.631 1105.27 121.756 1105.69 Q119.904 1106.1 117.959 1106.98 L117.959 1089.62 Z\" fill=\"#000000\" fill-rule=\"evenodd\" fill-opacity=\"1\" /><path clip-path=\"url(#clip440)\" d=\"M 0 0 M63.9319 753.058 Q60.3208 753.058 58.4921 756.623 Q56.6865 760.165 56.6865 767.294 Q56.6865 774.401 58.4921 777.966 Q60.3208 781.507 63.9319 781.507 Q67.5661 781.507 69.3717 777.966 Q71.2004 774.401 71.2004 767.294 Q71.2004 760.165 69.3717 756.623 Q67.5661 753.058 63.9319 753.058 M63.9319 749.355 Q69.742 749.355 72.7976 753.961 Q75.8763 758.544 75.8763 767.294 Q75.8763 776.021 72.7976 780.628 Q69.742 785.211 63.9319 785.211 Q58.1217 785.211 55.043 780.628 Q51.9875 776.021 51.9875 767.294 Q51.9875 758.544 55.043 753.961 Q58.1217 749.355 63.9319 749.355 Z\" fill=\"#000000\" fill-rule=\"evenodd\" fill-opacity=\"1\" /><path clip-path=\"url(#clip440)\" d=\"M 0 0 M80.9457 778.66 L85.8299 778.66 L85.8299 784.54 L80.9457 784.54 L80.9457 778.66 Z\" fill=\"#000000\" fill-rule=\"evenodd\" fill-opacity=\"1\" /><path clip-path=\"url(#clip440)\" d=\"M 0 0 M90.9456 749.98 L109.302 749.98 L109.302 753.915 L95.228 753.915 L95.228 762.387 Q96.2465 762.04 97.265 761.878 Q98.2835 761.693 99.3021 761.693 Q105.089 761.693 108.469 764.864 Q111.848 768.035 111.848 773.452 Q111.848 779.03 108.376 782.132 Q104.904 785.211 98.5845 785.211 Q96.4085 785.211 94.14 784.841 Q91.8947 784.47 89.4873 783.729 L89.4873 779.03 Q91.5706 780.165 93.7928 780.72 Q96.015 781.276 98.4919 781.276 Q102.496 781.276 104.834 779.169 Q107.172 777.063 107.172 773.452 Q107.172 769.841 104.834 767.734 Q102.496 765.628 98.4919 765.628 Q96.6169 765.628 94.7419 766.044 Q92.89 766.461 90.9456 767.341 L90.9456 749.98 Z\" fill=\"#000000\" fill-rule=\"evenodd\" fill-opacity=\"1\" /><path clip-path=\"url(#clip440)\" d=\"M 0 0 M126.918 753.058 Q123.307 753.058 121.478 756.623 Q119.672 760.165 119.672 767.294 Q119.672 774.401 121.478 777.966 Q123.307 781.507 126.918 781.507 Q130.552 781.507 132.357 777.966 Q134.186 774.401 134.186 767.294 Q134.186 760.165 132.357 756.623 Q130.552 753.058 126.918 753.058 M126.918 749.355 Q132.728 749.355 135.783 753.961 Q138.862 758.544 138.862 767.294 Q138.862 776.021 135.783 780.628 Q132.728 785.211 126.918 785.211 Q121.107 785.211 118.029 780.628 Q114.973 776.021 114.973 767.294 Q114.973 758.544 118.029 753.961 Q121.107 749.355 126.918 749.355 Z\" fill=\"#000000\" fill-rule=\"evenodd\" fill-opacity=\"1\" /><path clip-path=\"url(#clip440)\" d=\"M 0 0 M64.8346 413.417 Q61.2236 413.417 59.3949 416.981 Q57.5893 420.523 57.5893 427.653 Q57.5893 434.759 59.3949 438.324 Q61.2236 441.866 64.8346 441.866 Q68.4689 441.866 70.2744 438.324 Q72.1031 434.759 72.1031 427.653 Q72.1031 420.523 70.2744 416.981 Q68.4689 413.417 64.8346 413.417 M64.8346 409.713 Q70.6448 409.713 73.7003 414.319 Q76.779 418.903 76.779 427.653 Q76.779 436.379 73.7003 440.986 Q70.6448 445.569 64.8346 445.569 Q59.0245 445.569 55.9458 440.986 Q52.8903 436.379 52.8903 427.653 Q52.8903 418.903 55.9458 414.319 Q59.0245 409.713 64.8346 409.713 Z\" fill=\"#000000\" fill-rule=\"evenodd\" fill-opacity=\"1\" /><path clip-path=\"url(#clip440)\" d=\"M 0 0 M81.8484 439.018 L86.7327 439.018 L86.7327 444.898 L81.8484 444.898 L81.8484 439.018 Z\" fill=\"#000000\" fill-rule=\"evenodd\" fill-opacity=\"1\" /><path clip-path=\"url(#clip440)\" d=\"M 0 0 M90.6215 410.338 L112.844 410.338 L112.844 412.329 L100.297 444.898 L95.4132 444.898 L107.219 414.273 L90.6215 414.273 L90.6215 410.338 Z\" fill=\"#000000\" fill-rule=\"evenodd\" fill-opacity=\"1\" /><path clip-path=\"url(#clip440)\" d=\"M 0 0 M117.959 410.338 L136.316 410.338 L136.316 414.273 L122.242 414.273 L122.242 422.745 Q123.26 422.398 124.279 422.236 Q125.297 422.051 126.316 422.051 Q132.103 422.051 135.482 425.222 Q138.862 428.393 138.862 433.81 Q138.862 439.389 135.39 442.491 Q131.918 445.569 125.598 445.569 Q123.422 445.569 121.154 445.199 Q118.908 444.829 116.501 444.088 L116.501 439.389 Q118.584 440.523 120.807 441.079 Q123.029 441.634 125.506 441.634 Q129.51 441.634 131.848 439.528 Q134.186 437.421 134.186 433.81 Q134.186 430.199 131.848 428.092 Q129.51 425.986 125.506 425.986 Q123.631 425.986 121.756 426.403 Q119.904 426.819 117.959 427.699 L117.959 410.338 Z\" fill=\"#000000\" fill-rule=\"evenodd\" fill-opacity=\"1\" /><path clip-path=\"url(#clip440)\" d=\"M 0 0 M54.9736 101.321 L62.6124 101.321 L62.6124 74.9555 L54.3023 76.6222 L54.3023 72.3629 L62.5661 70.6963 L67.242 70.6963 L67.242 101.321 L74.8809 101.321 L74.8809 105.256 L54.9736 105.256 L54.9736 101.321 Z\" fill=\"#000000\" fill-rule=\"evenodd\" fill-opacity=\"1\" /><path clip-path=\"url(#clip440)\" d=\"M 0 0 M79.9503 99.3767 L84.8345 99.3767 L84.8345 105.256 L79.9503 105.256 L79.9503 99.3767 Z\" fill=\"#000000\" fill-rule=\"evenodd\" fill-opacity=\"1\" /><path clip-path=\"url(#clip440)\" d=\"M 0 0 M99.9039 73.775 Q96.2928 73.775 94.4641 77.3398 Q92.6586 80.8814 92.6586 88.011 Q92.6586 95.1174 94.4641 98.6822 Q96.2928 102.224 99.9039 102.224 Q103.538 102.224 105.344 98.6822 Q107.172 95.1174 107.172 88.011 Q107.172 80.8814 105.344 77.3398 Q103.538 73.775 99.9039 73.775 M99.9039 70.0713 Q105.714 70.0713 108.77 74.6777 Q111.848 79.261 111.848 88.011 Q111.848 96.7378 108.77 101.344 Q105.714 105.928 99.9039 105.928 Q94.0937 105.928 91.0151 101.344 Q87.9595 96.7378 87.9595 88.011 Q87.9595 79.261 91.0151 74.6777 Q94.0937 70.0713 99.9039 70.0713 Z\" fill=\"#000000\" fill-rule=\"evenodd\" fill-opacity=\"1\" /><path clip-path=\"url(#clip440)\" d=\"M 0 0 M126.918 73.775 Q123.307 73.775 121.478 77.3398 Q119.672 80.8814 119.672 88.011 Q119.672 95.1174 121.478 98.6822 Q123.307 102.224 126.918 102.224 Q130.552 102.224 132.357 98.6822 Q134.186 95.1174 134.186 88.011 Q134.186 80.8814 132.357 77.3398 Q130.552 73.775 126.918 73.775 M126.918 70.0713 Q132.728 70.0713 135.783 74.6777 Q138.862 79.261 138.862 88.011 Q138.862 96.7378 135.783 101.344 Q132.728 105.928 126.918 105.928 Q121.107 105.928 118.029 101.344 Q114.973 96.7378 114.973 88.011 Q114.973 79.261 118.029 74.6777 Q121.107 70.0713 126.918 70.0713 Z\" fill=\"#000000\" fill-rule=\"evenodd\" fill-opacity=\"1\" /><polyline clip-path=\"url(#clip442)\" style=\"stroke:#009af9; stroke-width:4; stroke-opacity:1; fill:none\" points=\"\n",
       "  236.501,87.9763 256.566,87.9763 442.096,87.9763 553.591,87.9763 647.86,87.9763 750.262,87.9763 844.667,87.9763 895.273,87.9763 945.879,87.9763 975.196,87.9763 \n",
       "  1004.51,87.9763 1019.17,87.9763 1033.83,87.9763 1041.16,87.9763 1048.49,87.9763 1052.15,87.9763 1055.82,87.9763 1057.65,87.9763 1059.48,102.91 1061.31,126.899 \n",
       "  1063.14,150.673 1069.66,233.43 1076.17,313.457 1082.68,390.754 1089.2,465.32 1102.22,606.261 1115.25,736.281 1128.28,855.378 1141.3,963.553 1154.33,1060.81 \n",
       "  1167.36,1147.14 1178.78,1213.86 1190.2,1272.17 1201.62,1322.09 1213.05,1363.62 1224.47,1396.74 1235.89,1421.46 1247.32,1437.79 1258.74,1445.72 1271.19,1444.79 \n",
       "  1283.65,1433.88 1296.1,1412.98 1308.56,1382.11 1321.01,1341.25 1333.46,1290.4 1345.92,1229.57 1358.37,1158.76 1370.9,1077.46 1383.43,986.055 1395.96,884.547 \n",
       "  1408.48,772.936 1421.01,651.223 1433.54,519.408 1446.07,377.49 1458.6,225.471 1462.06,181.669 1465.52,137.096 1467.25,114.52 1468.99,91.7508 1470.72,87.9763 \n",
       "  1472.45,87.9763 1479.37,87.9763 1486.3,87.9763 1500.15,87.9763 1514,87.9763 1541.71,87.9763 1569.41,87.9763 1622.13,87.9763 1674.84,87.9763 1784.47,87.9763 \n",
       "  1876.75,87.9763 1989.42,87.9763 2095.33,87.9763 2265,87.9763 2291.12,87.9763 \n",
       "  \"/>\n",
       "<path clip-path=\"url(#clip440)\" d=\"\n",
       "M1987.15 216.178 L2280.16 216.178 L2280.16 95.2176 L1987.15 95.2176  Z\n",
       "  \" fill=\"#ffffff\" fill-rule=\"evenodd\" fill-opacity=\"1\"/>\n",
       "<polyline clip-path=\"url(#clip440)\" style=\"stroke:#000000; stroke-width:4; stroke-opacity:1; fill:none\" points=\"\n",
       "  1987.15,216.178 2280.16,216.178 2280.16,95.2176 1987.15,95.2176 1987.15,216.178 \n",
       "  \"/>\n",
       "<polyline clip-path=\"url(#clip440)\" style=\"stroke:#009af9; stroke-width:4; stroke-opacity:1; fill:none\" points=\"\n",
       "  2011.35,155.698 2156.54,155.698 \n",
       "  \"/>\n",
       "<path clip-path=\"url(#clip440)\" d=\"M 0 0 M2194.59 175.385 Q2192.78 180.015 2191.07 181.427 Q2189.35 182.839 2186.48 182.839 L2183.08 182.839 L2183.08 179.274 L2185.58 179.274 Q2187.34 179.274 2188.31 178.44 Q2189.29 177.607 2190.47 174.505 L2191.23 172.561 L2180.74 147.052 L2185.26 147.052 L2193.36 167.329 L2201.46 147.052 L2205.97 147.052 L2194.59 175.385 Z\" fill=\"#000000\" fill-rule=\"evenodd\" fill-opacity=\"1\" /><path clip-path=\"url(#clip440)\" d=\"M 0 0 M2211.85 169.042 L2219.49 169.042 L2219.49 142.677 L2211.18 144.343 L2211.18 140.084 L2219.45 138.418 L2224.12 138.418 L2224.12 169.042 L2231.76 169.042 L2231.76 172.978 L2211.85 172.978 L2211.85 169.042 Z\" fill=\"#000000\" fill-rule=\"evenodd\" fill-opacity=\"1\" /></svg>\n"
      ]
     },
     "execution_count": 34,
     "metadata": {},
     "output_type": "execute_result"
    }
   ],
   "source": [
    "mynl(x) = min(1.0, max(0.0, x^2))\n",
    "plot(mynl)"
   ]
  },
  {
   "cell_type": "code",
   "execution_count": 35,
   "metadata": {},
   "outputs": [
    {
     "data": {
      "text/plain": [
       "Chain(Dense(1, 50, mynl), Dense(50, 50, mynl), Dense(50, 1))"
      ]
     },
     "execution_count": 35,
     "metadata": {},
     "output_type": "execute_result"
    }
   ],
   "source": [
    "m = Chain(Dense(1,50,mynl), Dense(50,50,mynl), Dense(50,1))"
   ]
  },
  {
   "cell_type": "code",
   "execution_count": null,
   "metadata": {},
   "outputs": [],
   "source": []
  },
  {
   "cell_type": "code",
   "execution_count": null,
   "metadata": {},
   "outputs": [],
   "source": []
  },
  {
   "cell_type": "code",
   "execution_count": 36,
   "metadata": {},
   "outputs": [
    {
     "data": {
      "text/html": [
       "(::<b>Type{Dense}</b>)(in::<b>Integer</b>, out::<b>Integer</b>, σ; <i>initW, initb</i>) in Flux at <a href=\"file:///home/zach/.julia/packages/Flux/goUGu/src/layers/basic.jl\" target=\"_blank\">/home/zach/.julia/packages/Flux/goUGu/src/layers/basic.jl:114</a>"
      ],
      "text/plain": [
       "(::Type{Dense})(in::Integer, out::Integer, σ; initW, initb) in Flux at /home/zach/.julia/packages/Flux/goUGu/src/layers/basic.jl:114"
      ]
     },
     "execution_count": 36,
     "metadata": {},
     "output_type": "execute_result"
    }
   ],
   "source": [
    "@which Dense(50,50, σ)"
   ]
  },
  {
   "cell_type": "code",
   "execution_count": null,
   "metadata": {},
   "outputs": [],
   "source": []
  },
  {
   "cell_type": "code",
   "execution_count": 37,
   "metadata": {},
   "outputs": [],
   "source": [
    "using Zygote"
   ]
  },
  {
   "cell_type": "code",
   "execution_count": 38,
   "metadata": {},
   "outputs": [
    {
     "data": {
      "text/plain": [
       "f (generic function with 1 method)"
      ]
     },
     "execution_count": 38,
     "metadata": {},
     "output_type": "execute_result"
    }
   ],
   "source": [
    "f(x) = 5x+3"
   ]
  },
  {
   "cell_type": "code",
   "execution_count": 39,
   "metadata": {},
   "outputs": [
    {
     "data": {
      "text/plain": [
       "5"
      ]
     },
     "execution_count": 39,
     "metadata": {},
     "output_type": "execute_result"
    }
   ],
   "source": [
    "f'(10)"
   ]
  },
  {
   "cell_type": "code",
   "execution_count": 40,
   "metadata": {},
   "outputs": [
    {
     "name": "stdout",
     "output_type": "stream",
     "text": [
      "\n",
      ";  @ /home/zach/.julia/packages/Zygote/KpME9/src/compiler/interface.jl:52 within `#43'\n",
      "define i64 @\"julia_#43_8180\"(i64) {\n",
      "top:\n",
      "  ret i64 5\n",
      "}\n"
     ]
    }
   ],
   "source": [
    "@code_llvm f'(1)"
   ]
  },
  {
   "cell_type": "code",
   "execution_count": 41,
   "metadata": {},
   "outputs": [
    {
     "data": {
      "text/plain": [
       "g (generic function with 1 method)"
      ]
     },
     "execution_count": 41,
     "metadata": {},
     "output_type": "execute_result"
    }
   ],
   "source": [
    "function g(x)\n",
    "    y = zero(x)\n",
    "    for i in 1:10\n",
    "        y += x\n",
    "    end\n",
    "    return y\n",
    "end"
   ]
  },
  {
   "cell_type": "code",
   "execution_count": 42,
   "metadata": {},
   "outputs": [
    {
     "data": {
      "text/plain": [
       "10"
      ]
     },
     "execution_count": 42,
     "metadata": {},
     "output_type": "execute_result"
    }
   ],
   "source": [
    "g'(5)"
   ]
  },
  {
   "cell_type": "code",
   "execution_count": 43,
   "metadata": {},
   "outputs": [
    {
     "data": {
      "text/plain": [
       "BenchmarkTools.Trial: \n",
       "  memory estimate:  3.84 KiB\n",
       "  allocs estimate:  88\n",
       "  --------------\n",
       "  minimum time:     6.905 μs (0.00% GC)\n",
       "  median time:      8.071 μs (0.00% GC)\n",
       "  mean time:        8.941 μs (6.71% GC)\n",
       "  maximum time:     3.064 ms (99.44% GC)\n",
       "  --------------\n",
       "  samples:          10000\n",
       "  evals/sample:     4"
      ]
     },
     "execution_count": 43,
     "metadata": {},
     "output_type": "execute_result"
    }
   ],
   "source": [
    "using BenchmarkTools\n",
    "@benchmark g'(5)"
   ]
  },
  {
   "cell_type": "code",
   "execution_count": 44,
   "metadata": {},
   "outputs": [
    {
     "data": {
      "text/plain": [
       "BenchmarkTools.Trial: \n",
       "  memory estimate:  0 bytes\n",
       "  allocs estimate:  0\n",
       "  --------------\n",
       "  minimum time:     2.118 ns (0.00% GC)\n",
       "  median time:      2.288 ns (0.00% GC)\n",
       "  mean time:        2.464 ns (0.00% GC)\n",
       "  maximum time:     53.000 ns (0.00% GC)\n",
       "  --------------\n",
       "  samples:          10000\n",
       "  evals/sample:     1000"
      ]
     },
     "execution_count": 44,
     "metadata": {},
     "output_type": "execute_result"
    }
   ],
   "source": [
    "@benchmark g(5)"
   ]
  },
  {
   "cell_type": "code",
   "execution_count": null,
   "metadata": {},
   "outputs": [],
   "source": []
  },
  {
   "cell_type": "code",
   "execution_count": 45,
   "metadata": {},
   "outputs": [
    {
     "data": {
      "image/svg+xml": [
       "<?xml version=\"1.0\" encoding=\"utf-8\"?>\n",
       "<svg xmlns=\"http://www.w3.org/2000/svg\" xmlns:xlink=\"http://www.w3.org/1999/xlink\" width=\"600\" height=\"400\" viewBox=\"0 0 2400 1600\">\n",
       "<defs>\n",
       "  <clipPath id=\"clip480\">\n",
       "    <rect x=\"0\" y=\"0\" width=\"2400\" height=\"1600\"/>\n",
       "  </clipPath>\n",
       "</defs>\n",
       "<path clip-path=\"url(#clip480)\" d=\"\n",
       "M0 1600 L2400 1600 L2400 0 L0 0  Z\n",
       "  \" fill=\"#ffffff\" fill-rule=\"evenodd\" fill-opacity=\"1\"/>\n",
       "<defs>\n",
       "  <clipPath id=\"clip481\">\n",
       "    <rect x=\"480\" y=\"0\" width=\"1681\" height=\"1600\"/>\n",
       "  </clipPath>\n",
       "</defs>\n",
       "<path clip-path=\"url(#clip480)\" d=\"\n",
       "M174.862 1486.45 L2352.76 1486.45 L2352.76 47.2441 L174.862 47.2441  Z\n",
       "  \" fill=\"#ffffff\" fill-rule=\"evenodd\" fill-opacity=\"1\"/>\n",
       "<defs>\n",
       "  <clipPath id=\"clip482\">\n",
       "    <rect x=\"174\" y=\"47\" width=\"2179\" height=\"1440\"/>\n",
       "  </clipPath>\n",
       "</defs>\n",
       "<polyline clip-path=\"url(#clip482)\" style=\"stroke:#000000; stroke-width:2; stroke-opacity:0.1; fill:none\" points=\"\n",
       "  236.501,1486.45 236.501,47.2441 \n",
       "  \"/>\n",
       "<polyline clip-path=\"url(#clip482)\" style=\"stroke:#000000; stroke-width:2; stroke-opacity:0.1; fill:none\" points=\"\n",
       "  750.155,1486.45 750.155,47.2441 \n",
       "  \"/>\n",
       "<polyline clip-path=\"url(#clip482)\" style=\"stroke:#000000; stroke-width:2; stroke-opacity:0.1; fill:none\" points=\"\n",
       "  1263.81,1486.45 1263.81,47.2441 \n",
       "  \"/>\n",
       "<polyline clip-path=\"url(#clip482)\" style=\"stroke:#000000; stroke-width:2; stroke-opacity:0.1; fill:none\" points=\"\n",
       "  1777.46,1486.45 1777.46,47.2441 \n",
       "  \"/>\n",
       "<polyline clip-path=\"url(#clip482)\" style=\"stroke:#000000; stroke-width:2; stroke-opacity:0.1; fill:none\" points=\"\n",
       "  2291.12,1486.45 2291.12,47.2441 \n",
       "  \"/>\n",
       "<polyline clip-path=\"url(#clip480)\" style=\"stroke:#000000; stroke-width:4; stroke-opacity:1; fill:none\" points=\"\n",
       "  174.862,1486.45 2352.76,1486.45 \n",
       "  \"/>\n",
       "<polyline clip-path=\"url(#clip480)\" style=\"stroke:#000000; stroke-width:4; stroke-opacity:1; fill:none\" points=\"\n",
       "  236.501,1486.45 236.501,1469.18 \n",
       "  \"/>\n",
       "<polyline clip-path=\"url(#clip480)\" style=\"stroke:#000000; stroke-width:4; stroke-opacity:1; fill:none\" points=\"\n",
       "  750.155,1486.45 750.155,1469.18 \n",
       "  \"/>\n",
       "<polyline clip-path=\"url(#clip480)\" style=\"stroke:#000000; stroke-width:4; stroke-opacity:1; fill:none\" points=\"\n",
       "  1263.81,1486.45 1263.81,1469.18 \n",
       "  \"/>\n",
       "<polyline clip-path=\"url(#clip480)\" style=\"stroke:#000000; stroke-width:4; stroke-opacity:1; fill:none\" points=\"\n",
       "  1777.46,1486.45 1777.46,1469.18 \n",
       "  \"/>\n",
       "<polyline clip-path=\"url(#clip480)\" style=\"stroke:#000000; stroke-width:4; stroke-opacity:1; fill:none\" points=\"\n",
       "  2291.12,1486.45 2291.12,1469.18 \n",
       "  \"/>\n",
       "<path clip-path=\"url(#clip480)\" d=\"M 0 0 M218.017 1515.64 Q214.406 1515.64 212.577 1519.2 Q210.772 1522.75 210.772 1529.87 Q210.772 1536.98 212.577 1540.55 Q214.406 1544.09 218.017 1544.09 Q221.651 1544.09 223.457 1540.55 Q225.285 1536.98 225.285 1529.87 Q225.285 1522.75 223.457 1519.2 Q221.651 1515.64 218.017 1515.64 M218.017 1511.93 Q223.827 1511.93 226.883 1516.54 Q229.961 1521.12 229.961 1529.87 Q229.961 1538.6 226.883 1543.21 Q223.827 1547.79 218.017 1547.79 Q212.207 1547.79 209.128 1543.21 Q206.072 1538.6 206.072 1529.87 Q206.072 1521.12 209.128 1516.54 Q212.207 1511.93 218.017 1511.93 Z\" fill=\"#000000\" fill-rule=\"evenodd\" fill-opacity=\"1\" /><path clip-path=\"url(#clip480)\" d=\"M 0 0 M235.031 1541.24 L239.915 1541.24 L239.915 1547.12 L235.031 1547.12 L235.031 1541.24 Z\" fill=\"#000000\" fill-rule=\"evenodd\" fill-opacity=\"1\" /><path clip-path=\"url(#clip480)\" d=\"M 0 0 M254.984 1515.64 Q251.373 1515.64 249.544 1519.2 Q247.739 1522.75 247.739 1529.87 Q247.739 1536.98 249.544 1540.55 Q251.373 1544.09 254.984 1544.09 Q258.618 1544.09 260.424 1540.55 Q262.253 1536.98 262.253 1529.87 Q262.253 1522.75 260.424 1519.2 Q258.618 1515.64 254.984 1515.64 M254.984 1511.93 Q260.794 1511.93 263.85 1516.54 Q266.929 1521.12 266.929 1529.87 Q266.929 1538.6 263.85 1543.21 Q260.794 1547.79 254.984 1547.79 Q249.174 1547.79 246.095 1543.21 Q243.04 1538.6 243.04 1529.87 Q243.04 1521.12 246.095 1516.54 Q249.174 1511.93 254.984 1511.93 Z\" fill=\"#000000\" fill-rule=\"evenodd\" fill-opacity=\"1\" /><path clip-path=\"url(#clip480)\" d=\"M 0 0 M732.169 1515.64 Q728.558 1515.64 726.729 1519.2 Q724.923 1522.75 724.923 1529.87 Q724.923 1536.98 726.729 1540.55 Q728.558 1544.09 732.169 1544.09 Q735.803 1544.09 737.609 1540.55 Q739.437 1536.98 739.437 1529.87 Q739.437 1522.75 737.609 1519.2 Q735.803 1515.64 732.169 1515.64 M732.169 1511.93 Q737.979 1511.93 741.034 1516.54 Q744.113 1521.12 744.113 1529.87 Q744.113 1538.6 741.034 1543.21 Q737.979 1547.79 732.169 1547.79 Q726.359 1547.79 723.28 1543.21 Q720.224 1538.6 720.224 1529.87 Q720.224 1521.12 723.28 1516.54 Q726.359 1511.93 732.169 1511.93 Z\" fill=\"#000000\" fill-rule=\"evenodd\" fill-opacity=\"1\" /><path clip-path=\"url(#clip480)\" d=\"M 0 0 M749.183 1541.24 L754.067 1541.24 L754.067 1547.12 L749.183 1547.12 L749.183 1541.24 Z\" fill=\"#000000\" fill-rule=\"evenodd\" fill-opacity=\"1\" /><path clip-path=\"url(#clip480)\" d=\"M 0 0 M759.182 1512.56 L777.539 1512.56 L777.539 1516.5 L763.465 1516.5 L763.465 1524.97 Q764.483 1524.62 765.502 1524.46 Q766.52 1524.27 767.539 1524.27 Q773.326 1524.27 776.706 1527.44 Q780.085 1530.62 780.085 1536.03 Q780.085 1541.61 776.613 1544.71 Q773.141 1547.79 766.821 1547.79 Q764.645 1547.79 762.377 1547.42 Q760.132 1547.05 757.724 1546.31 L757.724 1541.61 Q759.807 1542.74 762.03 1543.3 Q764.252 1543.86 766.729 1543.86 Q770.733 1543.86 773.071 1541.75 Q775.409 1539.64 775.409 1536.03 Q775.409 1532.42 773.071 1530.31 Q770.733 1528.21 766.729 1528.21 Q764.854 1528.21 762.979 1528.62 Q761.127 1529.04 759.182 1529.92 L759.182 1512.56 Z\" fill=\"#000000\" fill-rule=\"evenodd\" fill-opacity=\"1\" /><path clip-path=\"url(#clip480)\" d=\"M 0 0 M1235.71 1543.18 L1243.35 1543.18 L1243.35 1516.82 L1235.04 1518.49 L1235.04 1514.23 L1243.3 1512.56 L1247.98 1512.56 L1247.98 1543.18 L1255.61 1543.18 L1255.61 1547.12 L1235.71 1547.12 L1235.71 1543.18 Z\" fill=\"#000000\" fill-rule=\"evenodd\" fill-opacity=\"1\" /><path clip-path=\"url(#clip480)\" d=\"M 0 0 M1260.68 1541.24 L1265.57 1541.24 L1265.57 1547.12 L1260.68 1547.12 L1260.68 1541.24 Z\" fill=\"#000000\" fill-rule=\"evenodd\" fill-opacity=\"1\" /><path clip-path=\"url(#clip480)\" d=\"M 0 0 M1280.64 1515.64 Q1277.03 1515.64 1275.2 1519.2 Q1273.39 1522.75 1273.39 1529.87 Q1273.39 1536.98 1275.2 1540.55 Q1277.03 1544.09 1280.64 1544.09 Q1284.27 1544.09 1286.08 1540.55 Q1287.91 1536.98 1287.91 1529.87 Q1287.91 1522.75 1286.08 1519.2 Q1284.27 1515.64 1280.64 1515.64 M1280.64 1511.93 Q1286.45 1511.93 1289.5 1516.54 Q1292.58 1521.12 1292.58 1529.87 Q1292.58 1538.6 1289.5 1543.21 Q1286.45 1547.79 1280.64 1547.79 Q1274.83 1547.79 1271.75 1543.21 Q1268.69 1538.6 1268.69 1529.87 Q1268.69 1521.12 1271.75 1516.54 Q1274.83 1511.93 1280.64 1511.93 Z\" fill=\"#000000\" fill-rule=\"evenodd\" fill-opacity=\"1\" /><path clip-path=\"url(#clip480)\" d=\"M 0 0 M1749.86 1543.18 L1757.5 1543.18 L1757.5 1516.82 L1749.19 1518.49 L1749.19 1514.23 L1757.45 1512.56 L1762.13 1512.56 L1762.13 1543.18 L1769.77 1543.18 L1769.77 1547.12 L1749.86 1547.12 L1749.86 1543.18 Z\" fill=\"#000000\" fill-rule=\"evenodd\" fill-opacity=\"1\" /><path clip-path=\"url(#clip480)\" d=\"M 0 0 M1774.84 1541.24 L1779.72 1541.24 L1779.72 1547.12 L1774.84 1547.12 L1774.84 1541.24 Z\" fill=\"#000000\" fill-rule=\"evenodd\" fill-opacity=\"1\" /><path clip-path=\"url(#clip480)\" d=\"M 0 0 M1784.84 1512.56 L1803.19 1512.56 L1803.19 1516.5 L1789.12 1516.5 L1789.12 1524.97 Q1790.14 1524.62 1791.16 1524.46 Q1792.17 1524.27 1793.19 1524.27 Q1798.98 1524.27 1802.36 1527.44 Q1805.74 1530.62 1805.74 1536.03 Q1805.74 1541.61 1802.27 1544.71 Q1798.79 1547.79 1792.47 1547.79 Q1790.3 1547.79 1788.03 1547.42 Q1785.78 1547.05 1783.38 1546.31 L1783.38 1541.61 Q1785.46 1542.74 1787.68 1543.3 Q1789.91 1543.86 1792.38 1543.86 Q1796.39 1543.86 1798.72 1541.75 Q1801.06 1539.64 1801.06 1536.03 Q1801.06 1532.42 1798.72 1530.31 Q1796.39 1528.21 1792.38 1528.21 Q1790.51 1528.21 1788.63 1528.62 Q1786.78 1529.04 1784.84 1529.92 L1784.84 1512.56 Z\" fill=\"#000000\" fill-rule=\"evenodd\" fill-opacity=\"1\" /><path clip-path=\"url(#clip480)\" d=\"M 0 0 M2267.29 1543.18 L2283.61 1543.18 L2283.61 1547.12 L2261.66 1547.12 L2261.66 1543.18 Q2264.32 1540.43 2268.91 1535.8 Q2273.51 1531.15 2274.69 1529.81 Q2276.94 1527.28 2277.82 1525.55 Q2278.72 1523.79 2278.72 1522.1 Q2278.72 1519.34 2276.78 1517.61 Q2274.86 1515.87 2271.75 1515.87 Q2269.56 1515.87 2267.1 1516.63 Q2264.67 1517.4 2261.89 1518.95 L2261.89 1514.23 Q2264.72 1513.09 2267.17 1512.51 Q2269.62 1511.93 2271.66 1511.93 Q2277.03 1511.93 2280.23 1514.62 Q2283.42 1517.31 2283.42 1521.8 Q2283.42 1523.93 2282.61 1525.85 Q2281.82 1527.74 2279.72 1530.34 Q2279.14 1531.01 2276.04 1534.23 Q2272.93 1537.42 2267.29 1543.18 Z\" fill=\"#000000\" fill-rule=\"evenodd\" fill-opacity=\"1\" /><path clip-path=\"url(#clip480)\" d=\"M 0 0 M2288.68 1541.24 L2293.56 1541.24 L2293.56 1547.12 L2288.68 1547.12 L2288.68 1541.24 Z\" fill=\"#000000\" fill-rule=\"evenodd\" fill-opacity=\"1\" /><path clip-path=\"url(#clip480)\" d=\"M 0 0 M2308.63 1515.64 Q2305.02 1515.64 2303.19 1519.2 Q2301.38 1522.75 2301.38 1529.87 Q2301.38 1536.98 2303.19 1540.55 Q2305.02 1544.09 2308.63 1544.09 Q2312.26 1544.09 2314.07 1540.55 Q2315.9 1536.98 2315.9 1529.87 Q2315.9 1522.75 2314.07 1519.2 Q2312.26 1515.64 2308.63 1515.64 M2308.63 1511.93 Q2314.44 1511.93 2317.49 1516.54 Q2320.57 1521.12 2320.57 1529.87 Q2320.57 1538.6 2317.49 1543.21 Q2314.44 1547.79 2308.63 1547.79 Q2302.82 1547.79 2299.74 1543.21 Q2296.68 1538.6 2296.68 1529.87 Q2296.68 1521.12 2299.74 1516.54 Q2302.82 1511.93 2308.63 1511.93 Z\" fill=\"#000000\" fill-rule=\"evenodd\" fill-opacity=\"1\" /><polyline clip-path=\"url(#clip482)\" style=\"stroke:#000000; stroke-width:2; stroke-opacity:0.1; fill:none\" points=\"\n",
       "  174.862,1445.72 2352.76,1445.72 \n",
       "  \"/>\n",
       "<polyline clip-path=\"url(#clip482)\" style=\"stroke:#000000; stroke-width:2; stroke-opacity:0.1; fill:none\" points=\"\n",
       "  174.862,1018.74 2352.76,1018.74 \n",
       "  \"/>\n",
       "<polyline clip-path=\"url(#clip482)\" style=\"stroke:#000000; stroke-width:2; stroke-opacity:0.1; fill:none\" points=\"\n",
       "  174.862,591.769 2352.76,591.769 \n",
       "  \"/>\n",
       "<polyline clip-path=\"url(#clip482)\" style=\"stroke:#000000; stroke-width:2; stroke-opacity:0.1; fill:none\" points=\"\n",
       "  174.862,164.795 2352.76,164.795 \n",
       "  \"/>\n",
       "<polyline clip-path=\"url(#clip480)\" style=\"stroke:#000000; stroke-width:4; stroke-opacity:1; fill:none\" points=\"\n",
       "  174.862,1486.45 174.862,47.2441 \n",
       "  \"/>\n",
       "<polyline clip-path=\"url(#clip480)\" style=\"stroke:#000000; stroke-width:4; stroke-opacity:1; fill:none\" points=\"\n",
       "  174.862,1445.72 200.997,1445.72 \n",
       "  \"/>\n",
       "<polyline clip-path=\"url(#clip480)\" style=\"stroke:#000000; stroke-width:4; stroke-opacity:1; fill:none\" points=\"\n",
       "  174.862,1018.74 200.997,1018.74 \n",
       "  \"/>\n",
       "<polyline clip-path=\"url(#clip480)\" style=\"stroke:#000000; stroke-width:4; stroke-opacity:1; fill:none\" points=\"\n",
       "  174.862,591.769 200.997,591.769 \n",
       "  \"/>\n",
       "<polyline clip-path=\"url(#clip480)\" style=\"stroke:#000000; stroke-width:4; stroke-opacity:1; fill:none\" points=\"\n",
       "  174.862,164.795 200.997,164.795 \n",
       "  \"/>\n",
       "<path clip-path=\"url(#clip480)\" d=\"M 0 0 M62.9365 1431.51 Q59.3254 1431.51 57.4967 1435.08 Q55.6912 1438.62 55.6912 1445.75 Q55.6912 1452.86 57.4967 1456.42 Q59.3254 1459.96 62.9365 1459.96 Q66.5707 1459.96 68.3763 1456.42 Q70.205 1452.86 70.205 1445.75 Q70.205 1438.62 68.3763 1435.08 Q66.5707 1431.51 62.9365 1431.51 M62.9365 1427.81 Q68.7467 1427.81 71.8022 1432.42 Q74.8809 1437 74.8809 1445.75 Q74.8809 1454.48 71.8022 1459.08 Q68.7467 1463.67 62.9365 1463.67 Q57.1264 1463.67 54.0477 1459.08 Q50.9921 1454.48 50.9921 1445.75 Q50.9921 1437 54.0477 1432.42 Q57.1264 1427.81 62.9365 1427.81 Z\" fill=\"#000000\" fill-rule=\"evenodd\" fill-opacity=\"1\" /><path clip-path=\"url(#clip480)\" d=\"M 0 0 M79.9503 1457.12 L84.8345 1457.12 L84.8345 1463 L79.9503 1463 L79.9503 1457.12 Z\" fill=\"#000000\" fill-rule=\"evenodd\" fill-opacity=\"1\" /><path clip-path=\"url(#clip480)\" d=\"M 0 0 M99.9039 1431.51 Q96.2928 1431.51 94.4641 1435.08 Q92.6586 1438.62 92.6586 1445.75 Q92.6586 1452.86 94.4641 1456.42 Q96.2928 1459.96 99.9039 1459.96 Q103.538 1459.96 105.344 1456.42 Q107.172 1452.86 107.172 1445.75 Q107.172 1438.62 105.344 1435.08 Q103.538 1431.51 99.9039 1431.51 M99.9039 1427.81 Q105.714 1427.81 108.77 1432.42 Q111.848 1437 111.848 1445.75 Q111.848 1454.48 108.77 1459.08 Q105.714 1463.67 99.9039 1463.67 Q94.0937 1463.67 91.0151 1459.08 Q87.9595 1454.48 87.9595 1445.75 Q87.9595 1437 91.0151 1432.42 Q94.0937 1427.81 99.9039 1427.81 Z\" fill=\"#000000\" fill-rule=\"evenodd\" fill-opacity=\"1\" /><path clip-path=\"url(#clip480)\" d=\"M 0 0 M126.918 1431.51 Q123.307 1431.51 121.478 1435.08 Q119.672 1438.62 119.672 1445.75 Q119.672 1452.86 121.478 1456.42 Q123.307 1459.96 126.918 1459.96 Q130.552 1459.96 132.357 1456.42 Q134.186 1452.86 134.186 1445.75 Q134.186 1438.62 132.357 1435.08 Q130.552 1431.51 126.918 1431.51 M126.918 1427.81 Q132.728 1427.81 135.783 1432.42 Q138.862 1437 138.862 1445.75 Q138.862 1454.48 135.783 1459.08 Q132.728 1463.67 126.918 1463.67 Q121.107 1463.67 118.029 1459.08 Q114.973 1454.48 114.973 1445.75 Q114.973 1437 118.029 1432.42 Q121.107 1427.81 126.918 1427.81 Z\" fill=\"#000000\" fill-rule=\"evenodd\" fill-opacity=\"1\" /><path clip-path=\"url(#clip480)\" d=\"M 0 0 M64.1634 1004.54 Q60.5523 1004.54 58.7236 1008.11 Q56.918 1011.65 56.918 1018.78 Q56.918 1025.88 58.7236 1029.45 Q60.5523 1032.99 64.1634 1032.99 Q67.7976 1032.99 69.6031 1029.45 Q71.4318 1025.88 71.4318 1018.78 Q71.4318 1011.65 69.6031 1008.11 Q67.7976 1004.54 64.1634 1004.54 M64.1634 1000.84 Q69.9735 1000.84 73.029 1005.44 Q76.1077 1010.03 76.1077 1018.78 Q76.1077 1027.5 73.029 1032.11 Q69.9735 1036.69 64.1634 1036.69 Q58.3532 1036.69 55.2745 1032.11 Q52.219 1027.5 52.219 1018.78 Q52.219 1010.03 55.2745 1005.44 Q58.3532 1000.84 64.1634 1000.84 Z\" fill=\"#000000\" fill-rule=\"evenodd\" fill-opacity=\"1\" /><path clip-path=\"url(#clip480)\" d=\"M 0 0 M81.1771 1030.14 L86.0614 1030.14 L86.0614 1036.02 L81.1771 1036.02 L81.1771 1030.14 Z\" fill=\"#000000\" fill-rule=\"evenodd\" fill-opacity=\"1\" /><path clip-path=\"url(#clip480)\" d=\"M 0 0 M101.131 1004.54 Q97.5197 1004.54 95.691 1008.11 Q93.8854 1011.65 93.8854 1018.78 Q93.8854 1025.88 95.691 1029.45 Q97.5197 1032.99 101.131 1032.99 Q104.765 1032.99 106.571 1029.45 Q108.399 1025.88 108.399 1018.78 Q108.399 1011.65 106.571 1008.11 Q104.765 1004.54 101.131 1004.54 M101.131 1000.84 Q106.941 1000.84 109.996 1005.44 Q113.075 1010.03 113.075 1018.78 Q113.075 1027.5 109.996 1032.11 Q106.941 1036.69 101.131 1036.69 Q95.3206 1036.69 92.2419 1032.11 Q89.1864 1027.5 89.1864 1018.78 Q89.1864 1010.03 92.2419 1005.44 Q95.3206 1000.84 101.131 1000.84 Z\" fill=\"#000000\" fill-rule=\"evenodd\" fill-opacity=\"1\" /><path clip-path=\"url(#clip480)\" d=\"M 0 0 M118.955 1032.09 L126.594 1032.09 L126.594 1005.72 L118.283 1007.39 L118.283 1003.13 L126.547 1001.46 L131.223 1001.46 L131.223 1032.09 L138.862 1032.09 L138.862 1036.02 L118.955 1036.02 L118.955 1032.09 Z\" fill=\"#000000\" fill-rule=\"evenodd\" fill-opacity=\"1\" /><path clip-path=\"url(#clip480)\" d=\"M 0 0 M64.5337 577.567 Q60.9226 577.567 59.0939 581.132 Q57.2884 584.674 57.2884 591.803 Q57.2884 598.91 59.0939 602.475 Q60.9226 606.016 64.5337 606.016 Q68.168 606.016 69.9735 602.475 Q71.8022 598.91 71.8022 591.803 Q71.8022 584.674 69.9735 581.132 Q68.168 577.567 64.5337 577.567 M64.5337 573.864 Q70.3439 573.864 73.3994 578.47 Q76.4781 583.054 76.4781 591.803 Q76.4781 600.53 73.3994 605.137 Q70.3439 609.72 64.5337 609.72 Q58.7236 609.72 55.6449 605.137 Q52.5893 600.53 52.5893 591.803 Q52.5893 583.054 55.6449 578.47 Q58.7236 573.864 64.5337 573.864 Z\" fill=\"#000000\" fill-rule=\"evenodd\" fill-opacity=\"1\" /><path clip-path=\"url(#clip480)\" d=\"M 0 0 M81.5475 603.169 L86.4318 603.169 L86.4318 609.049 L81.5475 609.049 L81.5475 603.169 Z\" fill=\"#000000\" fill-rule=\"evenodd\" fill-opacity=\"1\" /><path clip-path=\"url(#clip480)\" d=\"M 0 0 M101.501 577.567 Q97.89 577.567 96.0613 581.132 Q94.2558 584.674 94.2558 591.803 Q94.2558 598.91 96.0613 602.475 Q97.89 606.016 101.501 606.016 Q105.135 606.016 106.941 602.475 Q108.77 598.91 108.77 591.803 Q108.77 584.674 106.941 581.132 Q105.135 577.567 101.501 577.567 M101.501 573.864 Q107.311 573.864 110.367 578.47 Q113.445 583.054 113.445 591.803 Q113.445 600.53 110.367 605.137 Q107.311 609.72 101.501 609.72 Q95.691 609.72 92.6123 605.137 Q89.5567 600.53 89.5567 591.803 Q89.5567 583.054 92.6123 578.47 Q95.691 573.864 101.501 573.864 Z\" fill=\"#000000\" fill-rule=\"evenodd\" fill-opacity=\"1\" /><path clip-path=\"url(#clip480)\" d=\"M 0 0 M122.543 605.114 L138.862 605.114 L138.862 609.049 L116.918 609.049 L116.918 605.114 Q119.58 602.359 124.163 597.729 Q128.769 593.077 129.95 591.734 Q132.195 589.211 133.075 587.475 Q133.978 585.716 133.978 584.026 Q133.978 581.271 132.033 579.535 Q130.112 577.799 127.01 577.799 Q124.811 577.799 122.357 578.563 Q119.927 579.327 117.149 580.878 L117.149 576.155 Q119.973 575.021 122.427 574.442 Q124.881 573.864 126.918 573.864 Q132.288 573.864 135.482 576.549 Q138.677 579.234 138.677 583.725 Q138.677 585.854 137.867 587.776 Q137.08 589.674 134.973 592.266 Q134.394 592.938 131.293 596.155 Q128.191 599.35 122.543 605.114 Z\" fill=\"#000000\" fill-rule=\"evenodd\" fill-opacity=\"1\" /><path clip-path=\"url(#clip480)\" d=\"M 0 0 M63.5847 150.594 Q59.9736 150.594 58.1449 154.159 Q56.3393 157.7 56.3393 164.83 Q56.3393 171.936 58.1449 175.501 Q59.9736 179.043 63.5847 179.043 Q67.2189 179.043 69.0244 175.501 Q70.8531 171.936 70.8531 164.83 Q70.8531 157.7 69.0244 154.159 Q67.2189 150.594 63.5847 150.594 M63.5847 146.89 Q69.3948 146.89 72.4503 151.497 Q75.529 156.08 75.529 164.83 Q75.529 173.557 72.4503 178.163 Q69.3948 182.747 63.5847 182.747 Q57.7745 182.747 54.6958 178.163 Q51.6403 173.557 51.6403 164.83 Q51.6403 156.08 54.6958 151.497 Q57.7745 146.89 63.5847 146.89 Z\" fill=\"#000000\" fill-rule=\"evenodd\" fill-opacity=\"1\" /><path clip-path=\"url(#clip480)\" d=\"M 0 0 M80.5984 176.196 L85.4827 176.196 L85.4827 182.075 L80.5984 182.075 L80.5984 176.196 Z\" fill=\"#000000\" fill-rule=\"evenodd\" fill-opacity=\"1\" /><path clip-path=\"url(#clip480)\" d=\"M 0 0 M100.552 150.594 Q96.941 150.594 95.1123 154.159 Q93.3067 157.7 93.3067 164.83 Q93.3067 171.936 95.1123 175.501 Q96.941 179.043 100.552 179.043 Q104.186 179.043 105.992 175.501 Q107.821 171.936 107.821 164.83 Q107.821 157.7 105.992 154.159 Q104.186 150.594 100.552 150.594 M100.552 146.89 Q106.362 146.89 109.418 151.497 Q112.496 156.08 112.496 164.83 Q112.496 173.557 109.418 178.163 Q106.362 182.747 100.552 182.747 Q94.7419 182.747 91.6632 178.163 Q88.6077 173.557 88.6077 164.83 Q88.6077 156.08 91.6632 151.497 Q94.7419 146.89 100.552 146.89 Z\" fill=\"#000000\" fill-rule=\"evenodd\" fill-opacity=\"1\" /><path clip-path=\"url(#clip480)\" d=\"M 0 0 M131.732 163.441 Q135.089 164.159 136.964 166.427 Q138.862 168.696 138.862 172.029 Q138.862 177.145 135.344 179.946 Q131.825 182.747 125.344 182.747 Q123.168 182.747 120.853 182.307 Q118.561 181.89 116.108 181.034 L116.108 176.52 Q118.052 177.654 120.367 178.233 Q122.682 178.811 125.205 178.811 Q129.603 178.811 131.894 177.075 Q134.209 175.339 134.209 172.029 Q134.209 168.974 132.057 167.261 Q129.927 165.524 126.107 165.524 L122.08 165.524 L122.08 161.682 L126.293 161.682 Q129.742 161.682 131.57 160.316 Q133.399 158.927 133.399 156.335 Q133.399 153.673 131.501 152.261 Q129.626 150.825 126.107 150.825 Q124.186 150.825 121.987 151.242 Q119.788 151.659 117.149 152.538 L117.149 148.372 Q119.811 147.631 122.126 147.261 Q124.464 146.89 126.524 146.89 Q131.848 146.89 134.95 149.321 Q138.052 151.728 138.052 155.849 Q138.052 158.719 136.408 160.71 Q134.765 162.677 131.732 163.441 Z\" fill=\"#000000\" fill-rule=\"evenodd\" fill-opacity=\"1\" /><circle clip-path=\"url(#clip482)\" cx=\"236.501\" cy=\"1445.72\" r=\"14\" fill=\"#009af9\" fill-rule=\"evenodd\" fill-opacity=\"1\" stroke=\"#000000\" stroke-opacity=\"1\" stroke-width=\"3.2\"/>\n",
       "<circle clip-path=\"url(#clip482)\" cx=\"339.231\" cy=\"1445.71\" r=\"14\" fill=\"#009af9\" fill-rule=\"evenodd\" fill-opacity=\"1\" stroke=\"#000000\" stroke-opacity=\"1\" stroke-width=\"3.2\"/>\n",
       "<circle clip-path=\"url(#clip482)\" cx=\"441.962\" cy=\"1445.58\" r=\"14\" fill=\"#009af9\" fill-rule=\"evenodd\" fill-opacity=\"1\" stroke=\"#000000\" stroke-opacity=\"1\" stroke-width=\"3.2\"/>\n",
       "<circle clip-path=\"url(#clip482)\" cx=\"544.693\" cy=\"1445.03\" r=\"14\" fill=\"#009af9\" fill-rule=\"evenodd\" fill-opacity=\"1\" stroke=\"#000000\" stroke-opacity=\"1\" stroke-width=\"3.2\"/>\n",
       "<circle clip-path=\"url(#clip482)\" cx=\"647.424\" cy=\"1443.54\" r=\"14\" fill=\"#009af9\" fill-rule=\"evenodd\" fill-opacity=\"1\" stroke=\"#000000\" stroke-opacity=\"1\" stroke-width=\"3.2\"/>\n",
       "<circle clip-path=\"url(#clip482)\" cx=\"750.155\" cy=\"1440.41\" r=\"14\" fill=\"#009af9\" fill-rule=\"evenodd\" fill-opacity=\"1\" stroke=\"#000000\" stroke-opacity=\"1\" stroke-width=\"3.2\"/>\n",
       "<circle clip-path=\"url(#clip482)\" cx=\"852.886\" cy=\"1434.72\" r=\"14\" fill=\"#009af9\" fill-rule=\"evenodd\" fill-opacity=\"1\" stroke=\"#000000\" stroke-opacity=\"1\" stroke-width=\"3.2\"/>\n",
       "<circle clip-path=\"url(#clip482)\" cx=\"955.616\" cy=\"1425.34\" r=\"14\" fill=\"#009af9\" fill-rule=\"evenodd\" fill-opacity=\"1\" stroke=\"#000000\" stroke-opacity=\"1\" stroke-width=\"3.2\"/>\n",
       "<circle clip-path=\"url(#clip482)\" cx=\"1058.35\" cy=\"1410.96\" r=\"14\" fill=\"#009af9\" fill-rule=\"evenodd\" fill-opacity=\"1\" stroke=\"#000000\" stroke-opacity=\"1\" stroke-width=\"3.2\"/>\n",
       "<circle clip-path=\"url(#clip482)\" cx=\"1161.08\" cy=\"1390.04\" r=\"14\" fill=\"#009af9\" fill-rule=\"evenodd\" fill-opacity=\"1\" stroke=\"#000000\" stroke-opacity=\"1\" stroke-width=\"3.2\"/>\n",
       "<circle clip-path=\"url(#clip482)\" cx=\"1263.81\" cy=\"1360.86\" r=\"14\" fill=\"#009af9\" fill-rule=\"evenodd\" fill-opacity=\"1\" stroke=\"#000000\" stroke-opacity=\"1\" stroke-width=\"3.2\"/>\n",
       "<circle clip-path=\"url(#clip482)\" cx=\"1366.54\" cy=\"1321.47\" r=\"14\" fill=\"#009af9\" fill-rule=\"evenodd\" fill-opacity=\"1\" stroke=\"#000000\" stroke-opacity=\"1\" stroke-width=\"3.2\"/>\n",
       "<circle clip-path=\"url(#clip482)\" cx=\"1469.27\" cy=\"1269.75\" r=\"14\" fill=\"#009af9\" fill-rule=\"evenodd\" fill-opacity=\"1\" stroke=\"#000000\" stroke-opacity=\"1\" stroke-width=\"3.2\"/>\n",
       "<circle clip-path=\"url(#clip482)\" cx=\"1572\" cy=\"1203.35\" r=\"14\" fill=\"#009af9\" fill-rule=\"evenodd\" fill-opacity=\"1\" stroke=\"#000000\" stroke-opacity=\"1\" stroke-width=\"3.2\"/>\n",
       "<circle clip-path=\"url(#clip482)\" cx=\"1674.73\" cy=\"1119.72\" r=\"14\" fill=\"#009af9\" fill-rule=\"evenodd\" fill-opacity=\"1\" stroke=\"#000000\" stroke-opacity=\"1\" stroke-width=\"3.2\"/>\n",
       "<circle clip-path=\"url(#clip482)\" cx=\"1777.46\" cy=\"1016.12\" r=\"14\" fill=\"#009af9\" fill-rule=\"evenodd\" fill-opacity=\"1\" stroke=\"#000000\" stroke-opacity=\"1\" stroke-width=\"3.2\"/>\n",
       "<circle clip-path=\"url(#clip482)\" cx=\"1880.19\" cy=\"889.586\" r=\"14\" fill=\"#009af9\" fill-rule=\"evenodd\" fill-opacity=\"1\" stroke=\"#000000\" stroke-opacity=\"1\" stroke-width=\"3.2\"/>\n",
       "<circle clip-path=\"url(#clip482)\" cx=\"1982.92\" cy=\"736.968\" r=\"14\" fill=\"#009af9\" fill-rule=\"evenodd\" fill-opacity=\"1\" stroke=\"#000000\" stroke-opacity=\"1\" stroke-width=\"3.2\"/>\n",
       "<circle clip-path=\"url(#clip482)\" cx=\"2085.66\" cy=\"554.903\" r=\"14\" fill=\"#009af9\" fill-rule=\"evenodd\" fill-opacity=\"1\" stroke=\"#000000\" stroke-opacity=\"1\" stroke-width=\"3.2\"/>\n",
       "<circle clip-path=\"url(#clip482)\" cx=\"2188.39\" cy=\"339.829\" r=\"14\" fill=\"#009af9\" fill-rule=\"evenodd\" fill-opacity=\"1\" stroke=\"#000000\" stroke-opacity=\"1\" stroke-width=\"3.2\"/>\n",
       "<circle clip-path=\"url(#clip482)\" cx=\"2291.12\" cy=\"87.9763\" r=\"14\" fill=\"#009af9\" fill-rule=\"evenodd\" fill-opacity=\"1\" stroke=\"#000000\" stroke-opacity=\"1\" stroke-width=\"3.2\"/>\n",
       "<path clip-path=\"url(#clip480)\" d=\"\n",
       "M1987.15 216.178 L2280.16 216.178 L2280.16 95.2176 L1987.15 95.2176  Z\n",
       "  \" fill=\"#ffffff\" fill-rule=\"evenodd\" fill-opacity=\"1\"/>\n",
       "<polyline clip-path=\"url(#clip480)\" style=\"stroke:#000000; stroke-width:4; stroke-opacity:1; fill:none\" points=\"\n",
       "  1987.15,216.178 2280.16,216.178 2280.16,95.2176 1987.15,95.2176 1987.15,216.178 \n",
       "  \"/>\n",
       "<circle clip-path=\"url(#clip480)\" cx=\"2083.95\" cy=\"155.698\" r=\"23\" fill=\"#009af9\" fill-rule=\"evenodd\" fill-opacity=\"1\" stroke=\"#000000\" stroke-opacity=\"1\" stroke-width=\"5.12\"/>\n",
       "<path clip-path=\"url(#clip480)\" d=\"M 0 0 M2194.59 175.385 Q2192.78 180.015 2191.07 181.427 Q2189.35 182.839 2186.48 182.839 L2183.08 182.839 L2183.08 179.274 L2185.58 179.274 Q2187.34 179.274 2188.31 178.44 Q2189.29 177.607 2190.47 174.505 L2191.23 172.561 L2180.74 147.052 L2185.26 147.052 L2193.36 167.329 L2201.46 147.052 L2205.97 147.052 L2194.59 175.385 Z\" fill=\"#000000\" fill-rule=\"evenodd\" fill-opacity=\"1\" /><path clip-path=\"url(#clip480)\" d=\"M 0 0 M2211.85 169.042 L2219.49 169.042 L2219.49 142.677 L2211.18 144.343 L2211.18 140.084 L2219.45 138.418 L2224.12 138.418 L2224.12 169.042 L2231.76 169.042 L2231.76 172.978 L2211.85 172.978 L2211.85 169.042 Z\" fill=\"#000000\" fill-rule=\"evenodd\" fill-opacity=\"1\" /></svg>\n"
      ]
     },
     "execution_count": 45,
     "metadata": {},
     "output_type": "execute_result"
    }
   ],
   "source": [
    "scatter(0.0:0.1:2.0, [first(y) for y in m.([x] for x in 0.0:0.1:2.0)])\n"
   ]
  },
  {
   "cell_type": "code",
   "execution_count": null,
   "metadata": {},
   "outputs": [],
   "source": []
  },
  {
   "cell_type": "code",
   "execution_count": 34,
   "metadata": {},
   "outputs": [],
   "source": [
    "n = 100\n",
    "dx = LinRange(0, 1, n)[randperm(n)]\n",
    "dy = sin.(4*pi*dx);"
   ]
  },
  {
   "cell_type": "code",
   "execution_count": 35,
   "metadata": {},
   "outputs": [
    {
     "data": {
      "image/svg+xml": [
       "<?xml version=\"1.0\" encoding=\"utf-8\"?>\n",
       "<svg xmlns=\"http://www.w3.org/2000/svg\" xmlns:xlink=\"http://www.w3.org/1999/xlink\" width=\"600\" height=\"400\" viewBox=\"0 0 2400 1600\">\n",
       "<defs>\n",
       "  <clipPath id=\"clip700\">\n",
       "    <rect x=\"0\" y=\"0\" width=\"2400\" height=\"1600\"/>\n",
       "  </clipPath>\n",
       "</defs>\n",
       "<path clip-path=\"url(#clip700)\" d=\"\n",
       "M0 1600 L2400 1600 L2400 0 L0 0  Z\n",
       "  \" fill=\"#ffffff\" fill-rule=\"evenodd\" fill-opacity=\"1\"/>\n",
       "<defs>\n",
       "  <clipPath id=\"clip701\">\n",
       "    <rect x=\"480\" y=\"0\" width=\"1681\" height=\"1600\"/>\n",
       "  </clipPath>\n",
       "</defs>\n",
       "<path clip-path=\"url(#clip700)\" d=\"\n",
       "M179.654 1486.45 L2352.76 1486.45 L2352.76 47.2441 L179.654 47.2441  Z\n",
       "  \" fill=\"#ffffff\" fill-rule=\"evenodd\" fill-opacity=\"1\"/>\n",
       "<defs>\n",
       "  <clipPath id=\"clip702\">\n",
       "    <rect x=\"179\" y=\"47\" width=\"2174\" height=\"1440\"/>\n",
       "  </clipPath>\n",
       "</defs>\n",
       "<polyline clip-path=\"url(#clip702)\" style=\"stroke:#000000; stroke-width:2; stroke-opacity:0.1; fill:none\" points=\"\n",
       "  241.157,1486.45 241.157,47.2441 \n",
       "  \"/>\n",
       "<polyline clip-path=\"url(#clip702)\" style=\"stroke:#000000; stroke-width:2; stroke-opacity:0.1; fill:none\" points=\"\n",
       "  753.681,1486.45 753.681,47.2441 \n",
       "  \"/>\n",
       "<polyline clip-path=\"url(#clip702)\" style=\"stroke:#000000; stroke-width:2; stroke-opacity:0.1; fill:none\" points=\"\n",
       "  1266.2,1486.45 1266.2,47.2441 \n",
       "  \"/>\n",
       "<polyline clip-path=\"url(#clip702)\" style=\"stroke:#000000; stroke-width:2; stroke-opacity:0.1; fill:none\" points=\"\n",
       "  1778.73,1486.45 1778.73,47.2441 \n",
       "  \"/>\n",
       "<polyline clip-path=\"url(#clip702)\" style=\"stroke:#000000; stroke-width:2; stroke-opacity:0.1; fill:none\" points=\"\n",
       "  2291.25,1486.45 2291.25,47.2441 \n",
       "  \"/>\n",
       "<polyline clip-path=\"url(#clip700)\" style=\"stroke:#000000; stroke-width:4; stroke-opacity:1; fill:none\" points=\"\n",
       "  179.654,1486.45 2352.76,1486.45 \n",
       "  \"/>\n",
       "<polyline clip-path=\"url(#clip700)\" style=\"stroke:#000000; stroke-width:4; stroke-opacity:1; fill:none\" points=\"\n",
       "  241.157,1486.45 241.157,1469.18 \n",
       "  \"/>\n",
       "<polyline clip-path=\"url(#clip700)\" style=\"stroke:#000000; stroke-width:4; stroke-opacity:1; fill:none\" points=\"\n",
       "  753.681,1486.45 753.681,1469.18 \n",
       "  \"/>\n",
       "<polyline clip-path=\"url(#clip700)\" style=\"stroke:#000000; stroke-width:4; stroke-opacity:1; fill:none\" points=\"\n",
       "  1266.2,1486.45 1266.2,1469.18 \n",
       "  \"/>\n",
       "<polyline clip-path=\"url(#clip700)\" style=\"stroke:#000000; stroke-width:4; stroke-opacity:1; fill:none\" points=\"\n",
       "  1778.73,1486.45 1778.73,1469.18 \n",
       "  \"/>\n",
       "<polyline clip-path=\"url(#clip700)\" style=\"stroke:#000000; stroke-width:4; stroke-opacity:1; fill:none\" points=\"\n",
       "  2291.25,1486.45 2291.25,1469.18 \n",
       "  \"/>\n",
       "<path clip-path=\"url(#clip700)\" d=\"M 0 0 M209.166 1515.64 Q205.555 1515.64 203.726 1519.2 Q201.921 1522.75 201.921 1529.87 Q201.921 1536.98 203.726 1540.55 Q205.555 1544.09 209.166 1544.09 Q212.8 1544.09 214.606 1540.55 Q216.434 1536.98 216.434 1529.87 Q216.434 1522.75 214.606 1519.2 Q212.8 1515.64 209.166 1515.64 M209.166 1511.93 Q214.976 1511.93 218.032 1516.54 Q221.11 1521.12 221.11 1529.87 Q221.11 1538.6 218.032 1543.21 Q214.976 1547.79 209.166 1547.79 Q203.356 1547.79 200.277 1543.21 Q197.222 1538.6 197.222 1529.87 Q197.222 1521.12 200.277 1516.54 Q203.356 1511.93 209.166 1511.93 Z\" fill=\"#000000\" fill-rule=\"evenodd\" fill-opacity=\"1\" /><path clip-path=\"url(#clip700)\" d=\"M 0 0 M226.18 1541.24 L231.064 1541.24 L231.064 1547.12 L226.18 1547.12 L226.18 1541.24 Z\" fill=\"#000000\" fill-rule=\"evenodd\" fill-opacity=\"1\" /><path clip-path=\"url(#clip700)\" d=\"M 0 0 M246.133 1515.64 Q242.522 1515.64 240.694 1519.2 Q238.888 1522.75 238.888 1529.87 Q238.888 1536.98 240.694 1540.55 Q242.522 1544.09 246.133 1544.09 Q249.768 1544.09 251.573 1540.55 Q253.402 1536.98 253.402 1529.87 Q253.402 1522.75 251.573 1519.2 Q249.768 1515.64 246.133 1515.64 M246.133 1511.93 Q251.944 1511.93 254.999 1516.54 Q258.078 1521.12 258.078 1529.87 Q258.078 1538.6 254.999 1543.21 Q251.944 1547.79 246.133 1547.79 Q240.323 1547.79 237.245 1543.21 Q234.189 1538.6 234.189 1529.87 Q234.189 1521.12 237.245 1516.54 Q240.323 1511.93 246.133 1511.93 Z\" fill=\"#000000\" fill-rule=\"evenodd\" fill-opacity=\"1\" /><path clip-path=\"url(#clip700)\" d=\"M 0 0 M273.147 1515.64 Q269.536 1515.64 267.707 1519.2 Q265.902 1522.75 265.902 1529.87 Q265.902 1536.98 267.707 1540.55 Q269.536 1544.09 273.147 1544.09 Q276.781 1544.09 278.587 1540.55 Q280.416 1536.98 280.416 1529.87 Q280.416 1522.75 278.587 1519.2 Q276.781 1515.64 273.147 1515.64 M273.147 1511.93 Q278.957 1511.93 282.013 1516.54 Q285.092 1521.12 285.092 1529.87 Q285.092 1538.6 282.013 1543.21 Q278.957 1547.79 273.147 1547.79 Q267.337 1547.79 264.258 1543.21 Q261.203 1538.6 261.203 1529.87 Q261.203 1521.12 264.258 1516.54 Q267.337 1511.93 273.147 1511.93 Z\" fill=\"#000000\" fill-rule=\"evenodd\" fill-opacity=\"1\" /><path clip-path=\"url(#clip700)\" d=\"M 0 0 M722.986 1515.64 Q719.375 1515.64 717.547 1519.2 Q715.741 1522.75 715.741 1529.87 Q715.741 1536.98 717.547 1540.55 Q719.375 1544.09 722.986 1544.09 Q726.621 1544.09 728.426 1540.55 Q730.255 1536.98 730.255 1529.87 Q730.255 1522.75 728.426 1519.2 Q726.621 1515.64 722.986 1515.64 M722.986 1511.93 Q728.797 1511.93 731.852 1516.54 Q734.931 1521.12 734.931 1529.87 Q734.931 1538.6 731.852 1543.21 Q728.797 1547.79 722.986 1547.79 Q717.176 1547.79 714.098 1543.21 Q711.042 1538.6 711.042 1529.87 Q711.042 1521.12 714.098 1516.54 Q717.176 1511.93 722.986 1511.93 Z\" fill=\"#000000\" fill-rule=\"evenodd\" fill-opacity=\"1\" /><path clip-path=\"url(#clip700)\" d=\"M 0 0 M740 1541.24 L744.884 1541.24 L744.884 1547.12 L740 1547.12 L740 1541.24 Z\" fill=\"#000000\" fill-rule=\"evenodd\" fill-opacity=\"1\" /><path clip-path=\"url(#clip700)\" d=\"M 0 0 M753.982 1543.18 L770.301 1543.18 L770.301 1547.12 L748.357 1547.12 L748.357 1543.18 Q751.019 1540.43 755.602 1535.8 Q760.208 1531.15 761.389 1529.81 Q763.634 1527.28 764.514 1525.55 Q765.417 1523.79 765.417 1522.1 Q765.417 1519.34 763.472 1517.61 Q761.551 1515.87 758.449 1515.87 Q756.25 1515.87 753.796 1516.63 Q751.366 1517.4 748.588 1518.95 L748.588 1514.23 Q751.412 1513.09 753.866 1512.51 Q756.32 1511.93 758.357 1511.93 Q763.727 1511.93 766.921 1514.62 Q770.116 1517.31 770.116 1521.8 Q770.116 1523.93 769.306 1525.85 Q768.519 1527.74 766.412 1530.34 Q765.833 1531.01 762.732 1534.23 Q759.63 1537.42 753.982 1543.18 Z\" fill=\"#000000\" fill-rule=\"evenodd\" fill-opacity=\"1\" /><path clip-path=\"url(#clip700)\" d=\"M 0 0 M775.417 1512.56 L793.773 1512.56 L793.773 1516.5 L779.699 1516.5 L779.699 1524.97 Q780.718 1524.62 781.736 1524.46 Q782.755 1524.27 783.773 1524.27 Q789.56 1524.27 792.94 1527.44 Q796.319 1530.62 796.319 1536.03 Q796.319 1541.61 792.847 1544.71 Q789.375 1547.79 783.056 1547.79 Q780.88 1547.79 778.611 1547.42 Q776.366 1547.05 773.958 1546.31 L773.958 1541.61 Q776.042 1542.74 778.264 1543.3 Q780.486 1543.86 782.963 1543.86 Q786.968 1543.86 789.305 1541.75 Q791.643 1539.64 791.643 1536.03 Q791.643 1532.42 789.305 1530.31 Q786.968 1528.21 782.963 1528.21 Q781.088 1528.21 779.213 1528.62 Q777.361 1529.04 775.417 1529.92 L775.417 1512.56 Z\" fill=\"#000000\" fill-rule=\"evenodd\" fill-opacity=\"1\" /><path clip-path=\"url(#clip700)\" d=\"M 0 0 M1234.71 1515.64 Q1231.1 1515.64 1229.27 1519.2 Q1227.47 1522.75 1227.47 1529.87 Q1227.47 1536.98 1229.27 1540.55 Q1231.1 1544.09 1234.71 1544.09 Q1238.35 1544.09 1240.15 1540.55 Q1241.98 1536.98 1241.98 1529.87 Q1241.98 1522.75 1240.15 1519.2 Q1238.35 1515.64 1234.71 1515.64 M1234.71 1511.93 Q1240.52 1511.93 1243.58 1516.54 Q1246.66 1521.12 1246.66 1529.87 Q1246.66 1538.6 1243.58 1543.21 Q1240.52 1547.79 1234.71 1547.79 Q1228.9 1547.79 1225.82 1543.21 Q1222.77 1538.6 1222.77 1529.87 Q1222.77 1521.12 1225.82 1516.54 Q1228.9 1511.93 1234.71 1511.93 Z\" fill=\"#000000\" fill-rule=\"evenodd\" fill-opacity=\"1\" /><path clip-path=\"url(#clip700)\" d=\"M 0 0 M1251.73 1541.24 L1256.61 1541.24 L1256.61 1547.12 L1251.73 1547.12 L1251.73 1541.24 Z\" fill=\"#000000\" fill-rule=\"evenodd\" fill-opacity=\"1\" /><path clip-path=\"url(#clip700)\" d=\"M 0 0 M1261.73 1512.56 L1280.08 1512.56 L1280.08 1516.5 L1266.01 1516.5 L1266.01 1524.97 Q1267.03 1524.62 1268.05 1524.46 Q1269.06 1524.27 1270.08 1524.27 Q1275.87 1524.27 1279.25 1527.44 Q1282.63 1530.62 1282.63 1536.03 Q1282.63 1541.61 1279.16 1544.71 Q1275.68 1547.79 1269.36 1547.79 Q1267.19 1547.79 1264.92 1547.42 Q1262.67 1547.05 1260.27 1546.31 L1260.27 1541.61 Q1262.35 1542.74 1264.57 1543.3 Q1266.8 1543.86 1269.27 1543.86 Q1273.28 1543.86 1275.61 1541.75 Q1277.95 1539.64 1277.95 1536.03 Q1277.95 1532.42 1275.61 1530.31 Q1273.28 1528.21 1269.27 1528.21 Q1267.4 1528.21 1265.52 1528.62 Q1263.67 1529.04 1261.73 1529.92 L1261.73 1512.56 Z\" fill=\"#000000\" fill-rule=\"evenodd\" fill-opacity=\"1\" /><path clip-path=\"url(#clip700)\" d=\"M 0 0 M1297.7 1515.64 Q1294.09 1515.64 1292.26 1519.2 Q1290.45 1522.75 1290.45 1529.87 Q1290.45 1536.98 1292.26 1540.55 Q1294.09 1544.09 1297.7 1544.09 Q1301.33 1544.09 1303.14 1540.55 Q1304.97 1536.98 1304.97 1529.87 Q1304.97 1522.75 1303.14 1519.2 Q1301.33 1515.64 1297.7 1515.64 M1297.7 1511.93 Q1303.51 1511.93 1306.56 1516.54 Q1309.64 1521.12 1309.64 1529.87 Q1309.64 1538.6 1306.56 1543.21 Q1303.51 1547.79 1297.7 1547.79 Q1291.89 1547.79 1288.81 1543.21 Q1285.75 1538.6 1285.75 1529.87 Q1285.75 1521.12 1288.81 1516.54 Q1291.89 1511.93 1297.7 1511.93 Z\" fill=\"#000000\" fill-rule=\"evenodd\" fill-opacity=\"1\" /><path clip-path=\"url(#clip700)\" d=\"M 0 0 M1747.69 1515.64 Q1744.08 1515.64 1742.25 1519.2 Q1740.44 1522.75 1740.44 1529.87 Q1740.44 1536.98 1742.25 1540.55 Q1744.08 1544.09 1747.69 1544.09 Q1751.32 1544.09 1753.13 1540.55 Q1754.96 1536.98 1754.96 1529.87 Q1754.96 1522.75 1753.13 1519.2 Q1751.32 1515.64 1747.69 1515.64 M1747.69 1511.93 Q1753.5 1511.93 1756.55 1516.54 Q1759.63 1521.12 1759.63 1529.87 Q1759.63 1538.6 1756.55 1543.21 Q1753.5 1547.79 1747.69 1547.79 Q1741.88 1547.79 1738.8 1543.21 Q1735.74 1538.6 1735.74 1529.87 Q1735.74 1521.12 1738.8 1516.54 Q1741.88 1511.93 1747.69 1511.93 Z\" fill=\"#000000\" fill-rule=\"evenodd\" fill-opacity=\"1\" /><path clip-path=\"url(#clip700)\" d=\"M 0 0 M1764.7 1541.24 L1769.59 1541.24 L1769.59 1547.12 L1764.7 1547.12 L1764.7 1541.24 Z\" fill=\"#000000\" fill-rule=\"evenodd\" fill-opacity=\"1\" /><path clip-path=\"url(#clip700)\" d=\"M 0 0 M1773.47 1512.56 L1795.7 1512.56 L1795.7 1514.55 L1783.15 1547.12 L1778.27 1547.12 L1790.07 1516.5 L1773.47 1516.5 L1773.47 1512.56 Z\" fill=\"#000000\" fill-rule=\"evenodd\" fill-opacity=\"1\" /><path clip-path=\"url(#clip700)\" d=\"M 0 0 M1800.81 1512.56 L1819.17 1512.56 L1819.17 1516.5 L1805.09 1516.5 L1805.09 1524.97 Q1806.11 1524.62 1807.13 1524.46 Q1808.15 1524.27 1809.17 1524.27 Q1814.96 1524.27 1818.34 1527.44 Q1821.71 1530.62 1821.71 1536.03 Q1821.71 1541.61 1818.24 1544.71 Q1814.77 1547.79 1808.45 1547.79 Q1806.28 1547.79 1804.01 1547.42 Q1801.76 1547.05 1799.35 1546.31 L1799.35 1541.61 Q1801.44 1542.74 1803.66 1543.3 Q1805.88 1543.86 1808.36 1543.86 Q1812.36 1543.86 1814.7 1541.75 Q1817.04 1539.64 1817.04 1536.03 Q1817.04 1532.42 1814.7 1530.31 Q1812.36 1528.21 1808.36 1528.21 Q1806.48 1528.21 1804.61 1528.62 Q1802.76 1529.04 1800.81 1529.92 L1800.81 1512.56 Z\" fill=\"#000000\" fill-rule=\"evenodd\" fill-opacity=\"1\" /><path clip-path=\"url(#clip700)\" d=\"M 0 0 M2249.64 1543.18 L2257.28 1543.18 L2257.28 1516.82 L2248.97 1518.49 L2248.97 1514.23 L2257.24 1512.56 L2261.91 1512.56 L2261.91 1543.18 L2269.55 1543.18 L2269.55 1547.12 L2249.64 1547.12 L2249.64 1543.18 Z\" fill=\"#000000\" fill-rule=\"evenodd\" fill-opacity=\"1\" /><path clip-path=\"url(#clip700)\" d=\"M 0 0 M2274.62 1541.24 L2279.51 1541.24 L2279.51 1547.12 L2274.62 1547.12 L2274.62 1541.24 Z\" fill=\"#000000\" fill-rule=\"evenodd\" fill-opacity=\"1\" /><path clip-path=\"url(#clip700)\" d=\"M 0 0 M2294.57 1515.64 Q2290.96 1515.64 2289.13 1519.2 Q2287.33 1522.75 2287.33 1529.87 Q2287.33 1536.98 2289.13 1540.55 Q2290.96 1544.09 2294.57 1544.09 Q2298.21 1544.09 2300.01 1540.55 Q2301.84 1536.98 2301.84 1529.87 Q2301.84 1522.75 2300.01 1519.2 Q2298.21 1515.64 2294.57 1515.64 M2294.57 1511.93 Q2300.38 1511.93 2303.44 1516.54 Q2306.52 1521.12 2306.52 1529.87 Q2306.52 1538.6 2303.44 1543.21 Q2300.38 1547.79 2294.57 1547.79 Q2288.76 1547.79 2285.69 1543.21 Q2282.63 1538.6 2282.63 1529.87 Q2282.63 1521.12 2285.69 1516.54 Q2288.76 1511.93 2294.57 1511.93 Z\" fill=\"#000000\" fill-rule=\"evenodd\" fill-opacity=\"1\" /><path clip-path=\"url(#clip700)\" d=\"M 0 0 M2321.59 1515.64 Q2317.98 1515.64 2316.15 1519.2 Q2314.34 1522.75 2314.34 1529.87 Q2314.34 1536.98 2316.15 1540.55 Q2317.98 1544.09 2321.59 1544.09 Q2325.22 1544.09 2327.03 1540.55 Q2328.86 1536.98 2328.86 1529.87 Q2328.86 1522.75 2327.03 1519.2 Q2325.22 1515.64 2321.59 1515.64 M2321.59 1511.93 Q2327.4 1511.93 2330.45 1516.54 Q2333.53 1521.12 2333.53 1529.87 Q2333.53 1538.6 2330.45 1543.21 Q2327.4 1547.79 2321.59 1547.79 Q2315.78 1547.79 2312.7 1543.21 Q2309.64 1538.6 2309.64 1529.87 Q2309.64 1521.12 2312.7 1516.54 Q2315.78 1511.93 2321.59 1511.93 Z\" fill=\"#000000\" fill-rule=\"evenodd\" fill-opacity=\"1\" /><polyline clip-path=\"url(#clip702)\" style=\"stroke:#000000; stroke-width:2; stroke-opacity:0.1; fill:none\" points=\"\n",
       "  179.654,1445.8 2352.76,1445.8 \n",
       "  \"/>\n",
       "<polyline clip-path=\"url(#clip702)\" style=\"stroke:#000000; stroke-width:2; stroke-opacity:0.1; fill:none\" points=\"\n",
       "  179.654,1106.32 2352.76,1106.32 \n",
       "  \"/>\n",
       "<polyline clip-path=\"url(#clip702)\" style=\"stroke:#000000; stroke-width:2; stroke-opacity:0.1; fill:none\" points=\"\n",
       "  179.654,766.846 2352.76,766.846 \n",
       "  \"/>\n",
       "<polyline clip-path=\"url(#clip702)\" style=\"stroke:#000000; stroke-width:2; stroke-opacity:0.1; fill:none\" points=\"\n",
       "  179.654,427.368 2352.76,427.368 \n",
       "  \"/>\n",
       "<polyline clip-path=\"url(#clip702)\" style=\"stroke:#000000; stroke-width:2; stroke-opacity:0.1; fill:none\" points=\"\n",
       "  179.654,87.8908 2352.76,87.8908 \n",
       "  \"/>\n",
       "<polyline clip-path=\"url(#clip700)\" style=\"stroke:#000000; stroke-width:4; stroke-opacity:1; fill:none\" points=\"\n",
       "  179.654,1486.45 179.654,47.2441 \n",
       "  \"/>\n",
       "<polyline clip-path=\"url(#clip700)\" style=\"stroke:#000000; stroke-width:4; stroke-opacity:1; fill:none\" points=\"\n",
       "  179.654,1445.8 205.731,1445.8 \n",
       "  \"/>\n",
       "<polyline clip-path=\"url(#clip700)\" style=\"stroke:#000000; stroke-width:4; stroke-opacity:1; fill:none\" points=\"\n",
       "  179.654,1106.32 205.731,1106.32 \n",
       "  \"/>\n",
       "<polyline clip-path=\"url(#clip700)\" style=\"stroke:#000000; stroke-width:4; stroke-opacity:1; fill:none\" points=\"\n",
       "  179.654,766.846 205.731,766.846 \n",
       "  \"/>\n",
       "<polyline clip-path=\"url(#clip700)\" style=\"stroke:#000000; stroke-width:4; stroke-opacity:1; fill:none\" points=\"\n",
       "  179.654,427.368 205.731,427.368 \n",
       "  \"/>\n",
       "<polyline clip-path=\"url(#clip700)\" style=\"stroke:#000000; stroke-width:4; stroke-opacity:1; fill:none\" points=\"\n",
       "  179.654,87.8908 205.731,87.8908 \n",
       "  \"/>\n",
       "<path clip-path=\"url(#clip700)\" d=\"M 0 0 M51.2236 1446.25 L80.8994 1446.25 L80.8994 1450.19 L51.2236 1450.19 L51.2236 1446.25 Z\" fill=\"#000000\" fill-rule=\"evenodd\" fill-opacity=\"1\" /><path clip-path=\"url(#clip700)\" d=\"M 0 0 M86.779 1459.15 L94.4178 1459.15 L94.4178 1432.78 L86.1077 1434.45 L86.1077 1430.19 L94.3715 1428.52 L99.0474 1428.52 L99.0474 1459.15 L106.686 1459.15 L106.686 1463.08 L86.779 1463.08 L86.779 1459.15 Z\" fill=\"#000000\" fill-rule=\"evenodd\" fill-opacity=\"1\" /><path clip-path=\"url(#clip700)\" d=\"M 0 0 M111.756 1457.2 L116.64 1457.2 L116.64 1463.08 L111.756 1463.08 L111.756 1457.2 Z\" fill=\"#000000\" fill-rule=\"evenodd\" fill-opacity=\"1\" /><path clip-path=\"url(#clip700)\" d=\"M 0 0 M131.709 1431.6 Q128.098 1431.6 126.27 1435.16 Q124.464 1438.71 124.464 1445.84 Q124.464 1452.94 126.27 1456.51 Q128.098 1460.05 131.709 1460.05 Q135.344 1460.05 137.149 1456.51 Q138.978 1452.94 138.978 1445.84 Q138.978 1438.71 137.149 1435.16 Q135.344 1431.6 131.709 1431.6 M131.709 1427.9 Q137.519 1427.9 140.575 1432.5 Q143.654 1437.09 143.654 1445.84 Q143.654 1454.56 140.575 1459.17 Q137.519 1463.75 131.709 1463.75 Q125.899 1463.75 122.82 1459.17 Q119.765 1454.56 119.765 1445.84 Q119.765 1437.09 122.82 1432.5 Q125.899 1427.9 131.709 1427.9 Z\" fill=\"#000000\" fill-rule=\"evenodd\" fill-opacity=\"1\" /><path clip-path=\"url(#clip700)\" d=\"M 0 0 M50.9921 1106.77 L80.6679 1106.77 L80.6679 1110.71 L50.9921 1110.71 L50.9921 1106.77 Z\" fill=\"#000000\" fill-rule=\"evenodd\" fill-opacity=\"1\" /><path clip-path=\"url(#clip700)\" d=\"M 0 0 M95.7373 1092.12 Q92.1262 1092.12 90.2975 1095.69 Q88.4919 1099.23 88.4919 1106.36 Q88.4919 1113.46 90.2975 1117.03 Q92.1262 1120.57 95.7373 1120.57 Q99.3715 1120.57 101.177 1117.03 Q103.006 1113.46 103.006 1106.36 Q103.006 1099.23 101.177 1095.69 Q99.3715 1092.12 95.7373 1092.12 M95.7373 1088.42 Q101.547 1088.42 104.603 1093.03 Q107.682 1097.61 107.682 1106.36 Q107.682 1115.09 104.603 1119.69 Q101.547 1124.27 95.7373 1124.27 Q89.9271 1124.27 86.8484 1119.69 Q83.7929 1115.09 83.7929 1106.36 Q83.7929 1097.61 86.8484 1093.03 Q89.9271 1088.42 95.7373 1088.42 Z\" fill=\"#000000\" fill-rule=\"evenodd\" fill-opacity=\"1\" /><path clip-path=\"url(#clip700)\" d=\"M 0 0 M112.751 1117.72 L117.635 1117.72 L117.635 1123.6 L112.751 1123.6 L112.751 1117.72 Z\" fill=\"#000000\" fill-rule=\"evenodd\" fill-opacity=\"1\" /><path clip-path=\"url(#clip700)\" d=\"M 0 0 M122.751 1089.04 L141.107 1089.04 L141.107 1092.98 L127.033 1092.98 L127.033 1101.45 Q128.052 1101.1 129.07 1100.94 Q130.089 1100.76 131.107 1100.76 Q136.894 1100.76 140.274 1103.93 Q143.654 1107.1 143.654 1112.52 Q143.654 1118.09 140.181 1121.2 Q136.709 1124.27 130.39 1124.27 Q128.214 1124.27 125.945 1123.9 Q123.7 1123.53 121.293 1122.79 L121.293 1118.09 Q123.376 1119.23 125.598 1119.78 Q127.82 1120.34 130.297 1120.34 Q134.302 1120.34 136.64 1118.23 Q138.978 1116.13 138.978 1112.52 Q138.978 1108.9 136.64 1106.8 Q134.302 1104.69 130.297 1104.69 Q128.422 1104.69 126.547 1105.11 Q124.695 1105.52 122.751 1106.4 L122.751 1089.04 Z\" fill=\"#000000\" fill-rule=\"evenodd\" fill-opacity=\"1\" /><path clip-path=\"url(#clip700)\" d=\"M 0 0 M94.7419 752.645 Q91.1308 752.645 89.3021 756.209 Q87.4966 759.751 87.4966 766.881 Q87.4966 773.987 89.3021 777.552 Q91.1308 781.094 94.7419 781.094 Q98.3761 781.094 100.182 777.552 Q102.01 773.987 102.01 766.881 Q102.01 759.751 100.182 756.209 Q98.3761 752.645 94.7419 752.645 M94.7419 748.941 Q100.552 748.941 103.608 753.547 Q106.686 758.131 106.686 766.881 Q106.686 775.608 103.608 780.214 Q100.552 784.797 94.7419 784.797 Q88.9317 784.797 85.8531 780.214 Q82.7975 775.608 82.7975 766.881 Q82.7975 758.131 85.8531 753.547 Q88.9317 748.941 94.7419 748.941 Z\" fill=\"#000000\" fill-rule=\"evenodd\" fill-opacity=\"1\" /><path clip-path=\"url(#clip700)\" d=\"M 0 0 M111.756 778.246 L116.64 778.246 L116.64 784.126 L111.756 784.126 L111.756 778.246 Z\" fill=\"#000000\" fill-rule=\"evenodd\" fill-opacity=\"1\" /><path clip-path=\"url(#clip700)\" d=\"M 0 0 M131.709 752.645 Q128.098 752.645 126.27 756.209 Q124.464 759.751 124.464 766.881 Q124.464 773.987 126.27 777.552 Q128.098 781.094 131.709 781.094 Q135.344 781.094 137.149 777.552 Q138.978 773.987 138.978 766.881 Q138.978 759.751 137.149 756.209 Q135.344 752.645 131.709 752.645 M131.709 748.941 Q137.519 748.941 140.575 753.547 Q143.654 758.131 143.654 766.881 Q143.654 775.608 140.575 780.214 Q137.519 784.797 131.709 784.797 Q125.899 784.797 122.82 780.214 Q119.765 775.608 119.765 766.881 Q119.765 758.131 122.82 753.547 Q125.899 748.941 131.709 748.941 Z\" fill=\"#000000\" fill-rule=\"evenodd\" fill-opacity=\"1\" /><path clip-path=\"url(#clip700)\" d=\"M 0 0 M95.7373 413.167 Q92.1262 413.167 90.2975 416.732 Q88.4919 420.274 88.4919 427.403 Q88.4919 434.51 90.2975 438.074 Q92.1262 441.616 95.7373 441.616 Q99.3715 441.616 101.177 438.074 Q103.006 434.51 103.006 427.403 Q103.006 420.274 101.177 416.732 Q99.3715 413.167 95.7373 413.167 M95.7373 409.463 Q101.547 409.463 104.603 414.07 Q107.682 418.653 107.682 427.403 Q107.682 436.13 104.603 440.736 Q101.547 445.32 95.7373 445.32 Q89.9271 445.32 86.8484 440.736 Q83.7929 436.13 83.7929 427.403 Q83.7929 418.653 86.8484 414.07 Q89.9271 409.463 95.7373 409.463 Z\" fill=\"#000000\" fill-rule=\"evenodd\" fill-opacity=\"1\" /><path clip-path=\"url(#clip700)\" d=\"M 0 0 M112.751 438.769 L117.635 438.769 L117.635 444.648 L112.751 444.648 L112.751 438.769 Z\" fill=\"#000000\" fill-rule=\"evenodd\" fill-opacity=\"1\" /><path clip-path=\"url(#clip700)\" d=\"M 0 0 M122.751 410.088 L141.107 410.088 L141.107 414.024 L127.033 414.024 L127.033 422.496 Q128.052 422.149 129.07 421.986 Q130.089 421.801 131.107 421.801 Q136.894 421.801 140.274 424.973 Q143.654 428.144 143.654 433.56 Q143.654 439.139 140.181 442.241 Q136.709 445.32 130.39 445.32 Q128.214 445.32 125.945 444.949 Q123.7 444.579 121.293 443.838 L121.293 439.139 Q123.376 440.273 125.598 440.829 Q127.82 441.385 130.297 441.385 Q134.302 441.385 136.64 439.278 Q138.978 437.172 138.978 433.56 Q138.978 429.949 136.64 427.843 Q134.302 425.736 130.297 425.736 Q128.422 425.736 126.547 426.153 Q124.695 426.57 122.751 427.449 L122.751 410.088 Z\" fill=\"#000000\" fill-rule=\"evenodd\" fill-opacity=\"1\" /><path clip-path=\"url(#clip700)\" d=\"M 0 0 M86.779 101.236 L94.4178 101.236 L94.4178 74.8701 L86.1077 76.5367 L86.1077 72.2775 L94.3715 70.6108 L99.0474 70.6108 L99.0474 101.236 L106.686 101.236 L106.686 105.171 L86.779 105.171 L86.779 101.236 Z\" fill=\"#000000\" fill-rule=\"evenodd\" fill-opacity=\"1\" /><path clip-path=\"url(#clip700)\" d=\"M 0 0 M111.756 99.2912 L116.64 99.2912 L116.64 105.171 L111.756 105.171 L111.756 99.2912 Z\" fill=\"#000000\" fill-rule=\"evenodd\" fill-opacity=\"1\" /><path clip-path=\"url(#clip700)\" d=\"M 0 0 M131.709 73.6895 Q128.098 73.6895 126.27 77.2543 Q124.464 80.7959 124.464 87.9255 Q124.464 95.032 126.27 98.5968 Q128.098 102.138 131.709 102.138 Q135.344 102.138 137.149 98.5968 Q138.978 95.032 138.978 87.9255 Q138.978 80.7959 137.149 77.2543 Q135.344 73.6895 131.709 73.6895 M131.709 69.9858 Q137.519 69.9858 140.575 74.5923 Q143.654 79.1756 143.654 87.9255 Q143.654 96.6523 140.575 101.259 Q137.519 105.842 131.709 105.842 Q125.899 105.842 122.82 101.259 Q119.765 96.6523 119.765 87.9255 Q119.765 79.1756 122.82 74.5923 Q125.899 69.9858 131.709 69.9858 Z\" fill=\"#000000\" fill-rule=\"evenodd\" fill-opacity=\"1\" /><circle clip-path=\"url(#clip702)\" cx=\"1421.52\" cy=\"213.785\" r=\"14\" fill=\"#009af9\" fill-rule=\"evenodd\" fill-opacity=\"1\" stroke=\"#000000\" stroke-opacity=\"1\" stroke-width=\"3.2\"/>\n",
       "<circle clip-path=\"url(#clip702)\" cx=\"1007.35\" cy=\"1445.72\" r=\"14\" fill=\"#009af9\" fill-rule=\"evenodd\" fill-opacity=\"1\" stroke=\"#000000\" stroke-opacity=\"1\" stroke-width=\"3.2\"/>\n",
       "<circle clip-path=\"url(#clip702)\" cx=\"489.653\" cy=\"88.6598\" r=\"14\" fill=\"#009af9\" fill-rule=\"evenodd\" fill-opacity=\"1\" stroke=\"#000000\" stroke-opacity=\"1\" stroke-width=\"3.2\"/>\n",
       "<circle clip-path=\"url(#clip702)\" cx=\"241.157\" cy=\"766.846\" r=\"14\" fill=\"#009af9\" fill-rule=\"evenodd\" fill-opacity=\"1\" stroke=\"#000000\" stroke-opacity=\"1\" stroke-width=\"3.2\"/>\n",
       "<circle clip-path=\"url(#clip702)\" cx=\"1214.43\" cy=\"978.703\" r=\"14\" fill=\"#009af9\" fill-rule=\"evenodd\" fill-opacity=\"1\" stroke=\"#000000\" stroke-opacity=\"1\" stroke-width=\"3.2\"/>\n",
       "<circle clip-path=\"url(#clip702)\" cx=\"344.697\" cy=\"364.288\" r=\"14\" fill=\"#009af9\" fill-rule=\"evenodd\" fill-opacity=\"1\" stroke=\"#000000\" stroke-opacity=\"1\" stroke-width=\"3.2\"/>\n",
       "<circle clip-path=\"url(#clip702)\" cx=\"1028.06\" cy=\"1441.62\" r=\"14\" fill=\"#009af9\" fill-rule=\"evenodd\" fill-opacity=\"1\" stroke=\"#000000\" stroke-opacity=\"1\" stroke-width=\"3.2\"/>\n",
       "<circle clip-path=\"url(#clip702)\" cx=\"1814.97\" cy=\"916.427\" r=\"14\" fill=\"#009af9\" fill-rule=\"evenodd\" fill-opacity=\"1\" stroke=\"#000000\" stroke-opacity=\"1\" stroke-width=\"3.2\"/>\n",
       "<circle clip-path=\"url(#clip702)\" cx=\"1794.26\" cy=\"831.385\" r=\"14\" fill=\"#009af9\" fill-rule=\"evenodd\" fill-opacity=\"1\" stroke=\"#000000\" stroke-opacity=\"1\" stroke-width=\"3.2\"/>\n",
       "<circle clip-path=\"url(#clip702)\" cx=\"1359.39\" cy=\"399.775\" r=\"14\" fill=\"#009af9\" fill-rule=\"evenodd\" fill-opacity=\"1\" stroke=\"#000000\" stroke-opacity=\"1\" stroke-width=\"3.2\"/>\n",
       "<circle clip-path=\"url(#clip702)\" cx=\"1690.72\" cy=\"418.082\" r=\"14\" fill=\"#009af9\" fill-rule=\"evenodd\" fill-opacity=\"1\" stroke=\"#000000\" stroke-opacity=\"1\" stroke-width=\"3.2\"/>\n",
       "<circle clip-path=\"url(#clip702)\" cx=\"2270.54\" cy=\"852.797\" r=\"14\" fill=\"#009af9\" fill-rule=\"evenodd\" fill-opacity=\"1\" stroke=\"#000000\" stroke-opacity=\"1\" stroke-width=\"3.2\"/>\n",
       "<circle clip-path=\"url(#clip702)\" cx=\"448.237\" cy=\"118.51\" r=\"14\" fill=\"#009af9\" fill-rule=\"evenodd\" fill-opacity=\"1\" stroke=\"#000000\" stroke-opacity=\"1\" stroke-width=\"3.2\"/>\n",
       "<circle clip-path=\"url(#clip702)\" cx=\"1338.68\" cy=\"475.035\" r=\"14\" fill=\"#009af9\" fill-rule=\"evenodd\" fill-opacity=\"1\" stroke=\"#000000\" stroke-opacity=\"1\" stroke-width=\"3.2\"/>\n",
       "<circle clip-path=\"url(#clip702)\" cx=\"1255.85\" cy=\"809.908\" r=\"14\" fill=\"#009af9\" fill-rule=\"evenodd\" fill-opacity=\"1\" stroke=\"#000000\" stroke-opacity=\"1\" stroke-width=\"3.2\"/>\n",
       "<circle clip-path=\"url(#clip702)\" cx=\"1110.89\" cy=\"1319.91\" r=\"14\" fill=\"#009af9\" fill-rule=\"evenodd\" fill-opacity=\"1\" stroke=\"#000000\" stroke-opacity=\"1\" stroke-width=\"3.2\"/>\n",
       "<circle clip-path=\"url(#clip702)\" cx=\"738.15\" cy=\"702.307\" r=\"14\" fill=\"#009af9\" fill-rule=\"evenodd\" fill-opacity=\"1\" stroke=\"#000000\" stroke-opacity=\"1\" stroke-width=\"3.2\"/>\n",
       "<circle clip-path=\"url(#clip702)\" cx=\"1380.1\" cy=\"330.422\" r=\"14\" fill=\"#009af9\" fill-rule=\"evenodd\" fill-opacity=\"1\" stroke=\"#000000\" stroke-opacity=\"1\" stroke-width=\"3.2\"/>\n",
       "<circle clip-path=\"url(#clip702)\" cx=\"1090.19\" cy=\"1365.31\" r=\"14\" fill=\"#009af9\" fill-rule=\"evenodd\" fill-opacity=\"1\" stroke=\"#000000\" stroke-opacity=\"1\" stroke-width=\"3.2\"/>\n",
       "<circle clip-path=\"url(#clip702)\" cx=\"365.405\" cy=\"298.313\" r=\"14\" fill=\"#009af9\" fill-rule=\"evenodd\" fill-opacity=\"1\" stroke=\"#000000\" stroke-opacity=\"1\" stroke-width=\"3.2\"/>\n",
       "<circle clip-path=\"url(#clip702)\" cx=\"1980.63\" cy=\"1408.46\" r=\"14\" fill=\"#009af9\" fill-rule=\"evenodd\" fill-opacity=\"1\" stroke=\"#000000\" stroke-opacity=\"1\" stroke-width=\"3.2\"/>\n",
       "<circle clip-path=\"url(#clip702)\" cx=\"924.522\" cy=\"1354.84\" r=\"14\" fill=\"#009af9\" fill-rule=\"evenodd\" fill-opacity=\"1\" stroke=\"#000000\" stroke-opacity=\"1\" stroke-width=\"3.2\"/>\n",
       "<circle clip-path=\"url(#clip702)\" cx=\"1752.84\" cy=\"659.57\" r=\"14\" fill=\"#009af9\" fill-rule=\"evenodd\" fill-opacity=\"1\" stroke=\"#000000\" stroke-opacity=\"1\" stroke-width=\"3.2\"/>\n",
       "<circle clip-path=\"url(#clip702)\" cx=\"1918.51\" cy=\"1279.97\" r=\"14\" fill=\"#009af9\" fill-rule=\"evenodd\" fill-opacity=\"1\" stroke=\"#000000\" stroke-opacity=\"1\" stroke-width=\"3.2\"/>\n",
       "<circle clip-path=\"url(#clip702)\" cx=\"1959.92\" cy=\"1375.19\" r=\"14\" fill=\"#009af9\" fill-rule=\"evenodd\" fill-opacity=\"1\" stroke=\"#000000\" stroke-opacity=\"1\" stroke-width=\"3.2\"/>\n",
       "<circle clip-path=\"url(#clip702)\" cx=\"572.485\" cy=\"158.506\" r=\"14\" fill=\"#009af9\" fill-rule=\"evenodd\" fill-opacity=\"1\" stroke=\"#000000\" stroke-opacity=\"1\" stroke-width=\"3.2\"/>\n",
       "<circle clip-path=\"url(#clip702)\" cx=\"2022.05\" cy=\"1443.67\" r=\"14\" fill=\"#009af9\" fill-rule=\"evenodd\" fill-opacity=\"1\" stroke=\"#000000\" stroke-opacity=\"1\" stroke-width=\"3.2\"/>\n",
       "<circle clip-path=\"url(#clip702)\" cx=\"2249.84\" cy=\"937.364\" r=\"14\" fill=\"#009af9\" fill-rule=\"evenodd\" fill-opacity=\"1\" stroke=\"#000000\" stroke-opacity=\"1\" stroke-width=\"3.2\"/>\n",
       "<circle clip-path=\"url(#clip702)\" cx=\"696.734\" cy=\"534.63\" r=\"14\" fill=\"#009af9\" fill-rule=\"evenodd\" fill-opacity=\"1\" stroke=\"#000000\" stroke-opacity=\"1\" stroke-width=\"3.2\"/>\n",
       "<circle clip-path=\"url(#clip702)\" cx=\"1856.38\" cy=\"1077.96\" r=\"14\" fill=\"#009af9\" fill-rule=\"evenodd\" fill-opacity=\"1\" stroke=\"#000000\" stroke-opacity=\"1\" stroke-width=\"3.2\"/>\n",
       "<circle clip-path=\"url(#clip702)\" cx=\"2104.88\" cy=\"1384.45\" r=\"14\" fill=\"#009af9\" fill-rule=\"evenodd\" fill-opacity=\"1\" stroke=\"#000000\" stroke-opacity=\"1\" stroke-width=\"3.2\"/>\n",
       "<circle clip-path=\"url(#clip702)\" cx=\"634.609\" cy=\"314.14\" r=\"14\" fill=\"#009af9\" fill-rule=\"evenodd\" fill-opacity=\"1\" stroke=\"#000000\" stroke-opacity=\"1\" stroke-width=\"3.2\"/>\n",
       "<circle clip-path=\"url(#clip702)\" cx=\"965.938\" cy=\"1421.25\" r=\"14\" fill=\"#009af9\" fill-rule=\"evenodd\" fill-opacity=\"1\" stroke=\"#000000\" stroke-opacity=\"1\" stroke-width=\"3.2\"/>\n",
       "<circle clip-path=\"url(#clip702)\" cx=\"1587.18\" cy=\"140.609\" r=\"14\" fill=\"#009af9\" fill-rule=\"evenodd\" fill-opacity=\"1\" stroke=\"#000000\" stroke-opacity=\"1\" stroke-width=\"3.2\"/>\n",
       "<circle clip-path=\"url(#clip702)\" cx=\"1525.06\" cy=\"87.9763\" r=\"14\" fill=\"#009af9\" fill-rule=\"evenodd\" fill-opacity=\"1\" stroke=\"#000000\" stroke-opacity=\"1\" stroke-width=\"3.2\"/>\n",
       "<circle clip-path=\"url(#clip702)\" cx=\"1317.97\" cy=\"554.989\" r=\"14\" fill=\"#009af9\" fill-rule=\"evenodd\" fill-opacity=\"1\" stroke=\"#000000\" stroke-opacity=\"1\" stroke-width=\"3.2\"/>\n",
       "<circle clip-path=\"url(#clip702)\" cx=\"2167\" cy=\"1235.38\" r=\"14\" fill=\"#009af9\" fill-rule=\"evenodd\" fill-opacity=\"1\" stroke=\"#000000\" stroke-opacity=\"1\" stroke-width=\"3.2\"/>\n",
       "<circle clip-path=\"url(#clip702)\" cx=\"2291.25\" cy=\"766.846\" r=\"14\" fill=\"#009af9\" fill-rule=\"evenodd\" fill-opacity=\"1\" stroke=\"#000000\" stroke-opacity=\"1\" stroke-width=\"3.2\"/>\n",
       "<circle clip-path=\"url(#clip702)\" cx=\"1276.56\" cy=\"723.784\" r=\"14\" fill=\"#009af9\" fill-rule=\"evenodd\" fill-opacity=\"1\" stroke=\"#000000\" stroke-opacity=\"1\" stroke-width=\"3.2\"/>\n",
       "<circle clip-path=\"url(#clip702)\" cx=\"945.23\" cy=\"1393.08\" r=\"14\" fill=\"#009af9\" fill-rule=\"evenodd\" fill-opacity=\"1\" stroke=\"#000000\" stroke-opacity=\"1\" stroke-width=\"3.2\"/>\n",
       "<circle clip-path=\"url(#clip702)\" cx=\"1235.14\" cy=\"895.339\" r=\"14\" fill=\"#009af9\" fill-rule=\"evenodd\" fill-opacity=\"1\" stroke=\"#000000\" stroke-opacity=\"1\" stroke-width=\"3.2\"/>\n",
       "<circle clip-path=\"url(#clip702)\" cx=\"406.821\" cy=\"189.921\" r=\"14\" fill=\"#009af9\" fill-rule=\"evenodd\" fill-opacity=\"1\" stroke=\"#000000\" stroke-opacity=\"1\" stroke-width=\"3.2\"/>\n",
       "<circle clip-path=\"url(#clip702)\" cx=\"282.573\" cy=\"596.328\" r=\"14\" fill=\"#009af9\" fill-rule=\"evenodd\" fill-opacity=\"1\" stroke=\"#000000\" stroke-opacity=\"1\" stroke-width=\"3.2\"/>\n",
       "<circle clip-path=\"url(#clip702)\" cx=\"613.901\" cy=\"253.726\" r=\"14\" fill=\"#009af9\" fill-rule=\"evenodd\" fill-opacity=\"1\" stroke=\"#000000\" stroke-opacity=\"1\" stroke-width=\"3.2\"/>\n",
       "<circle clip-path=\"url(#clip702)\" cx=\"2208.42\" cy=\"1096.95\" r=\"14\" fill=\"#009af9\" fill-rule=\"evenodd\" fill-opacity=\"1\" stroke=\"#000000\" stroke-opacity=\"1\" stroke-width=\"3.2\"/>\n",
       "<circle clip-path=\"url(#clip702)\" cx=\"986.646\" cy=\"1438.89\" r=\"14\" fill=\"#009af9\" fill-rule=\"evenodd\" fill-opacity=\"1\" stroke=\"#000000\" stroke-opacity=\"1\" stroke-width=\"3.2\"/>\n",
       "<circle clip-path=\"url(#clip702)\" cx=\"1711.43\" cy=\"494.632\" r=\"14\" fill=\"#009af9\" fill-rule=\"evenodd\" fill-opacity=\"1\" stroke=\"#000000\" stroke-opacity=\"1\" stroke-width=\"3.2\"/>\n",
       "<circle clip-path=\"url(#clip702)\" cx=\"1835.68\" cy=\"999.062\" r=\"14\" fill=\"#009af9\" fill-rule=\"evenodd\" fill-opacity=\"1\" stroke=\"#000000\" stroke-opacity=\"1\" stroke-width=\"3.2\"/>\n",
       "<circle clip-path=\"url(#clip702)\" cx=\"323.989\" cy=\"436.74\" r=\"14\" fill=\"#009af9\" fill-rule=\"evenodd\" fill-opacity=\"1\" stroke=\"#000000\" stroke-opacity=\"1\" stroke-width=\"3.2\"/>\n",
       "<circle clip-path=\"url(#clip702)\" cx=\"1545.76\" cy=\"94.8016\" r=\"14\" fill=\"#009af9\" fill-rule=\"evenodd\" fill-opacity=\"1\" stroke=\"#000000\" stroke-opacity=\"1\" stroke-width=\"3.2\"/>\n",
       "<circle clip-path=\"url(#clip702)\" cx=\"1069.48\" cy=\"1401.09\" r=\"14\" fill=\"#009af9\" fill-rule=\"evenodd\" fill-opacity=\"1\" stroke=\"#000000\" stroke-opacity=\"1\" stroke-width=\"3.2\"/>\n",
       "<circle clip-path=\"url(#clip702)\" cx=\"676.026\" cy=\"455.731\" r=\"14\" fill=\"#009af9\" fill-rule=\"evenodd\" fill-opacity=\"1\" stroke=\"#000000\" stroke-opacity=\"1\" stroke-width=\"3.2\"/>\n",
       "<circle clip-path=\"url(#clip702)\" cx=\"1504.35\" cy=\"92.0742\" r=\"14\" fill=\"#009af9\" fill-rule=\"evenodd\" fill-opacity=\"1\" stroke=\"#000000\" stroke-opacity=\"1\" stroke-width=\"3.2\"/>\n",
       "<circle clip-path=\"url(#clip702)\" cx=\"1773.55\" cy=\"745.304\" r=\"14\" fill=\"#009af9\" fill-rule=\"evenodd\" fill-opacity=\"1\" stroke=\"#000000\" stroke-opacity=\"1\" stroke-width=\"3.2\"/>\n",
       "<circle clip-path=\"url(#clip702)\" cx=\"1193.73\" cy=\"1058.66\" r=\"14\" fill=\"#009af9\" fill-rule=\"evenodd\" fill-opacity=\"1\" stroke=\"#000000\" stroke-opacity=\"1\" stroke-width=\"3.2\"/>\n",
       "<circle clip-path=\"url(#clip702)\" cx=\"800.274\" cy=\"958.13\" r=\"14\" fill=\"#009af9\" fill-rule=\"evenodd\" fill-opacity=\"1\" stroke=\"#000000\" stroke-opacity=\"1\" stroke-width=\"3.2\"/>\n",
       "<circle clip-path=\"url(#clip702)\" cx=\"758.858\" cy=\"788.388\" r=\"14\" fill=\"#009af9\" fill-rule=\"evenodd\" fill-opacity=\"1\" stroke=\"#000000\" stroke-opacity=\"1\" stroke-width=\"3.2\"/>\n",
       "<circle clip-path=\"url(#clip702)\" cx=\"1400.81\" cy=\"268.091\" r=\"14\" fill=\"#009af9\" fill-rule=\"evenodd\" fill-opacity=\"1\" stroke=\"#000000\" stroke-opacity=\"1\" stroke-width=\"3.2\"/>\n",
       "<circle clip-path=\"url(#clip702)\" cx=\"903.814\" cy=\"1307.13\" r=\"14\" fill=\"#009af9\" fill-rule=\"evenodd\" fill-opacity=\"1\" stroke=\"#000000\" stroke-opacity=\"1\" stroke-width=\"3.2\"/>\n",
       "<circle clip-path=\"url(#clip702)\" cx=\"261.865\" cy=\"680.895\" r=\"14\" fill=\"#009af9\" fill-rule=\"evenodd\" fill-opacity=\"1\" stroke=\"#000000\" stroke-opacity=\"1\" stroke-width=\"3.2\"/>\n",
       "<circle clip-path=\"url(#clip702)\" cx=\"1462.93\" cy=\"132.601\" r=\"14\" fill=\"#009af9\" fill-rule=\"evenodd\" fill-opacity=\"1\" stroke=\"#000000\" stroke-opacity=\"1\" stroke-width=\"3.2\"/>\n",
       "<circle clip-path=\"url(#clip702)\" cx=\"1297.27\" cy=\"638.353\" r=\"14\" fill=\"#009af9\" fill-rule=\"evenodd\" fill-opacity=\"1\" stroke=\"#000000\" stroke-opacity=\"1\" stroke-width=\"3.2\"/>\n",
       "<circle clip-path=\"url(#clip702)\" cx=\"1670.01\" cy=\"347.144\" r=\"14\" fill=\"#009af9\" fill-rule=\"evenodd\" fill-opacity=\"1\" stroke=\"#000000\" stroke-opacity=\"1\" stroke-width=\"3.2\"/>\n",
       "<circle clip-path=\"url(#clip702)\" cx=\"2042.76\" cy=\"1445.03\" r=\"14\" fill=\"#009af9\" fill-rule=\"evenodd\" fill-opacity=\"1\" stroke=\"#000000\" stroke-opacity=\"1\" stroke-width=\"3.2\"/>\n",
       "<circle clip-path=\"url(#clip702)\" cx=\"510.361\" cy=\"90.0263\" r=\"14\" fill=\"#009af9\" fill-rule=\"evenodd\" fill-opacity=\"1\" stroke=\"#000000\" stroke-opacity=\"1\" stroke-width=\"3.2\"/>\n",
       "<circle clip-path=\"url(#clip702)\" cx=\"1649.3\" cy=\"282.959\" r=\"14\" fill=\"#009af9\" fill-rule=\"evenodd\" fill-opacity=\"1\" stroke=\"#000000\" stroke-opacity=\"1\" stroke-width=\"3.2\"/>\n",
       "<circle clip-path=\"url(#clip702)\" cx=\"1877.09\" cy=\"1151.85\" r=\"14\" fill=\"#009af9\" fill-rule=\"evenodd\" fill-opacity=\"1\" stroke=\"#000000\" stroke-opacity=\"1\" stroke-width=\"3.2\"/>\n",
       "<circle clip-path=\"url(#clip702)\" cx=\"2001.34\" cy=\"1431.41\" r=\"14\" fill=\"#009af9\" fill-rule=\"evenodd\" fill-opacity=\"1\" stroke=\"#000000\" stroke-opacity=\"1\" stroke-width=\"3.2\"/>\n",
       "<circle clip-path=\"url(#clip702)\" cx=\"1628.6\" cy=\"226.559\" r=\"14\" fill=\"#009af9\" fill-rule=\"evenodd\" fill-opacity=\"1\" stroke=\"#000000\" stroke-opacity=\"1\" stroke-width=\"3.2\"/>\n",
       "<circle clip-path=\"url(#clip702)\" cx=\"862.398\" cy=\"1186.55\" r=\"14\" fill=\"#009af9\" fill-rule=\"evenodd\" fill-opacity=\"1\" stroke=\"#000000\" stroke-opacity=\"1\" stroke-width=\"3.2\"/>\n",
       "<circle clip-path=\"url(#clip702)\" cx=\"655.317\" cy=\"381.838\" r=\"14\" fill=\"#009af9\" fill-rule=\"evenodd\" fill-opacity=\"1\" stroke=\"#000000\" stroke-opacity=\"1\" stroke-width=\"3.2\"/>\n",
       "<circle clip-path=\"url(#clip702)\" cx=\"1442.22\" cy=\"168.379\" r=\"14\" fill=\"#009af9\" fill-rule=\"evenodd\" fill-opacity=\"1\" stroke=\"#000000\" stroke-opacity=\"1\" stroke-width=\"3.2\"/>\n",
       "<circle clip-path=\"url(#clip702)\" cx=\"531.069\" cy=\"102.283\" r=\"14\" fill=\"#009af9\" fill-rule=\"evenodd\" fill-opacity=\"1\" stroke=\"#000000\" stroke-opacity=\"1\" stroke-width=\"3.2\"/>\n",
       "<circle clip-path=\"url(#clip702)\" cx=\"1483.64\" cy=\"107.029\" r=\"14\" fill=\"#009af9\" fill-rule=\"evenodd\" fill-opacity=\"1\" stroke=\"#000000\" stroke-opacity=\"1\" stroke-width=\"3.2\"/>\n",
       "<circle clip-path=\"url(#clip702)\" cx=\"1939.22\" cy=\"1332.12\" r=\"14\" fill=\"#009af9\" fill-rule=\"evenodd\" fill-opacity=\"1\" stroke=\"#000000\" stroke-opacity=\"1\" stroke-width=\"3.2\"/>\n",
       "<circle clip-path=\"url(#clip702)\" cx=\"1131.6\" cy=\"1265.6\" r=\"14\" fill=\"#009af9\" fill-rule=\"evenodd\" fill-opacity=\"1\" stroke=\"#000000\" stroke-opacity=\"1\" stroke-width=\"3.2\"/>\n",
       "<circle clip-path=\"url(#clip702)\" cx=\"1897.8\" cy=\"1219.55\" r=\"14\" fill=\"#009af9\" fill-rule=\"evenodd\" fill-opacity=\"1\" stroke=\"#000000\" stroke-opacity=\"1\" stroke-width=\"3.2\"/>\n",
       "<circle clip-path=\"url(#clip702)\" cx=\"593.193\" cy=\"201.568\" r=\"14\" fill=\"#009af9\" fill-rule=\"evenodd\" fill-opacity=\"1\" stroke=\"#000000\" stroke-opacity=\"1\" stroke-width=\"3.2\"/>\n",
       "<circle clip-path=\"url(#clip702)\" cx=\"551.777\" cy=\"125.233\" r=\"14\" fill=\"#009af9\" fill-rule=\"evenodd\" fill-opacity=\"1\" stroke=\"#000000\" stroke-opacity=\"1\" stroke-width=\"3.2\"/>\n",
       "<circle clip-path=\"url(#clip702)\" cx=\"303.281\" cy=\"514.504\" r=\"14\" fill=\"#009af9\" fill-rule=\"evenodd\" fill-opacity=\"1\" stroke=\"#000000\" stroke-opacity=\"1\" stroke-width=\"3.2\"/>\n",
       "<circle clip-path=\"url(#clip702)\" cx=\"2063.46\" cy=\"1435.49\" r=\"14\" fill=\"#009af9\" fill-rule=\"evenodd\" fill-opacity=\"1\" stroke=\"#000000\" stroke-opacity=\"1\" stroke-width=\"3.2\"/>\n",
       "<circle clip-path=\"url(#clip702)\" cx=\"2229.13\" cy=\"1019.19\" r=\"14\" fill=\"#009af9\" fill-rule=\"evenodd\" fill-opacity=\"1\" stroke=\"#000000\" stroke-opacity=\"1\" stroke-width=\"3.2\"/>\n",
       "<circle clip-path=\"url(#clip702)\" cx=\"820.982\" cy=\"1039.06\" r=\"14\" fill=\"#009af9\" fill-rule=\"evenodd\" fill-opacity=\"1\" stroke=\"#000000\" stroke-opacity=\"1\" stroke-width=\"3.2\"/>\n",
       "<circle clip-path=\"url(#clip702)\" cx=\"717.442\" cy=\"617.265\" r=\"14\" fill=\"#009af9\" fill-rule=\"evenodd\" fill-opacity=\"1\" stroke=\"#000000\" stroke-opacity=\"1\" stroke-width=\"3.2\"/>\n",
       "<circle clip-path=\"url(#clip702)\" cx=\"1607.89\" cy=\"178.854\" r=\"14\" fill=\"#009af9\" fill-rule=\"evenodd\" fill-opacity=\"1\" stroke=\"#000000\" stroke-opacity=\"1\" stroke-width=\"3.2\"/>\n",
       "<circle clip-path=\"url(#clip702)\" cx=\"1173.02\" cy=\"1133.92\" r=\"14\" fill=\"#009af9\" fill-rule=\"evenodd\" fill-opacity=\"1\" stroke=\"#000000\" stroke-opacity=\"1\" stroke-width=\"3.2\"/>\n",
       "<circle clip-path=\"url(#clip702)\" cx=\"1152.31\" cy=\"1203.27\" r=\"14\" fill=\"#009af9\" fill-rule=\"evenodd\" fill-opacity=\"1\" stroke=\"#000000\" stroke-opacity=\"1\" stroke-width=\"3.2\"/>\n",
       "<circle clip-path=\"url(#clip702)\" cx=\"1732.14\" cy=\"575.562\" r=\"14\" fill=\"#009af9\" fill-rule=\"evenodd\" fill-opacity=\"1\" stroke=\"#000000\" stroke-opacity=\"1\" stroke-width=\"3.2\"/>\n",
       "<circle clip-path=\"url(#clip702)\" cx=\"1048.77\" cy=\"1426.66\" r=\"14\" fill=\"#009af9\" fill-rule=\"evenodd\" fill-opacity=\"1\" stroke=\"#000000\" stroke-opacity=\"1\" stroke-width=\"3.2\"/>\n",
       "<circle clip-path=\"url(#clip702)\" cx=\"468.945\" cy=\"98.2057\" r=\"14\" fill=\"#009af9\" fill-rule=\"evenodd\" fill-opacity=\"1\" stroke=\"#000000\" stroke-opacity=\"1\" stroke-width=\"3.2\"/>\n",
       "<circle clip-path=\"url(#clip702)\" cx=\"2084.17\" cy=\"1415.18\" r=\"14\" fill=\"#009af9\" fill-rule=\"evenodd\" fill-opacity=\"1\" stroke=\"#000000\" stroke-opacity=\"1\" stroke-width=\"3.2\"/>\n",
       "<circle clip-path=\"url(#clip702)\" cx=\"2187.71\" cy=\"1169.4\" r=\"14\" fill=\"#009af9\" fill-rule=\"evenodd\" fill-opacity=\"1\" stroke=\"#000000\" stroke-opacity=\"1\" stroke-width=\"3.2\"/>\n",
       "<circle clip-path=\"url(#clip702)\" cx=\"386.113\" cy=\"239.877\" r=\"14\" fill=\"#009af9\" fill-rule=\"evenodd\" fill-opacity=\"1\" stroke=\"#000000\" stroke-opacity=\"1\" stroke-width=\"3.2\"/>\n",
       "<circle clip-path=\"url(#clip702)\" cx=\"779.566\" cy=\"874.122\" r=\"14\" fill=\"#009af9\" fill-rule=\"evenodd\" fill-opacity=\"1\" stroke=\"#000000\" stroke-opacity=\"1\" stroke-width=\"3.2\"/>\n",
       "<circle clip-path=\"url(#clip702)\" cx=\"841.69\" cy=\"1115.61\" r=\"14\" fill=\"#009af9\" fill-rule=\"evenodd\" fill-opacity=\"1\" stroke=\"#000000\" stroke-opacity=\"1\" stroke-width=\"3.2\"/>\n",
       "<circle clip-path=\"url(#clip702)\" cx=\"2146.3\" cy=\"1293.81\" r=\"14\" fill=\"#009af9\" fill-rule=\"evenodd\" fill-opacity=\"1\" stroke=\"#000000\" stroke-opacity=\"1\" stroke-width=\"3.2\"/>\n",
       "<circle clip-path=\"url(#clip702)\" cx=\"883.106\" cy=\"1250.73\" r=\"14\" fill=\"#009af9\" fill-rule=\"evenodd\" fill-opacity=\"1\" stroke=\"#000000\" stroke-opacity=\"1\" stroke-width=\"3.2\"/>\n",
       "<circle clip-path=\"url(#clip702)\" cx=\"2125.59\" cy=\"1343.77\" r=\"14\" fill=\"#009af9\" fill-rule=\"evenodd\" fill-opacity=\"1\" stroke=\"#000000\" stroke-opacity=\"1\" stroke-width=\"3.2\"/>\n",
       "<circle clip-path=\"url(#clip702)\" cx=\"1566.47\" cy=\"112.44\" r=\"14\" fill=\"#009af9\" fill-rule=\"evenodd\" fill-opacity=\"1\" stroke=\"#000000\" stroke-opacity=\"1\" stroke-width=\"3.2\"/>\n",
       "<circle clip-path=\"url(#clip702)\" cx=\"427.529\" cy=\"149.247\" r=\"14\" fill=\"#009af9\" fill-rule=\"evenodd\" fill-opacity=\"1\" stroke=\"#000000\" stroke-opacity=\"1\" stroke-width=\"3.2\"/>\n",
       "<path clip-path=\"url(#clip700)\" d=\"\n",
       "M1987.85 216.178 L2280.32 216.178 L2280.32 95.2176 L1987.85 95.2176  Z\n",
       "  \" fill=\"#ffffff\" fill-rule=\"evenodd\" fill-opacity=\"1\"/>\n",
       "<polyline clip-path=\"url(#clip700)\" style=\"stroke:#000000; stroke-width:4; stroke-opacity:1; fill:none\" points=\"\n",
       "  1987.85,216.178 2280.32,216.178 2280.32,95.2176 1987.85,95.2176 1987.85,216.178 \n",
       "  \"/>\n",
       "<circle clip-path=\"url(#clip700)\" cx=\"2084.43\" cy=\"155.698\" r=\"23\" fill=\"#009af9\" fill-rule=\"evenodd\" fill-opacity=\"1\" stroke=\"#000000\" stroke-opacity=\"1\" stroke-width=\"5.12\"/>\n",
       "<path clip-path=\"url(#clip700)\" d=\"M 0 0 M2194.85 175.385 Q2193.05 180.015 2191.33 181.427 Q2189.62 182.839 2186.75 182.839 L2183.35 182.839 L2183.35 179.274 L2185.85 179.274 Q2187.61 179.274 2188.58 178.44 Q2189.55 177.607 2190.73 174.505 L2191.5 172.561 L2181.01 147.052 L2185.52 147.052 L2193.63 167.329 L2201.73 147.052 L2206.24 147.052 L2194.85 175.385 Z\" fill=\"#000000\" fill-rule=\"evenodd\" fill-opacity=\"1\" /><path clip-path=\"url(#clip700)\" d=\"M 0 0 M2212.12 169.042 L2219.76 169.042 L2219.76 142.677 L2211.45 144.343 L2211.45 140.084 L2219.71 138.418 L2224.39 138.418 L2224.39 169.042 L2232.03 169.042 L2232.03 172.978 L2212.12 172.978 L2212.12 169.042 Z\" fill=\"#000000\" fill-rule=\"evenodd\" fill-opacity=\"1\" /></svg>\n"
      ]
     },
     "execution_count": 35,
     "metadata": {},
     "output_type": "execute_result"
    }
   ],
   "source": [
    "scatter(dx, dy)"
   ]
  },
  {
   "cell_type": "code",
   "execution_count": 36,
   "metadata": {},
   "outputs": [
    {
     "data": {
      "text/plain": [
       "Chain(Dense(1, 50, σ), Dense(50, 50, σ), Dense(50, 1))"
      ]
     },
     "execution_count": 36,
     "metadata": {},
     "output_type": "execute_result"
    }
   ],
   "source": [
    "m = Chain(Dense(1,50,σ), Dense(50,50,σ), Dense(50,1))"
   ]
  },
  {
   "cell_type": "code",
   "execution_count": 37,
   "metadata": {},
   "outputs": [
    {
     "data": {
      "text/plain": [
       "loss (generic function with 1 method)"
      ]
     },
     "execution_count": 37,
     "metadata": {},
     "output_type": "execute_result"
    }
   ],
   "source": [
    "loss(x, y) = sum((m(x)-y).^2)"
   ]
  },
  {
   "cell_type": "code",
   "execution_count": 38,
   "metadata": {},
   "outputs": [
    {
     "data": {
      "text/plain": [
       "Params([Float32[-0.039040454; 0.000579144; … ; 0.2902786; -0.05209311], Float32[0.0, 0.0, 0.0, 0.0, 0.0, 0.0, 0.0, 0.0, 0.0, 0.0  …  0.0, 0.0, 0.0, 0.0, 0.0, 0.0, 0.0, 0.0, 0.0, 0.0], Float32[0.21639293 -0.008162505 … 0.0357269 -0.14679964; 0.13054962 -0.15357485 … -0.026570365 0.24339142; … ; -0.13907596 -0.189997 … 0.18374753 -0.06225633; 0.0679822 0.19270071 … 0.1566814 0.12645149], Float32[0.0, 0.0, 0.0, 0.0, 0.0, 0.0, 0.0, 0.0, 0.0, 0.0  …  0.0, 0.0, 0.0, 0.0, 0.0, 0.0, 0.0, 0.0, 0.0, 0.0], Float32[-0.30905566 0.10861608 … 0.027662016 0.09551959], Float32[0.0]])"
      ]
     },
     "execution_count": 38,
     "metadata": {},
     "output_type": "execute_result"
    }
   ],
   "source": [
    "ps = Flux.params(m)"
   ]
  },
  {
   "cell_type": "code",
   "execution_count": 39,
   "metadata": {},
   "outputs": [
    {
     "data": {
      "text/plain": [
       "100-element Array{Tuple{SArray{Tuple{1},Float64,1,1},SArray{Tuple{1},Float64,1,1}},1}:\n",
       " ([0.5757575757575758], [0.8145759520503361])\n",
       " ([0.37373737373737376], [-0.9998741276738751])\n",
       " ([0.12121212121212122], [0.998867339183008])\n",
       " ([0.0], [0.0])\n",
       " ([0.47474747474747475], [-0.31203344569848707])\n",
       " ([0.050505050505050504], [0.5929079290546404])\n",
       " ([0.3838383838383838], [-0.9938384644612541])\n",
       " ([0.7676767676767676], [-0.22031053278654034])\n",
       " ([0.7575757575757576], [-0.09505604330418282])\n",
       " ([0.5454545454545454], [0.5406408174555971])\n",
       " ([0.7070707070707071], [0.5136773915734072])\n",
       " ([0.98989898989899], [-0.1265924535737493])\n",
       " ([0.10101010101010101], [0.9549022414440739])\n",
       " ⋮\n",
       " ([0.3939393939393939], [-0.9718115683235419])\n",
       " ([0.1111111111111111], [0.984807753012208])\n",
       " ([0.898989898989899], [-0.9549022414440742])\n",
       " ([0.9494949494949495], [-0.5929079290546404])\n",
       " ([0.0707070707070707], [0.7761464642917568])\n",
       " ([0.26262626262626265], [-0.15800139597335008])\n",
       " ([0.29292929292929293], [-0.5136773915734061])\n",
       " ([0.9292929292929293], [-0.7761464642917573])\n",
       " ([0.31313131313131315], [-0.7126941713788629])\n",
       " ([0.9191919191919192], [-0.8497254299495145])\n",
       " ([0.6464646464646465], [0.963842158559942])\n",
       " ([0.09090909090909091], [0.9096319953545183])"
      ]
     },
     "execution_count": 39,
     "metadata": {},
     "output_type": "execute_result"
    }
   ],
   "source": [
    "data = [(SVector(dx[i]), SVector(dy[i])) for i in 1:length(dx)]"
   ]
  },
  {
   "cell_type": "code",
   "execution_count": 41,
   "metadata": {},
   "outputs": [
    {
     "data": {
      "text/plain": [
       "900"
      ]
     },
     "metadata": {},
     "output_type": "display_data"
    },
    {
     "data": {
      "image/svg+xml": [
       "<?xml version=\"1.0\" encoding=\"utf-8\"?>\n",
       "<svg xmlns=\"http://www.w3.org/2000/svg\" xmlns:xlink=\"http://www.w3.org/1999/xlink\" width=\"600\" height=\"400\" viewBox=\"0 0 2400 1600\">\n",
       "<defs>\n",
       "  <clipPath id=\"clip300\">\n",
       "    <rect x=\"0\" y=\"0\" width=\"2400\" height=\"1600\"/>\n",
       "  </clipPath>\n",
       "</defs>\n",
       "<path clip-path=\"url(#clip300)\" d=\"\n",
       "M0 1600 L2400 1600 L2400 0 L0 0  Z\n",
       "  \" fill=\"#ffffff\" fill-rule=\"evenodd\" fill-opacity=\"1\"/>\n",
       "<defs>\n",
       "  <clipPath id=\"clip301\">\n",
       "    <rect x=\"480\" y=\"0\" width=\"1681\" height=\"1600\"/>\n",
       "  </clipPath>\n",
       "</defs>\n",
       "<path clip-path=\"url(#clip300)\" d=\"\n",
       "M179.654 1486.45 L2352.76 1486.45 L2352.76 47.2441 L179.654 47.2441  Z\n",
       "  \" fill=\"#ffffff\" fill-rule=\"evenodd\" fill-opacity=\"1\"/>\n",
       "<defs>\n",
       "  <clipPath id=\"clip302\">\n",
       "    <rect x=\"179\" y=\"47\" width=\"2174\" height=\"1440\"/>\n",
       "  </clipPath>\n",
       "</defs>\n",
       "<polyline clip-path=\"url(#clip302)\" style=\"stroke:#000000; stroke-width:2; stroke-opacity:0.1; fill:none\" points=\"\n",
       "  241.157,1486.45 241.157,47.2441 \n",
       "  \"/>\n",
       "<polyline clip-path=\"url(#clip302)\" style=\"stroke:#000000; stroke-width:2; stroke-opacity:0.1; fill:none\" points=\"\n",
       "  753.681,1486.45 753.681,47.2441 \n",
       "  \"/>\n",
       "<polyline clip-path=\"url(#clip302)\" style=\"stroke:#000000; stroke-width:2; stroke-opacity:0.1; fill:none\" points=\"\n",
       "  1266.2,1486.45 1266.2,47.2441 \n",
       "  \"/>\n",
       "<polyline clip-path=\"url(#clip302)\" style=\"stroke:#000000; stroke-width:2; stroke-opacity:0.1; fill:none\" points=\"\n",
       "  1778.73,1486.45 1778.73,47.2441 \n",
       "  \"/>\n",
       "<polyline clip-path=\"url(#clip302)\" style=\"stroke:#000000; stroke-width:2; stroke-opacity:0.1; fill:none\" points=\"\n",
       "  2291.25,1486.45 2291.25,47.2441 \n",
       "  \"/>\n",
       "<polyline clip-path=\"url(#clip300)\" style=\"stroke:#000000; stroke-width:4; stroke-opacity:1; fill:none\" points=\"\n",
       "  179.654,1486.45 2352.76,1486.45 \n",
       "  \"/>\n",
       "<polyline clip-path=\"url(#clip300)\" style=\"stroke:#000000; stroke-width:4; stroke-opacity:1; fill:none\" points=\"\n",
       "  241.157,1486.45 241.157,1469.18 \n",
       "  \"/>\n",
       "<polyline clip-path=\"url(#clip300)\" style=\"stroke:#000000; stroke-width:4; stroke-opacity:1; fill:none\" points=\"\n",
       "  753.681,1486.45 753.681,1469.18 \n",
       "  \"/>\n",
       "<polyline clip-path=\"url(#clip300)\" style=\"stroke:#000000; stroke-width:4; stroke-opacity:1; fill:none\" points=\"\n",
       "  1266.2,1486.45 1266.2,1469.18 \n",
       "  \"/>\n",
       "<polyline clip-path=\"url(#clip300)\" style=\"stroke:#000000; stroke-width:4; stroke-opacity:1; fill:none\" points=\"\n",
       "  1778.73,1486.45 1778.73,1469.18 \n",
       "  \"/>\n",
       "<polyline clip-path=\"url(#clip300)\" style=\"stroke:#000000; stroke-width:4; stroke-opacity:1; fill:none\" points=\"\n",
       "  2291.25,1486.45 2291.25,1469.18 \n",
       "  \"/>\n",
       "<path clip-path=\"url(#clip300)\" d=\"M 0 0 M209.166 1515.64 Q205.555 1515.64 203.726 1519.2 Q201.921 1522.75 201.921 1529.87 Q201.921 1536.98 203.726 1540.55 Q205.555 1544.09 209.166 1544.09 Q212.8 1544.09 214.606 1540.55 Q216.434 1536.98 216.434 1529.87 Q216.434 1522.75 214.606 1519.2 Q212.8 1515.64 209.166 1515.64 M209.166 1511.93 Q214.976 1511.93 218.032 1516.54 Q221.11 1521.12 221.11 1529.87 Q221.11 1538.6 218.032 1543.21 Q214.976 1547.79 209.166 1547.79 Q203.356 1547.79 200.277 1543.21 Q197.222 1538.6 197.222 1529.87 Q197.222 1521.12 200.277 1516.54 Q203.356 1511.93 209.166 1511.93 Z\" fill=\"#000000\" fill-rule=\"evenodd\" fill-opacity=\"1\" /><path clip-path=\"url(#clip300)\" d=\"M 0 0 M226.18 1541.24 L231.064 1541.24 L231.064 1547.12 L226.18 1547.12 L226.18 1541.24 Z\" fill=\"#000000\" fill-rule=\"evenodd\" fill-opacity=\"1\" /><path clip-path=\"url(#clip300)\" d=\"M 0 0 M246.133 1515.64 Q242.522 1515.64 240.694 1519.2 Q238.888 1522.75 238.888 1529.87 Q238.888 1536.98 240.694 1540.55 Q242.522 1544.09 246.133 1544.09 Q249.768 1544.09 251.573 1540.55 Q253.402 1536.98 253.402 1529.87 Q253.402 1522.75 251.573 1519.2 Q249.768 1515.64 246.133 1515.64 M246.133 1511.93 Q251.944 1511.93 254.999 1516.54 Q258.078 1521.12 258.078 1529.87 Q258.078 1538.6 254.999 1543.21 Q251.944 1547.79 246.133 1547.79 Q240.323 1547.79 237.245 1543.21 Q234.189 1538.6 234.189 1529.87 Q234.189 1521.12 237.245 1516.54 Q240.323 1511.93 246.133 1511.93 Z\" fill=\"#000000\" fill-rule=\"evenodd\" fill-opacity=\"1\" /><path clip-path=\"url(#clip300)\" d=\"M 0 0 M273.147 1515.64 Q269.536 1515.64 267.707 1519.2 Q265.902 1522.75 265.902 1529.87 Q265.902 1536.98 267.707 1540.55 Q269.536 1544.09 273.147 1544.09 Q276.781 1544.09 278.587 1540.55 Q280.416 1536.98 280.416 1529.87 Q280.416 1522.75 278.587 1519.2 Q276.781 1515.64 273.147 1515.64 M273.147 1511.93 Q278.957 1511.93 282.013 1516.54 Q285.092 1521.12 285.092 1529.87 Q285.092 1538.6 282.013 1543.21 Q278.957 1547.79 273.147 1547.79 Q267.337 1547.79 264.258 1543.21 Q261.203 1538.6 261.203 1529.87 Q261.203 1521.12 264.258 1516.54 Q267.337 1511.93 273.147 1511.93 Z\" fill=\"#000000\" fill-rule=\"evenodd\" fill-opacity=\"1\" /><path clip-path=\"url(#clip300)\" d=\"M 0 0 M722.986 1515.64 Q719.375 1515.64 717.547 1519.2 Q715.741 1522.75 715.741 1529.87 Q715.741 1536.98 717.547 1540.55 Q719.375 1544.09 722.986 1544.09 Q726.621 1544.09 728.426 1540.55 Q730.255 1536.98 730.255 1529.87 Q730.255 1522.75 728.426 1519.2 Q726.621 1515.64 722.986 1515.64 M722.986 1511.93 Q728.797 1511.93 731.852 1516.54 Q734.931 1521.12 734.931 1529.87 Q734.931 1538.6 731.852 1543.21 Q728.797 1547.79 722.986 1547.79 Q717.176 1547.79 714.098 1543.21 Q711.042 1538.6 711.042 1529.87 Q711.042 1521.12 714.098 1516.54 Q717.176 1511.93 722.986 1511.93 Z\" fill=\"#000000\" fill-rule=\"evenodd\" fill-opacity=\"1\" /><path clip-path=\"url(#clip300)\" d=\"M 0 0 M740 1541.24 L744.884 1541.24 L744.884 1547.12 L740 1547.12 L740 1541.24 Z\" fill=\"#000000\" fill-rule=\"evenodd\" fill-opacity=\"1\" /><path clip-path=\"url(#clip300)\" d=\"M 0 0 M753.982 1543.18 L770.301 1543.18 L770.301 1547.12 L748.357 1547.12 L748.357 1543.18 Q751.019 1540.43 755.602 1535.8 Q760.208 1531.15 761.389 1529.81 Q763.634 1527.28 764.514 1525.55 Q765.417 1523.79 765.417 1522.1 Q765.417 1519.34 763.472 1517.61 Q761.551 1515.87 758.449 1515.87 Q756.25 1515.87 753.796 1516.63 Q751.366 1517.4 748.588 1518.95 L748.588 1514.23 Q751.412 1513.09 753.866 1512.51 Q756.32 1511.93 758.357 1511.93 Q763.727 1511.93 766.921 1514.62 Q770.116 1517.31 770.116 1521.8 Q770.116 1523.93 769.306 1525.85 Q768.519 1527.74 766.412 1530.34 Q765.833 1531.01 762.732 1534.23 Q759.63 1537.42 753.982 1543.18 Z\" fill=\"#000000\" fill-rule=\"evenodd\" fill-opacity=\"1\" /><path clip-path=\"url(#clip300)\" d=\"M 0 0 M775.417 1512.56 L793.773 1512.56 L793.773 1516.5 L779.699 1516.5 L779.699 1524.97 Q780.718 1524.62 781.736 1524.46 Q782.755 1524.27 783.773 1524.27 Q789.56 1524.27 792.94 1527.44 Q796.319 1530.62 796.319 1536.03 Q796.319 1541.61 792.847 1544.71 Q789.375 1547.79 783.056 1547.79 Q780.88 1547.79 778.611 1547.42 Q776.366 1547.05 773.958 1546.31 L773.958 1541.61 Q776.042 1542.74 778.264 1543.3 Q780.486 1543.86 782.963 1543.86 Q786.968 1543.86 789.305 1541.75 Q791.643 1539.64 791.643 1536.03 Q791.643 1532.42 789.305 1530.31 Q786.968 1528.21 782.963 1528.21 Q781.088 1528.21 779.213 1528.62 Q777.361 1529.04 775.417 1529.92 L775.417 1512.56 Z\" fill=\"#000000\" fill-rule=\"evenodd\" fill-opacity=\"1\" /><path clip-path=\"url(#clip300)\" d=\"M 0 0 M1234.71 1515.64 Q1231.1 1515.64 1229.27 1519.2 Q1227.47 1522.75 1227.47 1529.87 Q1227.47 1536.98 1229.27 1540.55 Q1231.1 1544.09 1234.71 1544.09 Q1238.35 1544.09 1240.15 1540.55 Q1241.98 1536.98 1241.98 1529.87 Q1241.98 1522.75 1240.15 1519.2 Q1238.35 1515.64 1234.71 1515.64 M1234.71 1511.93 Q1240.52 1511.93 1243.58 1516.54 Q1246.66 1521.12 1246.66 1529.87 Q1246.66 1538.6 1243.58 1543.21 Q1240.52 1547.79 1234.71 1547.79 Q1228.9 1547.79 1225.82 1543.21 Q1222.77 1538.6 1222.77 1529.87 Q1222.77 1521.12 1225.82 1516.54 Q1228.9 1511.93 1234.71 1511.93 Z\" fill=\"#000000\" fill-rule=\"evenodd\" fill-opacity=\"1\" /><path clip-path=\"url(#clip300)\" d=\"M 0 0 M1251.73 1541.24 L1256.61 1541.24 L1256.61 1547.12 L1251.73 1547.12 L1251.73 1541.24 Z\" fill=\"#000000\" fill-rule=\"evenodd\" fill-opacity=\"1\" /><path clip-path=\"url(#clip300)\" d=\"M 0 0 M1261.73 1512.56 L1280.08 1512.56 L1280.08 1516.5 L1266.01 1516.5 L1266.01 1524.97 Q1267.03 1524.62 1268.05 1524.46 Q1269.06 1524.27 1270.08 1524.27 Q1275.87 1524.27 1279.25 1527.44 Q1282.63 1530.62 1282.63 1536.03 Q1282.63 1541.61 1279.16 1544.71 Q1275.68 1547.79 1269.36 1547.79 Q1267.19 1547.79 1264.92 1547.42 Q1262.67 1547.05 1260.27 1546.31 L1260.27 1541.61 Q1262.35 1542.74 1264.57 1543.3 Q1266.8 1543.86 1269.27 1543.86 Q1273.28 1543.86 1275.61 1541.75 Q1277.95 1539.64 1277.95 1536.03 Q1277.95 1532.42 1275.61 1530.31 Q1273.28 1528.21 1269.27 1528.21 Q1267.4 1528.21 1265.52 1528.62 Q1263.67 1529.04 1261.73 1529.92 L1261.73 1512.56 Z\" fill=\"#000000\" fill-rule=\"evenodd\" fill-opacity=\"1\" /><path clip-path=\"url(#clip300)\" d=\"M 0 0 M1297.7 1515.64 Q1294.09 1515.64 1292.26 1519.2 Q1290.45 1522.75 1290.45 1529.87 Q1290.45 1536.98 1292.26 1540.55 Q1294.09 1544.09 1297.7 1544.09 Q1301.33 1544.09 1303.14 1540.55 Q1304.97 1536.98 1304.97 1529.87 Q1304.97 1522.75 1303.14 1519.2 Q1301.33 1515.64 1297.7 1515.64 M1297.7 1511.93 Q1303.51 1511.93 1306.56 1516.54 Q1309.64 1521.12 1309.64 1529.87 Q1309.64 1538.6 1306.56 1543.21 Q1303.51 1547.79 1297.7 1547.79 Q1291.89 1547.79 1288.81 1543.21 Q1285.75 1538.6 1285.75 1529.87 Q1285.75 1521.12 1288.81 1516.54 Q1291.89 1511.93 1297.7 1511.93 Z\" fill=\"#000000\" fill-rule=\"evenodd\" fill-opacity=\"1\" /><path clip-path=\"url(#clip300)\" d=\"M 0 0 M1747.69 1515.64 Q1744.08 1515.64 1742.25 1519.2 Q1740.44 1522.75 1740.44 1529.87 Q1740.44 1536.98 1742.25 1540.55 Q1744.08 1544.09 1747.69 1544.09 Q1751.32 1544.09 1753.13 1540.55 Q1754.96 1536.98 1754.96 1529.87 Q1754.96 1522.75 1753.13 1519.2 Q1751.32 1515.64 1747.69 1515.64 M1747.69 1511.93 Q1753.5 1511.93 1756.55 1516.54 Q1759.63 1521.12 1759.63 1529.87 Q1759.63 1538.6 1756.55 1543.21 Q1753.5 1547.79 1747.69 1547.79 Q1741.88 1547.79 1738.8 1543.21 Q1735.74 1538.6 1735.74 1529.87 Q1735.74 1521.12 1738.8 1516.54 Q1741.88 1511.93 1747.69 1511.93 Z\" fill=\"#000000\" fill-rule=\"evenodd\" fill-opacity=\"1\" /><path clip-path=\"url(#clip300)\" d=\"M 0 0 M1764.7 1541.24 L1769.59 1541.24 L1769.59 1547.12 L1764.7 1547.12 L1764.7 1541.24 Z\" fill=\"#000000\" fill-rule=\"evenodd\" fill-opacity=\"1\" /><path clip-path=\"url(#clip300)\" d=\"M 0 0 M1773.47 1512.56 L1795.7 1512.56 L1795.7 1514.55 L1783.15 1547.12 L1778.27 1547.12 L1790.07 1516.5 L1773.47 1516.5 L1773.47 1512.56 Z\" fill=\"#000000\" fill-rule=\"evenodd\" fill-opacity=\"1\" /><path clip-path=\"url(#clip300)\" d=\"M 0 0 M1800.81 1512.56 L1819.17 1512.56 L1819.17 1516.5 L1805.09 1516.5 L1805.09 1524.97 Q1806.11 1524.62 1807.13 1524.46 Q1808.15 1524.27 1809.17 1524.27 Q1814.96 1524.27 1818.34 1527.44 Q1821.71 1530.62 1821.71 1536.03 Q1821.71 1541.61 1818.24 1544.71 Q1814.77 1547.79 1808.45 1547.79 Q1806.28 1547.79 1804.01 1547.42 Q1801.76 1547.05 1799.35 1546.31 L1799.35 1541.61 Q1801.44 1542.74 1803.66 1543.3 Q1805.88 1543.86 1808.36 1543.86 Q1812.36 1543.86 1814.7 1541.75 Q1817.04 1539.64 1817.04 1536.03 Q1817.04 1532.42 1814.7 1530.31 Q1812.36 1528.21 1808.36 1528.21 Q1806.48 1528.21 1804.61 1528.62 Q1802.76 1529.04 1800.81 1529.92 L1800.81 1512.56 Z\" fill=\"#000000\" fill-rule=\"evenodd\" fill-opacity=\"1\" /><path clip-path=\"url(#clip300)\" d=\"M 0 0 M2249.64 1543.18 L2257.28 1543.18 L2257.28 1516.82 L2248.97 1518.49 L2248.97 1514.23 L2257.24 1512.56 L2261.91 1512.56 L2261.91 1543.18 L2269.55 1543.18 L2269.55 1547.12 L2249.64 1547.12 L2249.64 1543.18 Z\" fill=\"#000000\" fill-rule=\"evenodd\" fill-opacity=\"1\" /><path clip-path=\"url(#clip300)\" d=\"M 0 0 M2274.62 1541.24 L2279.51 1541.24 L2279.51 1547.12 L2274.62 1547.12 L2274.62 1541.24 Z\" fill=\"#000000\" fill-rule=\"evenodd\" fill-opacity=\"1\" /><path clip-path=\"url(#clip300)\" d=\"M 0 0 M2294.57 1515.64 Q2290.96 1515.64 2289.13 1519.2 Q2287.33 1522.75 2287.33 1529.87 Q2287.33 1536.98 2289.13 1540.55 Q2290.96 1544.09 2294.57 1544.09 Q2298.21 1544.09 2300.01 1540.55 Q2301.84 1536.98 2301.84 1529.87 Q2301.84 1522.75 2300.01 1519.2 Q2298.21 1515.64 2294.57 1515.64 M2294.57 1511.93 Q2300.38 1511.93 2303.44 1516.54 Q2306.52 1521.12 2306.52 1529.87 Q2306.52 1538.6 2303.44 1543.21 Q2300.38 1547.79 2294.57 1547.79 Q2288.76 1547.79 2285.69 1543.21 Q2282.63 1538.6 2282.63 1529.87 Q2282.63 1521.12 2285.69 1516.54 Q2288.76 1511.93 2294.57 1511.93 Z\" fill=\"#000000\" fill-rule=\"evenodd\" fill-opacity=\"1\" /><path clip-path=\"url(#clip300)\" d=\"M 0 0 M2321.59 1515.64 Q2317.98 1515.64 2316.15 1519.2 Q2314.34 1522.75 2314.34 1529.87 Q2314.34 1536.98 2316.15 1540.55 Q2317.98 1544.09 2321.59 1544.09 Q2325.22 1544.09 2327.03 1540.55 Q2328.86 1536.98 2328.86 1529.87 Q2328.86 1522.75 2327.03 1519.2 Q2325.22 1515.64 2321.59 1515.64 M2321.59 1511.93 Q2327.4 1511.93 2330.45 1516.54 Q2333.53 1521.12 2333.53 1529.87 Q2333.53 1538.6 2330.45 1543.21 Q2327.4 1547.79 2321.59 1547.79 Q2315.78 1547.79 2312.7 1543.21 Q2309.64 1538.6 2309.64 1529.87 Q2309.64 1521.12 2312.7 1516.54 Q2315.78 1511.93 2321.59 1511.93 Z\" fill=\"#000000\" fill-rule=\"evenodd\" fill-opacity=\"1\" /><polyline clip-path=\"url(#clip302)\" style=\"stroke:#000000; stroke-width:2; stroke-opacity:0.1; fill:none\" points=\"\n",
       "  179.654,1431.06 2352.76,1431.06 \n",
       "  \"/>\n",
       "<polyline clip-path=\"url(#clip302)\" style=\"stroke:#000000; stroke-width:2; stroke-opacity:0.1; fill:none\" points=\"\n",
       "  179.654,1095.27 2352.76,1095.27 \n",
       "  \"/>\n",
       "<polyline clip-path=\"url(#clip302)\" style=\"stroke:#000000; stroke-width:2; stroke-opacity:0.1; fill:none\" points=\"\n",
       "  179.654,759.478 2352.76,759.478 \n",
       "  \"/>\n",
       "<polyline clip-path=\"url(#clip302)\" style=\"stroke:#000000; stroke-width:2; stroke-opacity:0.1; fill:none\" points=\"\n",
       "  179.654,423.685 2352.76,423.685 \n",
       "  \"/>\n",
       "<polyline clip-path=\"url(#clip302)\" style=\"stroke:#000000; stroke-width:2; stroke-opacity:0.1; fill:none\" points=\"\n",
       "  179.654,87.8917 2352.76,87.8917 \n",
       "  \"/>\n",
       "<polyline clip-path=\"url(#clip300)\" style=\"stroke:#000000; stroke-width:4; stroke-opacity:1; fill:none\" points=\"\n",
       "  179.654,1486.45 179.654,47.2441 \n",
       "  \"/>\n",
       "<polyline clip-path=\"url(#clip300)\" style=\"stroke:#000000; stroke-width:4; stroke-opacity:1; fill:none\" points=\"\n",
       "  179.654,1431.06 205.731,1431.06 \n",
       "  \"/>\n",
       "<polyline clip-path=\"url(#clip300)\" style=\"stroke:#000000; stroke-width:4; stroke-opacity:1; fill:none\" points=\"\n",
       "  179.654,1095.27 205.731,1095.27 \n",
       "  \"/>\n",
       "<polyline clip-path=\"url(#clip300)\" style=\"stroke:#000000; stroke-width:4; stroke-opacity:1; fill:none\" points=\"\n",
       "  179.654,759.478 205.731,759.478 \n",
       "  \"/>\n",
       "<polyline clip-path=\"url(#clip300)\" style=\"stroke:#000000; stroke-width:4; stroke-opacity:1; fill:none\" points=\"\n",
       "  179.654,423.685 205.731,423.685 \n",
       "  \"/>\n",
       "<polyline clip-path=\"url(#clip300)\" style=\"stroke:#000000; stroke-width:4; stroke-opacity:1; fill:none\" points=\"\n",
       "  179.654,87.8917 205.731,87.8917 \n",
       "  \"/>\n",
       "<path clip-path=\"url(#clip300)\" d=\"M 0 0 M51.2236 1431.51 L80.8994 1431.51 L80.8994 1435.45 L51.2236 1435.45 L51.2236 1431.51 Z\" fill=\"#000000\" fill-rule=\"evenodd\" fill-opacity=\"1\" /><path clip-path=\"url(#clip300)\" d=\"M 0 0 M86.779 1444.41 L94.4178 1444.41 L94.4178 1418.04 L86.1077 1419.71 L86.1077 1415.45 L94.3715 1413.78 L99.0474 1413.78 L99.0474 1444.41 L106.686 1444.41 L106.686 1448.34 L86.779 1448.34 L86.779 1444.41 Z\" fill=\"#000000\" fill-rule=\"evenodd\" fill-opacity=\"1\" /><path clip-path=\"url(#clip300)\" d=\"M 0 0 M111.756 1442.46 L116.64 1442.46 L116.64 1448.34 L111.756 1448.34 L111.756 1442.46 Z\" fill=\"#000000\" fill-rule=\"evenodd\" fill-opacity=\"1\" /><path clip-path=\"url(#clip300)\" d=\"M 0 0 M131.709 1416.86 Q128.098 1416.86 126.27 1420.43 Q124.464 1423.97 124.464 1431.1 Q124.464 1438.2 126.27 1441.77 Q128.098 1445.31 131.709 1445.31 Q135.344 1445.31 137.149 1441.77 Q138.978 1438.2 138.978 1431.1 Q138.978 1423.97 137.149 1420.43 Q135.344 1416.86 131.709 1416.86 M131.709 1413.16 Q137.519 1413.16 140.575 1417.77 Q143.654 1422.35 143.654 1431.1 Q143.654 1439.83 140.575 1444.43 Q137.519 1449.01 131.709 1449.01 Q125.899 1449.01 122.82 1444.43 Q119.765 1439.83 119.765 1431.1 Q119.765 1422.35 122.82 1417.77 Q125.899 1413.16 131.709 1413.16 Z\" fill=\"#000000\" fill-rule=\"evenodd\" fill-opacity=\"1\" /><path clip-path=\"url(#clip300)\" d=\"M 0 0 M50.9921 1095.72 L80.6679 1095.72 L80.6679 1099.66 L50.9921 1099.66 L50.9921 1095.72 Z\" fill=\"#000000\" fill-rule=\"evenodd\" fill-opacity=\"1\" /><path clip-path=\"url(#clip300)\" d=\"M 0 0 M95.7373 1081.07 Q92.1262 1081.07 90.2975 1084.63 Q88.4919 1088.18 88.4919 1095.31 Q88.4919 1102.41 90.2975 1105.98 Q92.1262 1109.52 95.7373 1109.52 Q99.3715 1109.52 101.177 1105.98 Q103.006 1102.41 103.006 1095.31 Q103.006 1088.18 101.177 1084.63 Q99.3715 1081.07 95.7373 1081.07 M95.7373 1077.37 Q101.547 1077.37 104.603 1081.97 Q107.682 1086.56 107.682 1095.31 Q107.682 1104.03 104.603 1108.64 Q101.547 1113.22 95.7373 1113.22 Q89.9271 1113.22 86.8484 1108.64 Q83.7929 1104.03 83.7929 1095.31 Q83.7929 1086.56 86.8484 1081.97 Q89.9271 1077.37 95.7373 1077.37 Z\" fill=\"#000000\" fill-rule=\"evenodd\" fill-opacity=\"1\" /><path clip-path=\"url(#clip300)\" d=\"M 0 0 M112.751 1106.67 L117.635 1106.67 L117.635 1112.55 L112.751 1112.55 L112.751 1106.67 Z\" fill=\"#000000\" fill-rule=\"evenodd\" fill-opacity=\"1\" /><path clip-path=\"url(#clip300)\" d=\"M 0 0 M122.751 1077.99 L141.107 1077.99 L141.107 1081.93 L127.033 1081.93 L127.033 1090.4 Q128.052 1090.05 129.07 1089.89 Q130.089 1089.7 131.107 1089.7 Q136.894 1089.7 140.274 1092.87 Q143.654 1096.05 143.654 1101.46 Q143.654 1107.04 140.181 1110.14 Q136.709 1113.22 130.39 1113.22 Q128.214 1113.22 125.945 1112.85 Q123.7 1112.48 121.293 1111.74 L121.293 1107.04 Q123.376 1108.18 125.598 1108.73 Q127.82 1109.29 130.297 1109.29 Q134.302 1109.29 136.64 1107.18 Q138.978 1105.07 138.978 1101.46 Q138.978 1097.85 136.64 1095.75 Q134.302 1093.64 130.297 1093.64 Q128.422 1093.64 126.547 1094.06 Q124.695 1094.47 122.751 1095.35 L122.751 1077.99 Z\" fill=\"#000000\" fill-rule=\"evenodd\" fill-opacity=\"1\" /><path clip-path=\"url(#clip300)\" d=\"M 0 0 M94.7419 745.276 Q91.1308 745.276 89.3021 748.841 Q87.4966 752.383 87.4966 759.512 Q87.4966 766.619 89.3021 770.184 Q91.1308 773.725 94.7419 773.725 Q98.3761 773.725 100.182 770.184 Q102.01 766.619 102.01 759.512 Q102.01 752.383 100.182 748.841 Q98.3761 745.276 94.7419 745.276 M94.7419 741.573 Q100.552 741.573 103.608 746.179 Q106.686 750.762 106.686 759.512 Q106.686 768.239 103.608 772.846 Q100.552 777.429 94.7419 777.429 Q88.9317 777.429 85.8531 772.846 Q82.7975 768.239 82.7975 759.512 Q82.7975 750.762 85.8531 746.179 Q88.9317 741.573 94.7419 741.573 Z\" fill=\"#000000\" fill-rule=\"evenodd\" fill-opacity=\"1\" /><path clip-path=\"url(#clip300)\" d=\"M 0 0 M111.756 770.878 L116.64 770.878 L116.64 776.758 L111.756 776.758 L111.756 770.878 Z\" fill=\"#000000\" fill-rule=\"evenodd\" fill-opacity=\"1\" /><path clip-path=\"url(#clip300)\" d=\"M 0 0 M131.709 745.276 Q128.098 745.276 126.27 748.841 Q124.464 752.383 124.464 759.512 Q124.464 766.619 126.27 770.184 Q128.098 773.725 131.709 773.725 Q135.344 773.725 137.149 770.184 Q138.978 766.619 138.978 759.512 Q138.978 752.383 137.149 748.841 Q135.344 745.276 131.709 745.276 M131.709 741.573 Q137.519 741.573 140.575 746.179 Q143.654 750.762 143.654 759.512 Q143.654 768.239 140.575 772.846 Q137.519 777.429 131.709 777.429 Q125.899 777.429 122.82 772.846 Q119.765 768.239 119.765 759.512 Q119.765 750.762 122.82 746.179 Q125.899 741.573 131.709 741.573 Z\" fill=\"#000000\" fill-rule=\"evenodd\" fill-opacity=\"1\" /><path clip-path=\"url(#clip300)\" d=\"M 0 0 M95.7373 409.483 Q92.1262 409.483 90.2975 413.048 Q88.4919 416.59 88.4919 423.719 Q88.4919 430.826 90.2975 434.391 Q92.1262 437.932 95.7373 437.932 Q99.3715 437.932 101.177 434.391 Q103.006 430.826 103.006 423.719 Q103.006 416.59 101.177 413.048 Q99.3715 409.483 95.7373 409.483 M95.7373 405.78 Q101.547 405.78 104.603 410.386 Q107.682 414.969 107.682 423.719 Q107.682 432.446 104.603 437.053 Q101.547 441.636 95.7373 441.636 Q89.9271 441.636 86.8484 437.053 Q83.7929 432.446 83.7929 423.719 Q83.7929 414.969 86.8484 410.386 Q89.9271 405.78 95.7373 405.78 Z\" fill=\"#000000\" fill-rule=\"evenodd\" fill-opacity=\"1\" /><path clip-path=\"url(#clip300)\" d=\"M 0 0 M112.751 435.085 L117.635 435.085 L117.635 440.965 L112.751 440.965 L112.751 435.085 Z\" fill=\"#000000\" fill-rule=\"evenodd\" fill-opacity=\"1\" /><path clip-path=\"url(#clip300)\" d=\"M 0 0 M122.751 406.405 L141.107 406.405 L141.107 410.34 L127.033 410.34 L127.033 418.812 Q128.052 418.465 129.07 418.303 Q130.089 418.118 131.107 418.118 Q136.894 418.118 140.274 421.289 Q143.654 424.46 143.654 429.877 Q143.654 435.455 140.181 438.557 Q136.709 441.636 130.39 441.636 Q128.214 441.636 125.945 441.266 Q123.7 440.895 121.293 440.155 L121.293 435.455 Q123.376 436.59 125.598 437.145 Q127.82 437.701 130.297 437.701 Q134.302 437.701 136.64 435.594 Q138.978 433.488 138.978 429.877 Q138.978 426.266 136.64 424.159 Q134.302 422.053 130.297 422.053 Q128.422 422.053 126.547 422.469 Q124.695 422.886 122.751 423.766 L122.751 406.405 Z\" fill=\"#000000\" fill-rule=\"evenodd\" fill-opacity=\"1\" /><path clip-path=\"url(#clip300)\" d=\"M 0 0 M86.779 101.237 L94.4178 101.237 L94.4178 74.871 L86.1077 76.5376 L86.1077 72.2784 L94.3715 70.6117 L99.0474 70.6117 L99.0474 101.237 L106.686 101.237 L106.686 105.172 L86.779 105.172 L86.779 101.237 Z\" fill=\"#000000\" fill-rule=\"evenodd\" fill-opacity=\"1\" /><path clip-path=\"url(#clip300)\" d=\"M 0 0 M111.756 99.2921 L116.64 99.2921 L116.64 105.172 L111.756 105.172 L111.756 99.2921 Z\" fill=\"#000000\" fill-rule=\"evenodd\" fill-opacity=\"1\" /><path clip-path=\"url(#clip300)\" d=\"M 0 0 M131.709 73.6904 Q128.098 73.6904 126.27 77.2552 Q124.464 80.7969 124.464 87.9265 Q124.464 95.0329 126.27 98.5977 Q128.098 102.139 131.709 102.139 Q135.344 102.139 137.149 98.5977 Q138.978 95.0329 138.978 87.9265 Q138.978 80.7969 137.149 77.2552 Q135.344 73.6904 131.709 73.6904 M131.709 69.9867 Q137.519 69.9867 140.575 74.5932 Q143.654 79.1765 143.654 87.9265 Q143.654 96.6533 140.575 101.26 Q137.519 105.843 131.709 105.843 Q125.899 105.843 122.82 101.26 Q119.765 96.6533 119.765 87.9265 Q119.765 79.1765 122.82 74.5932 Q125.899 69.9867 131.709 69.9867 Z\" fill=\"#000000\" fill-rule=\"evenodd\" fill-opacity=\"1\" /><polyline clip-path=\"url(#clip302)\" style=\"stroke:#009af9; stroke-width:4; stroke-opacity:1; fill:none\" points=\"\n",
       "  241.157,759.478 261.865,674.46 282.573,590.81 303.281,509.874 323.989,432.955 344.697,361.289 365.405,296.03 386.113,238.229 406.821,188.814 427.529,148.582 \n",
       "  448.237,118.179 468.945,98.0946 489.653,88.6524 510.361,90.004 531.069,102.128 551.777,124.828 572.485,157.741 593.193,200.335 613.901,251.927 634.609,311.685 \n",
       "  655.317,378.648 676.026,451.739 696.734,529.782 717.442,611.52 738.15,695.639 758.858,780.786 779.566,865.589 800.274,948.685 820.982,1028.74 841.69,1104.46 \n",
       "  862.398,1174.62 883.106,1238.11 903.814,1293.9 924.522,1341.09 945.23,1378.92 965.938,1406.78 986.646,1424.23 1007.35,1430.98 1028.06,1426.93 1048.77,1412.13 \n",
       "  1069.48,1386.84 1090.19,1351.45 1110.89,1306.54 1131.6,1252.82 1152.31,1191.16 1173.02,1122.56 1193.73,1048.12 1214.43,969.035 1235.14,886.576 1255.85,802.072 \n",
       "  1276.56,716.883 1297.27,632.379 1317.97,549.92 1338.68,470.833 1359.39,396.391 1380.1,327.791 1400.81,266.136 1421.52,212.42 1442.22,167.506 1462.93,132.117 \n",
       "  1483.64,106.823 1504.35,92.0297 1525.06,87.9763 1545.76,94.7275 1566.47,112.175 1587.18,140.038 1607.89,177.867 1628.6,225.055 1649.3,280.842 1670.01,344.331 \n",
       "  1690.72,414.499 1711.43,490.218 1732.14,570.27 1752.84,653.366 1773.55,738.17 1794.26,823.316 1814.97,907.435 1835.68,989.174 1856.38,1067.22 1877.09,1140.31 \n",
       "  1897.8,1207.27 1918.51,1267.03 1939.22,1318.62 1959.92,1361.21 1980.63,1394.13 2001.34,1416.83 2022.05,1428.95 2042.76,1430.3 2063.46,1420.86 2084.17,1400.78 \n",
       "  2104.88,1370.37 2125.59,1330.14 2146.3,1280.73 2167,1222.92 2187.71,1157.67 2208.42,1086 2229.13,1009.08 2249.84,928.145 2270.54,844.495 2291.25,759.478 \n",
       "  \n",
       "  \"/>\n",
       "<circle clip-path=\"url(#clip302)\" cx=\"1421.52\" cy=\"227.045\" r=\"14\" fill=\"#e26f46\" fill-rule=\"evenodd\" fill-opacity=\"1\" stroke=\"#000000\" stroke-opacity=\"1\" stroke-width=\"3.2\"/>\n",
       "<circle clip-path=\"url(#clip302)\" cx=\"1007.35\" cy=\"1414.87\" r=\"14\" fill=\"#e26f46\" fill-rule=\"evenodd\" fill-opacity=\"1\" stroke=\"#000000\" stroke-opacity=\"1\" stroke-width=\"3.2\"/>\n",
       "<circle clip-path=\"url(#clip302)\" cx=\"489.653\" cy=\"116.412\" r=\"14\" fill=\"#e26f46\" fill-rule=\"evenodd\" fill-opacity=\"1\" stroke=\"#000000\" stroke-opacity=\"1\" stroke-width=\"3.2\"/>\n",
       "<circle clip-path=\"url(#clip302)\" cx=\"241.157\" cy=\"775.547\" r=\"14\" fill=\"#e26f46\" fill-rule=\"evenodd\" fill-opacity=\"1\" stroke=\"#000000\" stroke-opacity=\"1\" stroke-width=\"3.2\"/>\n",
       "<circle clip-path=\"url(#clip302)\" cx=\"1214.43\" cy=\"965.187\" r=\"14\" fill=\"#e26f46\" fill-rule=\"evenodd\" fill-opacity=\"1\" stroke=\"#000000\" stroke-opacity=\"1\" stroke-width=\"3.2\"/>\n",
       "<circle clip-path=\"url(#clip302)\" cx=\"344.697\" cy=\"353.682\" r=\"14\" fill=\"#e26f46\" fill-rule=\"evenodd\" fill-opacity=\"1\" stroke=\"#000000\" stroke-opacity=\"1\" stroke-width=\"3.2\"/>\n",
       "<circle clip-path=\"url(#clip302)\" cx=\"1028.06\" cy=\"1415.96\" r=\"14\" fill=\"#e26f46\" fill-rule=\"evenodd\" fill-opacity=\"1\" stroke=\"#000000\" stroke-opacity=\"1\" stroke-width=\"3.2\"/>\n",
       "<circle clip-path=\"url(#clip302)\" cx=\"1814.97\" cy=\"953.282\" r=\"14\" fill=\"#e26f46\" fill-rule=\"evenodd\" fill-opacity=\"1\" stroke=\"#000000\" stroke-opacity=\"1\" stroke-width=\"3.2\"/>\n",
       "<circle clip-path=\"url(#clip302)\" cx=\"1794.26\" cy=\"857.784\" r=\"14\" fill=\"#e26f46\" fill-rule=\"evenodd\" fill-opacity=\"1\" stroke=\"#000000\" stroke-opacity=\"1\" stroke-width=\"3.2\"/>\n",
       "<circle clip-path=\"url(#clip302)\" cx=\"1359.39\" cy=\"383.115\" r=\"14\" fill=\"#e26f46\" fill-rule=\"evenodd\" fill-opacity=\"1\" stroke=\"#000000\" stroke-opacity=\"1\" stroke-width=\"3.2\"/>\n",
       "<circle clip-path=\"url(#clip302)\" cx=\"1690.72\" cy=\"406.105\" r=\"14\" fill=\"#e26f46\" fill-rule=\"evenodd\" fill-opacity=\"1\" stroke=\"#000000\" stroke-opacity=\"1\" stroke-width=\"3.2\"/>\n",
       "<circle clip-path=\"url(#clip302)\" cx=\"2270.54\" cy=\"976.666\" r=\"14\" fill=\"#e26f46\" fill-rule=\"evenodd\" fill-opacity=\"1\" stroke=\"#000000\" stroke-opacity=\"1\" stroke-width=\"3.2\"/>\n",
       "<circle clip-path=\"url(#clip302)\" cx=\"448.237\" cy=\"139.357\" r=\"14\" fill=\"#e26f46\" fill-rule=\"evenodd\" fill-opacity=\"1\" stroke=\"#000000\" stroke-opacity=\"1\" stroke-width=\"3.2\"/>\n",
       "<circle clip-path=\"url(#clip302)\" cx=\"1338.68\" cy=\"451.527\" r=\"14\" fill=\"#e26f46\" fill-rule=\"evenodd\" fill-opacity=\"1\" stroke=\"#000000\" stroke-opacity=\"1\" stroke-width=\"3.2\"/>\n",
       "<circle clip-path=\"url(#clip302)\" cx=\"1255.85\" cy=\"786.213\" r=\"14\" fill=\"#e26f46\" fill-rule=\"evenodd\" fill-opacity=\"1\" stroke=\"#000000\" stroke-opacity=\"1\" stroke-width=\"3.2\"/>\n",
       "<circle clip-path=\"url(#clip302)\" cx=\"1110.89\" cy=\"1314.43\" r=\"14\" fill=\"#e26f46\" fill-rule=\"evenodd\" fill-opacity=\"1\" stroke=\"#000000\" stroke-opacity=\"1\" stroke-width=\"3.2\"/>\n",
       "<circle clip-path=\"url(#clip302)\" cx=\"738.15\" cy=\"699.735\" r=\"14\" fill=\"#e26f46\" fill-rule=\"evenodd\" fill-opacity=\"1\" stroke=\"#000000\" stroke-opacity=\"1\" stroke-width=\"3.2\"/>\n",
       "<circle clip-path=\"url(#clip302)\" cx=\"1380.1\" cy=\"322.782\" r=\"14\" fill=\"#e26f46\" fill-rule=\"evenodd\" fill-opacity=\"1\" stroke=\"#000000\" stroke-opacity=\"1\" stroke-width=\"3.2\"/>\n",
       "<circle clip-path=\"url(#clip302)\" cx=\"1090.19\" cy=\"1356.07\" r=\"14\" fill=\"#e26f46\" fill-rule=\"evenodd\" fill-opacity=\"1\" stroke=\"#000000\" stroke-opacity=\"1\" stroke-width=\"3.2\"/>\n",
       "<circle clip-path=\"url(#clip302)\" cx=\"365.405\" cy=\"288.401\" r=\"14\" fill=\"#e26f46\" fill-rule=\"evenodd\" fill-opacity=\"1\" stroke=\"#000000\" stroke-opacity=\"1\" stroke-width=\"3.2\"/>\n",
       "<circle clip-path=\"url(#clip302)\" cx=\"1980.63\" cy=\"1430.61\" r=\"14\" fill=\"#e26f46\" fill-rule=\"evenodd\" fill-opacity=\"1\" stroke=\"#000000\" stroke-opacity=\"1\" stroke-width=\"3.2\"/>\n",
       "<circle clip-path=\"url(#clip302)\" cx=\"924.522\" cy=\"1317.25\" r=\"14\" fill=\"#e26f46\" fill-rule=\"evenodd\" fill-opacity=\"1\" stroke=\"#000000\" stroke-opacity=\"1\" stroke-width=\"3.2\"/>\n",
       "<circle clip-path=\"url(#clip302)\" cx=\"1752.84\" cy=\"664.415\" r=\"14\" fill=\"#e26f46\" fill-rule=\"evenodd\" fill-opacity=\"1\" stroke=\"#000000\" stroke-opacity=\"1\" stroke-width=\"3.2\"/>\n",
       "<circle clip-path=\"url(#clip302)\" cx=\"1918.51\" cy=\"1328.71\" r=\"14\" fill=\"#e26f46\" fill-rule=\"evenodd\" fill-opacity=\"1\" stroke=\"#000000\" stroke-opacity=\"1\" stroke-width=\"3.2\"/>\n",
       "<circle clip-path=\"url(#clip302)\" cx=\"1959.92\" cy=\"1407.65\" r=\"14\" fill=\"#e26f46\" fill-rule=\"evenodd\" fill-opacity=\"1\" stroke=\"#000000\" stroke-opacity=\"1\" stroke-width=\"3.2\"/>\n",
       "<circle clip-path=\"url(#clip302)\" cx=\"572.485\" cy=\"152.226\" r=\"14\" fill=\"#e26f46\" fill-rule=\"evenodd\" fill-opacity=\"1\" stroke=\"#000000\" stroke-opacity=\"1\" stroke-width=\"3.2\"/>\n",
       "<circle clip-path=\"url(#clip302)\" cx=\"2022.05\" cy=\"1445.72\" r=\"14\" fill=\"#e26f46\" fill-rule=\"evenodd\" fill-opacity=\"1\" stroke=\"#000000\" stroke-opacity=\"1\" stroke-width=\"3.2\"/>\n",
       "<circle clip-path=\"url(#clip302)\" cx=\"2249.84\" cy=\"1036.31\" r=\"14\" fill=\"#e26f46\" fill-rule=\"evenodd\" fill-opacity=\"1\" stroke=\"#000000\" stroke-opacity=\"1\" stroke-width=\"3.2\"/>\n",
       "<circle clip-path=\"url(#clip302)\" cx=\"696.734\" cy=\"512.569\" r=\"14\" fill=\"#e26f46\" fill-rule=\"evenodd\" fill-opacity=\"1\" stroke=\"#000000\" stroke-opacity=\"1\" stroke-width=\"3.2\"/>\n",
       "<circle clip-path=\"url(#clip302)\" cx=\"1856.38\" cy=\"1129.36\" r=\"14\" fill=\"#e26f46\" fill-rule=\"evenodd\" fill-opacity=\"1\" stroke=\"#000000\" stroke-opacity=\"1\" stroke-width=\"3.2\"/>\n",
       "<circle clip-path=\"url(#clip302)\" cx=\"2104.88\" cy=\"1372.6\" r=\"14\" fill=\"#e26f46\" fill-rule=\"evenodd\" fill-opacity=\"1\" stroke=\"#000000\" stroke-opacity=\"1\" stroke-width=\"3.2\"/>\n",
       "<circle clip-path=\"url(#clip302)\" cx=\"634.609\" cy=\"278.503\" r=\"14\" fill=\"#e26f46\" fill-rule=\"evenodd\" fill-opacity=\"1\" stroke=\"#000000\" stroke-opacity=\"1\" stroke-width=\"3.2\"/>\n",
       "<circle clip-path=\"url(#clip302)\" cx=\"965.938\" cy=\"1383.58\" r=\"14\" fill=\"#e26f46\" fill-rule=\"evenodd\" fill-opacity=\"1\" stroke=\"#000000\" stroke-opacity=\"1\" stroke-width=\"3.2\"/>\n",
       "<circle clip-path=\"url(#clip302)\" cx=\"1587.18\" cy=\"158.932\" r=\"14\" fill=\"#e26f46\" fill-rule=\"evenodd\" fill-opacity=\"1\" stroke=\"#000000\" stroke-opacity=\"1\" stroke-width=\"3.2\"/>\n",
       "<circle clip-path=\"url(#clip302)\" cx=\"1525.06\" cy=\"125.425\" r=\"14\" fill=\"#e26f46\" fill-rule=\"evenodd\" fill-opacity=\"1\" stroke=\"#000000\" stroke-opacity=\"1\" stroke-width=\"3.2\"/>\n",
       "<circle clip-path=\"url(#clip302)\" cx=\"1317.97\" cy=\"527.375\" r=\"14\" fill=\"#e26f46\" fill-rule=\"evenodd\" fill-opacity=\"1\" stroke=\"#000000\" stroke-opacity=\"1\" stroke-width=\"3.2\"/>\n",
       "<circle clip-path=\"url(#clip302)\" cx=\"2167\" cy=\"1251.43\" r=\"14\" fill=\"#e26f46\" fill-rule=\"evenodd\" fill-opacity=\"1\" stroke=\"#000000\" stroke-opacity=\"1\" stroke-width=\"3.2\"/>\n",
       "<circle clip-path=\"url(#clip302)\" cx=\"2291.25\" cy=\"915.6\" r=\"14\" fill=\"#e26f46\" fill-rule=\"evenodd\" fill-opacity=\"1\" stroke=\"#000000\" stroke-opacity=\"1\" stroke-width=\"3.2\"/>\n",
       "<circle clip-path=\"url(#clip302)\" cx=\"1276.56\" cy=\"696.481\" r=\"14\" fill=\"#e26f46\" fill-rule=\"evenodd\" fill-opacity=\"1\" stroke=\"#000000\" stroke-opacity=\"1\" stroke-width=\"3.2\"/>\n",
       "<circle clip-path=\"url(#clip302)\" cx=\"945.23\" cy=\"1354.48\" r=\"14\" fill=\"#e26f46\" fill-rule=\"evenodd\" fill-opacity=\"1\" stroke=\"#000000\" stroke-opacity=\"1\" stroke-width=\"3.2\"/>\n",
       "<circle clip-path=\"url(#clip302)\" cx=\"1235.14\" cy=\"876.544\" r=\"14\" fill=\"#e26f46\" fill-rule=\"evenodd\" fill-opacity=\"1\" stroke=\"#000000\" stroke-opacity=\"1\" stroke-width=\"3.2\"/>\n",
       "<circle clip-path=\"url(#clip302)\" cx=\"406.821\" cy=\"193.353\" r=\"14\" fill=\"#e26f46\" fill-rule=\"evenodd\" fill-opacity=\"1\" stroke=\"#000000\" stroke-opacity=\"1\" stroke-width=\"3.2\"/>\n",
       "<circle clip-path=\"url(#clip302)\" cx=\"282.573\" cy=\"604.504\" r=\"14\" fill=\"#e26f46\" fill-rule=\"evenodd\" fill-opacity=\"1\" stroke=\"#000000\" stroke-opacity=\"1\" stroke-width=\"3.2\"/>\n",
       "<circle clip-path=\"url(#clip302)\" cx=\"613.901\" cy=\"224.217\" r=\"14\" fill=\"#e26f46\" fill-rule=\"evenodd\" fill-opacity=\"1\" stroke=\"#000000\" stroke-opacity=\"1\" stroke-width=\"3.2\"/>\n",
       "<circle clip-path=\"url(#clip302)\" cx=\"2208.42\" cy=\"1149.56\" r=\"14\" fill=\"#e26f46\" fill-rule=\"evenodd\" fill-opacity=\"1\" stroke=\"#000000\" stroke-opacity=\"1\" stroke-width=\"3.2\"/>\n",
       "<circle clip-path=\"url(#clip302)\" cx=\"986.646\" cy=\"1403.91\" r=\"14\" fill=\"#e26f46\" fill-rule=\"evenodd\" fill-opacity=\"1\" stroke=\"#000000\" stroke-opacity=\"1\" stroke-width=\"3.2\"/>\n",
       "<circle clip-path=\"url(#clip302)\" cx=\"1711.43\" cy=\"485.051\" r=\"14\" fill=\"#e26f46\" fill-rule=\"evenodd\" fill-opacity=\"1\" stroke=\"#000000\" stroke-opacity=\"1\" stroke-width=\"3.2\"/>\n",
       "<circle clip-path=\"url(#clip302)\" cx=\"1835.68\" cy=\"1044.56\" r=\"14\" fill=\"#e26f46\" fill-rule=\"evenodd\" fill-opacity=\"1\" stroke=\"#000000\" stroke-opacity=\"1\" stroke-width=\"3.2\"/>\n",
       "<circle clip-path=\"url(#clip302)\" cx=\"323.989\" cy=\"430.124\" r=\"14\" fill=\"#e26f46\" fill-rule=\"evenodd\" fill-opacity=\"1\" stroke=\"#000000\" stroke-opacity=\"1\" stroke-width=\"3.2\"/>\n",
       "<circle clip-path=\"url(#clip302)\" cx=\"1545.76\" cy=\"128.148\" r=\"14\" fill=\"#e26f46\" fill-rule=\"evenodd\" fill-opacity=\"1\" stroke=\"#000000\" stroke-opacity=\"1\" stroke-width=\"3.2\"/>\n",
       "<circle clip-path=\"url(#clip302)\" cx=\"1069.48\" cy=\"1386.83\" r=\"14\" fill=\"#e26f46\" fill-rule=\"evenodd\" fill-opacity=\"1\" stroke=\"#000000\" stroke-opacity=\"1\" stroke-width=\"3.2\"/>\n",
       "<circle clip-path=\"url(#clip302)\" cx=\"676.026\" cy=\"424.596\" r=\"14\" fill=\"#e26f46\" fill-rule=\"evenodd\" fill-opacity=\"1\" stroke=\"#000000\" stroke-opacity=\"1\" stroke-width=\"3.2\"/>\n",
       "<circle clip-path=\"url(#clip302)\" cx=\"1504.35\" cy=\"130.554\" r=\"14\" fill=\"#e26f46\" fill-rule=\"evenodd\" fill-opacity=\"1\" stroke=\"#000000\" stroke-opacity=\"1\" stroke-width=\"3.2\"/>\n",
       "<circle clip-path=\"url(#clip302)\" cx=\"1773.55\" cy=\"760.608\" r=\"14\" fill=\"#e26f46\" fill-rule=\"evenodd\" fill-opacity=\"1\" stroke=\"#000000\" stroke-opacity=\"1\" stroke-width=\"3.2\"/>\n",
       "<circle clip-path=\"url(#clip302)\" cx=\"1193.73\" cy=\"1049.93\" r=\"14\" fill=\"#e26f46\" fill-rule=\"evenodd\" fill-opacity=\"1\" stroke=\"#000000\" stroke-opacity=\"1\" stroke-width=\"3.2\"/>\n",
       "<circle clip-path=\"url(#clip302)\" cx=\"800.274\" cy=\"958.004\" r=\"14\" fill=\"#e26f46\" fill-rule=\"evenodd\" fill-opacity=\"1\" stroke=\"#000000\" stroke-opacity=\"1\" stroke-width=\"3.2\"/>\n",
       "<circle clip-path=\"url(#clip302)\" cx=\"758.858\" cy=\"791.126\" r=\"14\" fill=\"#e26f46\" fill-rule=\"evenodd\" fill-opacity=\"1\" stroke=\"#000000\" stroke-opacity=\"1\" stroke-width=\"3.2\"/>\n",
       "<circle clip-path=\"url(#clip302)\" cx=\"1400.81\" cy=\"270.775\" r=\"14\" fill=\"#e26f46\" fill-rule=\"evenodd\" fill-opacity=\"1\" stroke=\"#000000\" stroke-opacity=\"1\" stroke-width=\"3.2\"/>\n",
       "<circle clip-path=\"url(#clip302)\" cx=\"903.814\" cy=\"1272.63\" r=\"14\" fill=\"#e26f46\" fill-rule=\"evenodd\" fill-opacity=\"1\" stroke=\"#000000\" stroke-opacity=\"1\" stroke-width=\"3.2\"/>\n",
       "<circle clip-path=\"url(#clip302)\" cx=\"261.865\" cy=\"692.967\" r=\"14\" fill=\"#e26f46\" fill-rule=\"evenodd\" fill-opacity=\"1\" stroke=\"#000000\" stroke-opacity=\"1\" stroke-width=\"3.2\"/>\n",
       "<circle clip-path=\"url(#clip302)\" cx=\"1462.93\" cy=\"163.53\" r=\"14\" fill=\"#e26f46\" fill-rule=\"evenodd\" fill-opacity=\"1\" stroke=\"#000000\" stroke-opacity=\"1\" stroke-width=\"3.2\"/>\n",
       "<circle clip-path=\"url(#clip302)\" cx=\"1297.27\" cy=\"609.55\" r=\"14\" fill=\"#e26f46\" fill-rule=\"evenodd\" fill-opacity=\"1\" stroke=\"#000000\" stroke-opacity=\"1\" stroke-width=\"3.2\"/>\n",
       "<circle clip-path=\"url(#clip302)\" cx=\"1670.01\" cy=\"336.336\" r=\"14\" fill=\"#e26f46\" fill-rule=\"evenodd\" fill-opacity=\"1\" stroke=\"#000000\" stroke-opacity=\"1\" stroke-width=\"3.2\"/>\n",
       "<circle clip-path=\"url(#clip302)\" cx=\"2042.76\" cy=\"1439.2\" r=\"14\" fill=\"#e26f46\" fill-rule=\"evenodd\" fill-opacity=\"1\" stroke=\"#000000\" stroke-opacity=\"1\" stroke-width=\"3.2\"/>\n",
       "<circle clip-path=\"url(#clip302)\" cx=\"510.361\" cy=\"114.757\" r=\"14\" fill=\"#e26f46\" fill-rule=\"evenodd\" fill-opacity=\"1\" stroke=\"#000000\" stroke-opacity=\"1\" stroke-width=\"3.2\"/>\n",
       "<circle clip-path=\"url(#clip302)\" cx=\"1649.3\" cy=\"276.59\" r=\"14\" fill=\"#e26f46\" fill-rule=\"evenodd\" fill-opacity=\"1\" stroke=\"#000000\" stroke-opacity=\"1\" stroke-width=\"3.2\"/>\n",
       "<circle clip-path=\"url(#clip302)\" cx=\"1877.09\" cy=\"1205.83\" r=\"14\" fill=\"#e26f46\" fill-rule=\"evenodd\" fill-opacity=\"1\" stroke=\"#000000\" stroke-opacity=\"1\" stroke-width=\"3.2\"/>\n",
       "<circle clip-path=\"url(#clip302)\" cx=\"2001.34\" cy=\"1443.09\" r=\"14\" fill=\"#e26f46\" fill-rule=\"evenodd\" fill-opacity=\"1\" stroke=\"#000000\" stroke-opacity=\"1\" stroke-width=\"3.2\"/>\n",
       "<circle clip-path=\"url(#clip302)\" cx=\"1628.6\" cy=\"227.206\" r=\"14\" fill=\"#e26f46\" fill-rule=\"evenodd\" fill-opacity=\"1\" stroke=\"#000000\" stroke-opacity=\"1\" stroke-width=\"3.2\"/>\n",
       "<circle clip-path=\"url(#clip302)\" cx=\"862.398\" cy=\"1163.99\" r=\"14\" fill=\"#e26f46\" fill-rule=\"evenodd\" fill-opacity=\"1\" stroke=\"#000000\" stroke-opacity=\"1\" stroke-width=\"3.2\"/>\n",
       "<circle clip-path=\"url(#clip302)\" cx=\"655.317\" cy=\"345.672\" r=\"14\" fill=\"#e26f46\" fill-rule=\"evenodd\" fill-opacity=\"1\" stroke=\"#000000\" stroke-opacity=\"1\" stroke-width=\"3.2\"/>\n",
       "<circle clip-path=\"url(#clip302)\" cx=\"1442.22\" cy=\"191.382\" r=\"14\" fill=\"#e26f46\" fill-rule=\"evenodd\" fill-opacity=\"1\" stroke=\"#000000\" stroke-opacity=\"1\" stroke-width=\"3.2\"/>\n",
       "<circle clip-path=\"url(#clip302)\" cx=\"531.069\" cy=\"119.653\" r=\"14\" fill=\"#e26f46\" fill-rule=\"evenodd\" fill-opacity=\"1\" stroke=\"#000000\" stroke-opacity=\"1\" stroke-width=\"3.2\"/>\n",
       "<circle clip-path=\"url(#clip302)\" cx=\"1483.64\" cy=\"143.281\" r=\"14\" fill=\"#e26f46\" fill-rule=\"evenodd\" fill-opacity=\"1\" stroke=\"#000000\" stroke-opacity=\"1\" stroke-width=\"3.2\"/>\n",
       "<circle clip-path=\"url(#clip302)\" cx=\"1939.22\" cy=\"1373.76\" r=\"14\" fill=\"#e26f46\" fill-rule=\"evenodd\" fill-opacity=\"1\" stroke=\"#000000\" stroke-opacity=\"1\" stroke-width=\"3.2\"/>\n",
       "<circle clip-path=\"url(#clip302)\" cx=\"1131.6\" cy=\"1262.19\" r=\"14\" fill=\"#e26f46\" fill-rule=\"evenodd\" fill-opacity=\"1\" stroke=\"#000000\" stroke-opacity=\"1\" stroke-width=\"3.2\"/>\n",
       "<circle clip-path=\"url(#clip302)\" cx=\"1897.8\" cy=\"1272.58\" r=\"14\" fill=\"#e26f46\" fill-rule=\"evenodd\" fill-opacity=\"1\" stroke=\"#000000\" stroke-opacity=\"1\" stroke-width=\"3.2\"/>\n",
       "<circle clip-path=\"url(#clip302)\" cx=\"593.193\" cy=\"182.524\" r=\"14\" fill=\"#e26f46\" fill-rule=\"evenodd\" fill-opacity=\"1\" stroke=\"#000000\" stroke-opacity=\"1\" stroke-width=\"3.2\"/>\n",
       "<circle clip-path=\"url(#clip302)\" cx=\"551.777\" cy=\"131.763\" r=\"14\" fill=\"#e26f46\" fill-rule=\"evenodd\" fill-opacity=\"1\" stroke=\"#000000\" stroke-opacity=\"1\" stroke-width=\"3.2\"/>\n",
       "<circle clip-path=\"url(#clip302)\" cx=\"303.281\" cy=\"515.15\" r=\"14\" fill=\"#e26f46\" fill-rule=\"evenodd\" fill-opacity=\"1\" stroke=\"#000000\" stroke-opacity=\"1\" stroke-width=\"3.2\"/>\n",
       "<circle clip-path=\"url(#clip302)\" cx=\"2063.46\" cy=\"1424.32\" r=\"14\" fill=\"#e26f46\" fill-rule=\"evenodd\" fill-opacity=\"1\" stroke=\"#000000\" stroke-opacity=\"1\" stroke-width=\"3.2\"/>\n",
       "<circle clip-path=\"url(#clip302)\" cx=\"2229.13\" cy=\"1094.1\" r=\"14\" fill=\"#e26f46\" fill-rule=\"evenodd\" fill-opacity=\"1\" stroke=\"#000000\" stroke-opacity=\"1\" stroke-width=\"3.2\"/>\n",
       "<circle clip-path=\"url(#clip302)\" cx=\"820.982\" cy=\"1032.39\" r=\"14\" fill=\"#e26f46\" fill-rule=\"evenodd\" fill-opacity=\"1\" stroke=\"#000000\" stroke-opacity=\"1\" stroke-width=\"3.2\"/>\n",
       "<circle clip-path=\"url(#clip302)\" cx=\"717.442\" cy=\"605.69\" r=\"14\" fill=\"#e26f46\" fill-rule=\"evenodd\" fill-opacity=\"1\" stroke=\"#000000\" stroke-opacity=\"1\" stroke-width=\"3.2\"/>\n",
       "<circle clip-path=\"url(#clip302)\" cx=\"1607.89\" cy=\"188.109\" r=\"14\" fill=\"#e26f46\" fill-rule=\"evenodd\" fill-opacity=\"1\" stroke=\"#000000\" stroke-opacity=\"1\" stroke-width=\"3.2\"/>\n",
       "<circle clip-path=\"url(#clip302)\" cx=\"1173.02\" cy=\"1128.77\" r=\"14\" fill=\"#e26f46\" fill-rule=\"evenodd\" fill-opacity=\"1\" stroke=\"#000000\" stroke-opacity=\"1\" stroke-width=\"3.2\"/>\n",
       "<circle clip-path=\"url(#clip302)\" cx=\"1152.31\" cy=\"1199.98\" r=\"14\" fill=\"#e26f46\" fill-rule=\"evenodd\" fill-opacity=\"1\" stroke=\"#000000\" stroke-opacity=\"1\" stroke-width=\"3.2\"/>\n",
       "<circle clip-path=\"url(#clip302)\" cx=\"1732.14\" cy=\"571.789\" r=\"14\" fill=\"#e26f46\" fill-rule=\"evenodd\" fill-opacity=\"1\" stroke=\"#000000\" stroke-opacity=\"1\" stroke-width=\"3.2\"/>\n",
       "<circle clip-path=\"url(#clip302)\" cx=\"1048.77\" cy=\"1406.73\" r=\"14\" fill=\"#e26f46\" fill-rule=\"evenodd\" fill-opacity=\"1\" stroke=\"#000000\" stroke-opacity=\"1\" stroke-width=\"3.2\"/>\n",
       "<circle clip-path=\"url(#clip302)\" cx=\"468.945\" cy=\"124.483\" r=\"14\" fill=\"#e26f46\" fill-rule=\"evenodd\" fill-opacity=\"1\" stroke=\"#000000\" stroke-opacity=\"1\" stroke-width=\"3.2\"/>\n",
       "<circle clip-path=\"url(#clip302)\" cx=\"2084.17\" cy=\"1401.86\" r=\"14\" fill=\"#e26f46\" fill-rule=\"evenodd\" fill-opacity=\"1\" stroke=\"#000000\" stroke-opacity=\"1\" stroke-width=\"3.2\"/>\n",
       "<circle clip-path=\"url(#clip302)\" cx=\"2187.71\" cy=\"1202.19\" r=\"14\" fill=\"#e26f46\" fill-rule=\"evenodd\" fill-opacity=\"1\" stroke=\"#000000\" stroke-opacity=\"1\" stroke-width=\"3.2\"/>\n",
       "<circle clip-path=\"url(#clip302)\" cx=\"386.113\" cy=\"235.119\" r=\"14\" fill=\"#e26f46\" fill-rule=\"evenodd\" fill-opacity=\"1\" stroke=\"#000000\" stroke-opacity=\"1\" stroke-width=\"3.2\"/>\n",
       "<circle clip-path=\"url(#clip302)\" cx=\"779.566\" cy=\"877.552\" r=\"14\" fill=\"#e26f46\" fill-rule=\"evenodd\" fill-opacity=\"1\" stroke=\"#000000\" stroke-opacity=\"1\" stroke-width=\"3.2\"/>\n",
       "<circle clip-path=\"url(#clip302)\" cx=\"841.69\" cy=\"1100.98\" r=\"14\" fill=\"#e26f46\" fill-rule=\"evenodd\" fill-opacity=\"1\" stroke=\"#000000\" stroke-opacity=\"1\" stroke-width=\"3.2\"/>\n",
       "<circle clip-path=\"url(#clip302)\" cx=\"2146.3\" cy=\"1296.68\" r=\"14\" fill=\"#e26f46\" fill-rule=\"evenodd\" fill-opacity=\"1\" stroke=\"#000000\" stroke-opacity=\"1\" stroke-width=\"3.2\"/>\n",
       "<circle clip-path=\"url(#clip302)\" cx=\"883.106\" cy=\"1221.33\" r=\"14\" fill=\"#e26f46\" fill-rule=\"evenodd\" fill-opacity=\"1\" stroke=\"#000000\" stroke-opacity=\"1\" stroke-width=\"3.2\"/>\n",
       "<circle clip-path=\"url(#clip302)\" cx=\"2125.59\" cy=\"1337.3\" r=\"14\" fill=\"#e26f46\" fill-rule=\"evenodd\" fill-opacity=\"1\" stroke=\"#000000\" stroke-opacity=\"1\" stroke-width=\"3.2\"/>\n",
       "<circle clip-path=\"url(#clip302)\" cx=\"1566.47\" cy=\"139.139\" r=\"14\" fill=\"#e26f46\" fill-rule=\"evenodd\" fill-opacity=\"1\" stroke=\"#000000\" stroke-opacity=\"1\" stroke-width=\"3.2\"/>\n",
       "<circle clip-path=\"url(#clip302)\" cx=\"427.529\" cy=\"161.901\" r=\"14\" fill=\"#e26f46\" fill-rule=\"evenodd\" fill-opacity=\"1\" stroke=\"#000000\" stroke-opacity=\"1\" stroke-width=\"3.2\"/>\n",
       "<path clip-path=\"url(#clip300)\" d=\"\n",
       "M1987.85 276.658 L2280.32 276.658 L2280.32 95.2176 L1987.85 95.2176  Z\n",
       "  \" fill=\"#ffffff\" fill-rule=\"evenodd\" fill-opacity=\"1\"/>\n",
       "<polyline clip-path=\"url(#clip300)\" style=\"stroke:#000000; stroke-width:4; stroke-opacity:1; fill:none\" points=\"\n",
       "  1987.85,276.658 2280.32,276.658 2280.32,95.2176 1987.85,95.2176 1987.85,276.658 \n",
       "  \"/>\n",
       "<polyline clip-path=\"url(#clip300)\" style=\"stroke:#009af9; stroke-width:4; stroke-opacity:1; fill:none\" points=\"\n",
       "  2011.99,155.698 2156.86,155.698 \n",
       "  \"/>\n",
       "<path clip-path=\"url(#clip300)\" d=\"M 0 0 M2194.85 175.385 Q2193.05 180.015 2191.33 181.427 Q2189.62 182.839 2186.75 182.839 L2183.35 182.839 L2183.35 179.274 L2185.85 179.274 Q2187.61 179.274 2188.58 178.44 Q2189.55 177.607 2190.73 174.505 L2191.5 172.561 L2181.01 147.052 L2185.52 147.052 L2193.63 167.329 L2201.73 147.052 L2206.24 147.052 L2194.85 175.385 Z\" fill=\"#000000\" fill-rule=\"evenodd\" fill-opacity=\"1\" /><path clip-path=\"url(#clip300)\" d=\"M 0 0 M2212.12 169.042 L2219.76 169.042 L2219.76 142.677 L2211.45 144.343 L2211.45 140.084 L2219.71 138.418 L2224.39 138.418 L2224.39 169.042 L2232.03 169.042 L2232.03 172.978 L2212.12 172.978 L2212.12 169.042 Z\" fill=\"#000000\" fill-rule=\"evenodd\" fill-opacity=\"1\" /><circle clip-path=\"url(#clip300)\" cx=\"2084.43\" cy=\"216.178\" r=\"23\" fill=\"#e26f46\" fill-rule=\"evenodd\" fill-opacity=\"1\" stroke=\"#000000\" stroke-opacity=\"1\" stroke-width=\"5.12\"/>\n",
       "<path clip-path=\"url(#clip300)\" d=\"M 0 0 M2194.85 235.865 Q2193.05 240.495 2191.33 241.907 Q2189.62 243.319 2186.75 243.319 L2183.35 243.319 L2183.35 239.754 L2185.85 239.754 Q2187.61 239.754 2188.58 238.92 Q2189.55 238.087 2190.73 234.985 L2191.5 233.041 L2181.01 207.532 L2185.52 207.532 L2193.63 227.809 L2201.73 207.532 L2206.24 207.532 L2194.85 235.865 Z\" fill=\"#000000\" fill-rule=\"evenodd\" fill-opacity=\"1\" /><path clip-path=\"url(#clip300)\" d=\"M 0 0 M2215.34 229.522 L2231.66 229.522 L2231.66 233.458 L2209.71 233.458 L2209.71 229.522 Q2212.38 226.768 2216.96 222.138 Q2221.57 217.485 2222.75 216.143 Q2224.99 213.62 2225.87 211.884 Q2226.77 210.124 2226.77 208.435 Q2226.77 205.68 2224.83 203.944 Q2222.91 202.208 2219.81 202.208 Q2217.61 202.208 2215.15 202.972 Q2212.72 203.735 2209.94 205.286 L2209.94 200.564 Q2212.77 199.43 2215.22 198.851 Q2217.68 198.273 2219.71 198.273 Q2225.08 198.273 2228.28 200.958 Q2231.47 203.643 2231.47 208.134 Q2231.47 210.263 2230.66 212.185 Q2229.88 214.083 2227.77 216.675 Q2227.19 217.347 2224.09 220.564 Q2220.99 223.759 2215.34 229.522 Z\" fill=\"#000000\" fill-rule=\"evenodd\" fill-opacity=\"1\" /></svg>\n"
      ]
     },
     "metadata": {},
     "output_type": "display_data"
    },
    {
     "ename": "LoadError",
     "evalue": "\u001b[91mInterruptException:\u001b[39m",
     "output_type": "error",
     "traceback": [
      "\u001b[91mInterruptException:\u001b[39m",
      "",
      "Stacktrace:",
      " [1] broadcasted at ./broadcast.jl:1265 [inlined]",
      " [2] broadcasted(::Function, ::Base.Broadcast.Broadcasted{Base.Broadcast.DefaultArrayStyle{2},Nothing,typeof(/),Tuple{Array{Float32,2},Base.Broadcast.Broadcasted{Base.Broadcast.DefaultArrayStyle{0},Nothing,typeof(-),Tuple{Int64,Float64}}}}, ::Base.Broadcast.Broadcasted{Base.Broadcast.DefaultArrayStyle{2},Nothing,typeof(+),Tuple{Base.Broadcast.Broadcasted{Base.Broadcast.DefaultArrayStyle{2},Nothing,typeof(sqrt),Tuple{Base.Broadcast.Broadcasted{Base.Broadcast.DefaultArrayStyle{2},Nothing,typeof(/),Tuple{Array{Float32,2},Base.Broadcast.Broadcasted{Base.Broadcast.DefaultArrayStyle{0},Nothing,typeof(-),Tuple{Int64,Float64}}}}}},Float64}}) at ./broadcast.jl:1263",
      " [3] apply!(::ADAM, ::Array{Float32,2}, ::Array{Float64,2}) at /home/zach/.julia/packages/Flux/goUGu/src/optimise/optimisers.jl:177",
      " [4] update!(::ADAM, ::Array{Float32,2}, ::Array{Float64,2}) at /home/zach/.julia/packages/Flux/goUGu/src/optimise/train.jl:23",
      " [5] update!(::ADAM, ::Zygote.Params, ::Zygote.Grads) at /home/zach/.julia/packages/Flux/goUGu/src/optimise/train.jl:29",
      " [6] macro expansion at /home/zach/.julia/packages/Flux/goUGu/src/optimise/train.jl:105 [inlined]",
      " [7] macro expansion at /home/zach/.julia/packages/Juno/n6wyj/src/progress.jl:134 [inlined]",
      " [8] train!(::Function, ::Zygote.Params, ::Array{Tuple{SArray{Tuple{1},Float64,1,1},SArray{Tuple{1},Float64,1,1}},1}, ::ADAM; cb::Flux.Optimise.var\"#16#22\") at /home/zach/.julia/packages/Flux/goUGu/src/optimise/train.jl:100",
      " [9] train!(::Function, ::Zygote.Params, ::Array{Tuple{SArray{Tuple{1},Float64,1,1},SArray{Tuple{1},Float64,1,1}},1}, ::ADAM) at /home/zach/.julia/packages/Flux/goUGu/src/optimise/train.jl:98",
      " [10] top-level scope at In[41]:2",
      " [11] include_string(::Function, ::Module, ::String, ::String) at ./loading.jl:1091"
     ]
    }
   ],
   "source": [
    "for i in 1:1000\n",
    "    Flux.train!(loss, ps, data, ADAM())\n",
    "    if i%10 == 0\n",
    "        p = plot(sort(dx), x->(sin(4*pi*x)))\n",
    "        scatter!(p, dx, [first(y) for y in m.(d[1] for d in data)])\n",
    "        IJulia.clear_output(true)\n",
    "        display(i)\n",
    "        display(p)\n",
    "    end\n",
    "end"
   ]
  },
  {
   "cell_type": "code",
   "execution_count": null,
   "metadata": {},
   "outputs": [],
   "source": []
  },
  {
   "cell_type": "code",
   "execution_count": null,
   "metadata": {},
   "outputs": [],
   "source": []
  },
  {
   "cell_type": "code",
   "execution_count": null,
   "metadata": {},
   "outputs": [],
   "source": []
  },
  {
   "cell_type": "code",
   "execution_count": null,
   "metadata": {},
   "outputs": [],
   "source": []
  },
  {
   "cell_type": "code",
   "execution_count": null,
   "metadata": {},
   "outputs": [],
   "source": []
  },
  {
   "cell_type": "code",
   "execution_count": null,
   "metadata": {},
   "outputs": [],
   "source": []
  },
  {
   "cell_type": "code",
   "execution_count": null,
   "metadata": {},
   "outputs": [],
   "source": []
  },
  {
   "cell_type": "code",
   "execution_count": null,
   "metadata": {},
   "outputs": [],
   "source": []
  }
 ],
 "metadata": {
  "@webio": {
   "lastCommId": null,
   "lastKernelId": null
  },
  "kernelspec": {
   "display_name": "Julia 1.5.3",
   "language": "julia",
   "name": "julia-1.5"
  },
  "language_info": {
   "file_extension": ".jl",
   "mimetype": "application/julia",
   "name": "julia",
   "version": "1.5.3"
  }
 },
 "nbformat": 4,
 "nbformat_minor": 2
}
