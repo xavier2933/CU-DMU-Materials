{
 "cells": [
  {
   "cell_type": "markdown",
   "metadata": {},
   "source": [
    "### Step 0: Download Packages\n",
    "\n",
    "First, take a look at the [Technology Instructions](https://github.com/zsunberg/CU-DMU-Materials/blob/master/technology_instructions.md) to get the [DMUStudent.jl package](https://github.com/zsunberg/DMUStudent.jl).\n",
    "\n",
    "For this assignment, the Plots package may be useful. You can install it in the [Julia REPL](https://docs.julialang.org/en/v1/stdlib/REPL/) by pressing the `]` key and then typing `add Plots`. See https://docs.julialang.org/en/v1/stdlib/Pkg/#Pkg-1 for more information on installing packages."
   ]
  },
  {
   "cell_type": "code",
   "execution_count": 1,
   "metadata": {},
   "outputs": [],
   "source": [
    "using Plots\n",
    "using DMUStudent.HW1 # this imports fx and fy into the workspace"
   ]
  },
  {
   "cell_type": "markdown",
   "metadata": {},
   "source": [
    "# Question 5: Which is Markov?\n",
    "\n",
    "The task here is to prove that either `fx` or `fy` defines a Markov process, or equivalently, prove that one of them doesn't.\n",
    "\n",
    "**How to do that will be up to you**, but below are a few code snippets that might be useful. You do not necessarily need to use any of this code or repeat any of these steps.\n",
    "\n",
    "`fx` and `fy` are the two functions that define the Markov processes."
   ]
  },
  {
   "cell_type": "code",
   "execution_count": 2,
   "metadata": {},
   "outputs": [
    {
     "data": {
      "text/plain": [
       "(DMUStudent.HW1.fx, DMUStudent.HW1.fy)"
      ]
     },
     "execution_count": 2,
     "metadata": {},
     "output_type": "execute_result"
    }
   ],
   "source": [
    "fx, fy"
   ]
  },
  {
   "cell_type": "markdown",
   "metadata": {},
   "source": [
    "### Generate a sample of $x_3$ given that $x_1$ is 1 and $x_2$ is 2:"
   ]
  },
  {
   "cell_type": "code",
   "execution_count": 3,
   "metadata": {},
   "outputs": [
    {
     "data": {
      "text/plain": [
       "4"
      ]
     },
     "execution_count": 3,
     "metadata": {},
     "output_type": "execute_result"
    }
   ],
   "source": [
    "fx([1, 2])"
   ]
  },
  {
   "cell_type": "markdown",
   "metadata": {},
   "source": [
    "### Generate a sampled trajectory of process $\\{y_t\\}$ for 100 steps:"
   ]
  },
  {
   "cell_type": "code",
   "execution_count": 19,
   "metadata": {},
   "outputs": [
    {
     "name": "stdout",
     "output_type": "stream",
     "text": [
      "traj = [1, 1, 2, 4, 7, 11, 16, 20, 20, 20, 19, 18, 18, 19, 20, 20, 20, 20, 20, 20, 19, 18, 17, 16, 16, 17, 19, 20, 20, 20, 20, 19, 19, 17, 17, 16, 14, 13, 13, 11, 12, 11, 13, 12, 13, 15, 17, 17, 16, 16, 17, 19, 20, 20, 20, 19, 17, 16, 14, 14, 13, 11, 11, 9, 9, 7, 7, 5, 4, 1, 1, 1, 1, 1, 1, 2, 3, 4, 6, 6, 7, 7, 7, 6, 4, 1, 1, 1, 1, 1, 3, 2, 3, 3, 2, 2, 1, 2, 4, 6]\n"
     ]
    }
   ],
   "source": [
    "traj = [1]\n",
    "for i in 2:100\n",
    "    push!(traj, fx(traj))\n",
    "end\n",
    "@show traj;"
   ]
  },
  {
   "cell_type": "markdown",
   "metadata": {},
   "source": [
    "### Plot the trajectory"
   ]
  },
  {
   "cell_type": "code",
   "execution_count": 20,
   "metadata": {},
   "outputs": [
    {
     "data": {
      "image/svg+xml": [
       "<?xml version=\"1.0\" encoding=\"utf-8\"?>\n",
       "<svg xmlns=\"http://www.w3.org/2000/svg\" xmlns:xlink=\"http://www.w3.org/1999/xlink\" width=\"600\" height=\"400\" viewBox=\"0 0 2400 1600\">\n",
       "<defs>\n",
       "  <clipPath id=\"clip7700\">\n",
       "    <rect x=\"0\" y=\"0\" width=\"2400\" height=\"1600\"/>\n",
       "  </clipPath>\n",
       "</defs>\n",
       "<path clip-path=\"url(#clip7700)\" d=\"\n",
       "M0 1600 L2400 1600 L2400 0 L0 0  Z\n",
       "  \" fill=\"#ffffff\" fill-rule=\"evenodd\" fill-opacity=\"1\"/>\n",
       "<defs>\n",
       "  <clipPath id=\"clip7701\">\n",
       "    <rect x=\"480\" y=\"0\" width=\"1681\" height=\"1600\"/>\n",
       "  </clipPath>\n",
       "</defs>\n",
       "<path clip-path=\"url(#clip7700)\" d=\"\n",
       "M140.517 1487.47 L2352.76 1487.47 L2352.76 47.2441 L140.517 47.2441  Z\n",
       "  \" fill=\"#ffffff\" fill-rule=\"evenodd\" fill-opacity=\"1\"/>\n",
       "<defs>\n",
       "  <clipPath id=\"clip7702\">\n",
       "    <rect x=\"140\" y=\"47\" width=\"2213\" height=\"1441\"/>\n",
       "  </clipPath>\n",
       "</defs>\n",
       "<polyline clip-path=\"url(#clip7702)\" style=\"stroke:#000000; stroke-width:2; stroke-opacity:0.1; fill:none\" points=\"\n",
       "  182.046,1487.47 182.046,47.2441 \n",
       "  \"/>\n",
       "<polyline clip-path=\"url(#clip7702)\" style=\"stroke:#000000; stroke-width:2; stroke-opacity:0.1; fill:none\" points=\"\n",
       "  709.071,1487.47 709.071,47.2441 \n",
       "  \"/>\n",
       "<polyline clip-path=\"url(#clip7702)\" style=\"stroke:#000000; stroke-width:2; stroke-opacity:0.1; fill:none\" points=\"\n",
       "  1236.1,1487.47 1236.1,47.2441 \n",
       "  \"/>\n",
       "<polyline clip-path=\"url(#clip7702)\" style=\"stroke:#000000; stroke-width:2; stroke-opacity:0.1; fill:none\" points=\"\n",
       "  1763.12,1487.47 1763.12,47.2441 \n",
       "  \"/>\n",
       "<polyline clip-path=\"url(#clip7702)\" style=\"stroke:#000000; stroke-width:2; stroke-opacity:0.1; fill:none\" points=\"\n",
       "  2290.15,1487.47 2290.15,47.2441 \n",
       "  \"/>\n",
       "<polyline clip-path=\"url(#clip7702)\" style=\"stroke:#000000; stroke-width:2; stroke-opacity:0.1; fill:none\" points=\"\n",
       "  140.517,1160.67 2352.76,1160.67 \n",
       "  \"/>\n",
       "<polyline clip-path=\"url(#clip7702)\" style=\"stroke:#000000; stroke-width:2; stroke-opacity:0.1; fill:none\" points=\"\n",
       "  140.517,803.115 2352.76,803.115 \n",
       "  \"/>\n",
       "<polyline clip-path=\"url(#clip7702)\" style=\"stroke:#000000; stroke-width:2; stroke-opacity:0.1; fill:none\" points=\"\n",
       "  140.517,445.56 2352.76,445.56 \n",
       "  \"/>\n",
       "<polyline clip-path=\"url(#clip7702)\" style=\"stroke:#000000; stroke-width:2; stroke-opacity:0.1; fill:none\" points=\"\n",
       "  140.517,88.0053 2352.76,88.0053 \n",
       "  \"/>\n",
       "<polyline clip-path=\"url(#clip7700)\" style=\"stroke:#000000; stroke-width:4; stroke-opacity:1; fill:none\" points=\"\n",
       "  140.517,1487.47 2352.76,1487.47 \n",
       "  \"/>\n",
       "<polyline clip-path=\"url(#clip7700)\" style=\"stroke:#000000; stroke-width:4; stroke-opacity:1; fill:none\" points=\"\n",
       "  140.517,1487.47 140.517,47.2441 \n",
       "  \"/>\n",
       "<polyline clip-path=\"url(#clip7700)\" style=\"stroke:#000000; stroke-width:4; stroke-opacity:1; fill:none\" points=\"\n",
       "  182.046,1487.47 182.046,1470.19 \n",
       "  \"/>\n",
       "<polyline clip-path=\"url(#clip7700)\" style=\"stroke:#000000; stroke-width:4; stroke-opacity:1; fill:none\" points=\"\n",
       "  709.071,1487.47 709.071,1470.19 \n",
       "  \"/>\n",
       "<polyline clip-path=\"url(#clip7700)\" style=\"stroke:#000000; stroke-width:4; stroke-opacity:1; fill:none\" points=\"\n",
       "  1236.1,1487.47 1236.1,1470.19 \n",
       "  \"/>\n",
       "<polyline clip-path=\"url(#clip7700)\" style=\"stroke:#000000; stroke-width:4; stroke-opacity:1; fill:none\" points=\"\n",
       "  1763.12,1487.47 1763.12,1470.19 \n",
       "  \"/>\n",
       "<polyline clip-path=\"url(#clip7700)\" style=\"stroke:#000000; stroke-width:4; stroke-opacity:1; fill:none\" points=\"\n",
       "  2290.15,1487.47 2290.15,1470.19 \n",
       "  \"/>\n",
       "<polyline clip-path=\"url(#clip7700)\" style=\"stroke:#000000; stroke-width:4; stroke-opacity:1; fill:none\" points=\"\n",
       "  140.517,1160.67 167.064,1160.67 \n",
       "  \"/>\n",
       "<polyline clip-path=\"url(#clip7700)\" style=\"stroke:#000000; stroke-width:4; stroke-opacity:1; fill:none\" points=\"\n",
       "  140.517,803.115 167.064,803.115 \n",
       "  \"/>\n",
       "<polyline clip-path=\"url(#clip7700)\" style=\"stroke:#000000; stroke-width:4; stroke-opacity:1; fill:none\" points=\"\n",
       "  140.517,445.56 167.064,445.56 \n",
       "  \"/>\n",
       "<polyline clip-path=\"url(#clip7700)\" style=\"stroke:#000000; stroke-width:4; stroke-opacity:1; fill:none\" points=\"\n",
       "  140.517,88.0053 167.064,88.0053 \n",
       "  \"/>\n",
       "<g clip-path=\"url(#clip7700)\">\n",
       "<text style=\"fill:#000000; fill-opacity:1; font-family:Arial,Helvetica Neue,Helvetica,sans-serif; font-size:48px; text-anchor:middle;\" transform=\"rotate(0, 182.046, 1541.47)\" x=\"182.046\" y=\"1541.47\">0</text>\n",
       "</g>\n",
       "<g clip-path=\"url(#clip7700)\">\n",
       "<text style=\"fill:#000000; fill-opacity:1; font-family:Arial,Helvetica Neue,Helvetica,sans-serif; font-size:48px; text-anchor:middle;\" transform=\"rotate(0, 709.071, 1541.47)\" x=\"709.071\" y=\"1541.47\">25</text>\n",
       "</g>\n",
       "<g clip-path=\"url(#clip7700)\">\n",
       "<text style=\"fill:#000000; fill-opacity:1; font-family:Arial,Helvetica Neue,Helvetica,sans-serif; font-size:48px; text-anchor:middle;\" transform=\"rotate(0, 1236.1, 1541.47)\" x=\"1236.1\" y=\"1541.47\">50</text>\n",
       "</g>\n",
       "<g clip-path=\"url(#clip7700)\">\n",
       "<text style=\"fill:#000000; fill-opacity:1; font-family:Arial,Helvetica Neue,Helvetica,sans-serif; font-size:48px; text-anchor:middle;\" transform=\"rotate(0, 1763.12, 1541.47)\" x=\"1763.12\" y=\"1541.47\">75</text>\n",
       "</g>\n",
       "<g clip-path=\"url(#clip7700)\">\n",
       "<text style=\"fill:#000000; fill-opacity:1; font-family:Arial,Helvetica Neue,Helvetica,sans-serif; font-size:48px; text-anchor:middle;\" transform=\"rotate(0, 2290.15, 1541.47)\" x=\"2290.15\" y=\"1541.47\">100</text>\n",
       "</g>\n",
       "<g clip-path=\"url(#clip7700)\">\n",
       "<text style=\"fill:#000000; fill-opacity:1; font-family:Arial,Helvetica Neue,Helvetica,sans-serif; font-size:48px; text-anchor:end;\" transform=\"rotate(0, 116.517, 1178.17)\" x=\"116.517\" y=\"1178.17\">5</text>\n",
       "</g>\n",
       "<g clip-path=\"url(#clip7700)\">\n",
       "<text style=\"fill:#000000; fill-opacity:1; font-family:Arial,Helvetica Neue,Helvetica,sans-serif; font-size:48px; text-anchor:end;\" transform=\"rotate(0, 116.517, 820.615)\" x=\"116.517\" y=\"820.615\">10</text>\n",
       "</g>\n",
       "<g clip-path=\"url(#clip7700)\">\n",
       "<text style=\"fill:#000000; fill-opacity:1; font-family:Arial,Helvetica Neue,Helvetica,sans-serif; font-size:48px; text-anchor:end;\" transform=\"rotate(0, 116.517, 463.06)\" x=\"116.517\" y=\"463.06\">15</text>\n",
       "</g>\n",
       "<g clip-path=\"url(#clip7700)\">\n",
       "<text style=\"fill:#000000; fill-opacity:1; font-family:Arial,Helvetica Neue,Helvetica,sans-serif; font-size:48px; text-anchor:end;\" transform=\"rotate(0, 116.517, 105.505)\" x=\"116.517\" y=\"105.505\">20</text>\n",
       "</g>\n",
       "<polyline clip-path=\"url(#clip7702)\" style=\"stroke:#009af9; stroke-width:4; stroke-opacity:1; fill:none\" points=\"\n",
       "  203.127,1446.71 224.208,1446.71 245.289,1375.2 266.37,1232.18 287.451,1017.65 308.532,731.604 329.613,374.049 350.694,88.0053 371.775,88.0053 392.856,88.0053 \n",
       "  413.937,159.516 435.018,231.027 456.099,231.027 477.18,159.516 498.261,88.0053 519.342,88.0053 540.423,88.0053 561.504,88.0053 582.585,88.0053 603.666,88.0053 \n",
       "  624.747,159.516 645.828,231.027 666.909,302.538 687.99,374.049 709.071,374.049 730.152,302.538 751.233,159.516 772.314,88.0053 793.395,88.0053 814.476,88.0053 \n",
       "  835.557,88.0053 856.638,159.516 877.719,159.516 898.8,302.538 919.881,302.538 940.962,374.049 962.043,517.071 983.124,588.582 1004.2,588.582 1025.29,731.604 \n",
       "  1046.37,660.093 1067.45,731.604 1088.53,588.582 1109.61,660.093 1130.69,588.582 1151.77,445.56 1172.85,302.538 1193.93,302.538 1215.01,374.049 1236.1,374.049 \n",
       "  1257.18,302.538 1278.26,159.516 1299.34,88.0053 1320.42,88.0053 1341.5,88.0053 1362.58,159.516 1383.66,302.538 1404.74,374.049 1425.82,517.071 1446.91,517.071 \n",
       "  1467.99,588.582 1489.07,731.604 1510.15,731.604 1531.23,874.626 1552.31,874.626 1573.39,1017.65 1594.47,1017.65 1615.55,1160.67 1636.63,1232.18 1657.72,1446.71 \n",
       "  1678.8,1446.71 1699.88,1446.71 1720.96,1446.71 1742.04,1446.71 1763.12,1446.71 1784.2,1375.2 1805.28,1303.69 1826.36,1232.18 1847.44,1089.16 1868.53,1089.16 \n",
       "  1889.61,1017.65 1910.69,1017.65 1931.77,1017.65 1952.85,1089.16 1973.93,1232.18 1995.01,1446.71 2016.09,1446.71 2037.17,1446.71 2058.25,1446.71 2079.34,1446.71 \n",
       "  2100.42,1303.69 2121.5,1375.2 2142.58,1303.69 2163.66,1303.69 2184.74,1375.2 2205.82,1375.2 2226.9,1446.71 2247.98,1375.2 2269.06,1232.18 2290.15,1089.16 \n",
       "  \n",
       "  \"/>\n",
       "<path clip-path=\"url(#clip7700)\" d=\"\n",
       "M1989.93 251.724 L2280.76 251.724 L2280.76 130.764 L1989.93 130.764  Z\n",
       "  \" fill=\"#ffffff\" fill-rule=\"evenodd\" fill-opacity=\"1\"/>\n",
       "<polyline clip-path=\"url(#clip7700)\" style=\"stroke:#000000; stroke-width:4; stroke-opacity:1; fill:none\" points=\"\n",
       "  1989.93,251.724 2280.76,251.724 2280.76,130.764 1989.93,130.764 1989.93,251.724 \n",
       "  \"/>\n",
       "<polyline clip-path=\"url(#clip7700)\" style=\"stroke:#009af9; stroke-width:4; stroke-opacity:1; fill:none\" points=\"\n",
       "  2013.93,191.244 2157.93,191.244 \n",
       "  \"/>\n",
       "<g clip-path=\"url(#clip7700)\">\n",
       "<text style=\"fill:#000000; fill-opacity:1; font-family:Arial,Helvetica Neue,Helvetica,sans-serif; font-size:48px; text-anchor:start;\" transform=\"rotate(0, 2181.93, 208.744)\" x=\"2181.93\" y=\"208.744\">y1</text>\n",
       "</g>\n",
       "</svg>\n"
      ]
     },
     "execution_count": 20,
     "metadata": {},
     "output_type": "execute_result"
    }
   ],
   "source": [
    "plot(traj)"
   ]
  },
  {
   "cell_type": "markdown",
   "metadata": {},
   "source": [
    "### Fit an empirical distribution to a bunch of samples\n",
    "\n",
    "(Note: you will be able to tell by inspecting the data that $1 \\leq x_t \\leq 20$ and $1\\leq y_t \\leq 20$)"
   ]
  },
  {
   "cell_type": "code",
   "execution_count": 6,
   "metadata": {},
   "outputs": [
    {
     "name": "stdout",
     "output_type": "stream",
     "text": [
      "empirical_distribution(samples) = [0.1875, 0.25, 0.0, 0.0625, 0.4375, 0.0, 0.0, 0.0, 0.0, 0.0, 0.0, 0.0, 0.0, 0.0, 0.0, 0.0, 0.0, 0.0, 0.0625, 0.0]\n"
     ]
    }
   ],
   "source": [
    "function empirical_distribution(samples)\n",
    "    return [count(samples.==i)/length(samples) for i in 1:20]\n",
    "end\n",
    "samples = [1,1,1,2,2,2,2,4,5,5,5,5,5,5,5,19]\n",
    "@show empirical_distribution(samples); # note: you can use the isapprox function to compare distributions"
   ]
  },
  {
   "cell_type": "markdown",
   "metadata": {},
   "source": [
    "# Question 6: Submitting to the Leaderboard\n",
    "\n",
    "The content of this question is trivial; it is meant to test that everyone can submit to the leaderboard."
   ]
  },
  {
   "cell_type": "code",
   "execution_count": 7,
   "metadata": {},
   "outputs": [],
   "source": [
    "using DMUStudent"
   ]
  },
  {
   "cell_type": "markdown",
   "metadata": {},
   "source": [
    "**First we need to define a function that computes the hypotenuse.** An incorrect one is below. You should change it to be correct.\n",
    "\n",
    "To find out more about defining functions, see [The Julia Documentation](https://docs.julialang.org/en/v1/manual/functions/#)"
   ]
  },
  {
   "cell_type": "code",
   "execution_count": 8,
   "metadata": {},
   "outputs": [
    {
     "data": {
      "text/plain": [
       "f (generic function with 1 method)"
      ]
     },
     "execution_count": 8,
     "metadata": {},
     "output_type": "execute_result"
    }
   ],
   "source": [
    "f(a, b) = a + b"
   ]
  },
  {
   "cell_type": "markdown",
   "metadata": {},
   "source": [
    "**Next, we can use the `evaluate` function to check what our score will be.**\n",
    "    \n",
    "To find out how to use the evaluate function, use the julia help by typing `?` and the name of the function."
   ]
  },
  {
   "cell_type": "code",
   "execution_count": 9,
   "metadata": {},
   "outputs": [
    {
     "name": "stdout",
     "output_type": "stream",
     "text": [
      "search: \u001b[0m\u001b[1me\u001b[22m\u001b[0m\u001b[1mv\u001b[22m\u001b[0m\u001b[1ma\u001b[22m\u001b[0m\u001b[1ml\u001b[22m\u001b[0m\u001b[1mu\u001b[22m\u001b[0m\u001b[1ma\u001b[22m\u001b[0m\u001b[1mt\u001b[22m\u001b[0m\u001b[1me\u001b[22m\n",
      "\n"
     ]
    },
    {
     "data": {
      "text/latex": [
       "\\begin{verbatim}\n",
       "evaluate(submission, assignment)\n",
       "\\end{verbatim}\n",
       "Evaluate a submission for a homework assignment on your local machine and print a score. This will NOT send the result to dmuleaderboard.com.\n",
       "\n",
       "\\section{Arguments}\n",
       "\\begin{itemize}\n",
       "\\item \\texttt{submission}: This is the object that the homework prompt asks for. It could be a function, vector, string, or some other data. See the homework starter code for examples.\n",
       "\n",
       "\n",
       "\\item \\texttt{assignment::String}: A string indicating which assignment this is for, e.g. \\texttt{\"hw1\"}\n",
       "\n",
       "\\end{itemize}\n"
      ],
      "text/markdown": [
       "```\n",
       "evaluate(submission, assignment)\n",
       "```\n",
       "\n",
       "Evaluate a submission for a homework assignment on your local machine and print a score. This will NOT send the result to dmuleaderboard.com.\n",
       "\n",
       "# Arguments\n",
       "\n",
       "  * `submission`: This is the object that the homework prompt asks for. It could be a function, vector, string, or some other data. See the homework starter code for examples.\n",
       "  * `assignment::String`: A string indicating which assignment this is for, e.g. `\"hw1\"`\n"
      ],
      "text/plain": [
       "\u001b[36m  evaluate(submission, assignment)\u001b[39m\n",
       "\n",
       "  Evaluate a submission for a homework assignment on your local machine and\n",
       "  print a score. This will NOT send the result to dmuleaderboard.com.\n",
       "\n",
       "\u001b[1m  Arguments\u001b[22m\n",
       "\u001b[1m  ≡≡≡≡≡≡≡≡≡≡≡\u001b[22m\n",
       "\n",
       "    •    \u001b[36msubmission\u001b[39m: This is the object that the homework prompt asks for.\n",
       "        It could be a function, vector, string, or some other data. See\n",
       "        the homework starter code for examples.\n",
       "\n",
       "    •    \u001b[36massignment::String\u001b[39m: A string indicating which assignment this is\n",
       "        for, e.g. \u001b[36m\"hw1\"\u001b[39m"
      ]
     },
     "execution_count": 9,
     "metadata": {},
     "output_type": "execute_result"
    }
   ],
   "source": [
    "?evaluate"
   ]
  },
  {
   "cell_type": "markdown",
   "metadata": {},
   "source": [
    "**Next, invoke `evaluate` on your function.** If it is correct, it will return a score of 1; if incorrect, 0."
   ]
  },
  {
   "cell_type": "code",
   "execution_count": 10,
   "metadata": {},
   "outputs": [
    {
     "name": "stdout",
     "output_type": "stream",
     "text": [
      "Evaluation complete! Score: 0\n"
     ]
    },
    {
     "name": "stderr",
     "output_type": "stream",
     "text": [
      "┌ Warning: In HW 1 evaluation, your function was not correct for arguments (3, 4).\n",
      "└ @ DMUStudent.HW1 none:14\n"
     ]
    },
    {
     "data": {
      "text/plain": [
       "0"
      ]
     },
     "execution_count": 10,
     "metadata": {},
     "output_type": "execute_result"
    }
   ],
   "source": [
    "evaluate(f, \"hw1\")"
   ]
  },
  {
   "cell_type": "markdown",
   "metadata": {},
   "source": [
    "**Finally, once we have a correct function, we will submit it to the leaderboard.**\n",
    "\n",
    "(To see documentation for `submit`, type `?submit`)"
   ]
  },
  {
   "cell_type": "code",
   "execution_count": 11,
   "metadata": {},
   "outputs": [
    {
     "name": "stderr",
     "output_type": "stream",
     "text": [
      "┌ Warning: In HW 1 evaluation, your function was not correct for arguments (3, 4).\n",
      "└ @ DMUStudent.HW1 none:14\n"
     ]
    },
    {
     "name": "stdout",
     "output_type": "stream",
     "text": [
      "Evaluation complete! Score: 0\n"
     ]
    },
    {
     "name": "stderr",
     "output_type": "stream",
     "text": [
      "┌ Info: Sending data...\n",
      "└ @ RedPen.Client none:19\n",
      "┌ Info: Success! A score of 0 was saved to the database with email identikey@colorado.edu and nickname I forgot to change the default nickname 🤦\n",
      "└ @ RedPen.Client none:29\n"
     ]
    },
    {
     "data": {
      "text/plain": [
       "0"
      ]
     },
     "execution_count": 11,
     "metadata": {},
     "output_type": "execute_result"
    }
   ],
   "source": [
    "submit(f, \"hw1\", \"identikey@colorado.edu\", nickname=\"I forgot to change the default nickname 🤦\")"
   ]
  },
  {
   "cell_type": "markdown",
   "metadata": {},
   "source": [
    "To check that the submission worked, visit http://dmuleaderboard.com/hw1/ or use the status function:"
   ]
  },
  {
   "cell_type": "code",
   "execution_count": 12,
   "metadata": {},
   "outputs": [
    {
     "name": "stderr",
     "output_type": "stream",
     "text": [
      "┌ Info: Sending data...\n",
      "└ @ RedPen.Client none:19\n",
      "┌ Info: Success\n",
      "│ Status for email identikey@colorado.edu:\n",
      "│     hw1:      0.0   (I forgot to change the default nickname 🤦)\n",
      "│ \n",
      "└ @ RedPen.Client none:29\n"
     ]
    }
   ],
   "source": [
    "status(\"identikey@colorado.edu\")"
   ]
  },
  {
   "cell_type": "code",
   "execution_count": null,
   "metadata": {},
   "outputs": [],
   "source": []
  }
 ],
 "metadata": {
  "@webio": {
   "lastCommId": null,
   "lastKernelId": null
  },
  "kernelspec": {
   "display_name": "Julia 1.3.1",
   "language": "julia",
   "name": "julia-1.3"
  },
  "language_info": {
   "file_extension": ".jl",
   "mimetype": "application/julia",
   "name": "julia",
   "version": "1.3.1"
  }
 },
 "nbformat": 4,
 "nbformat_minor": 2
}
