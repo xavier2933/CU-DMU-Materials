{
 "cells": [
  {
   "cell_type": "code",
   "execution_count": 65,
   "metadata": {},
   "outputs": [
    {
     "data": {
      "text/plain": [
       "T (generic function with 1 method)"
      ]
     },
     "execution_count": 65,
     "metadata": {},
     "output_type": "execute_result"
    }
   ],
   "source": [
    "function T(s, sp)\n",
    "    if s == sp\n",
    "        return 1.0\n",
    "    else\n",
    "        return 0.0\n",
    "    end\n",
    "end"
   ]
  },
  {
   "cell_type": "code",
   "execution_count": 82,
   "metadata": {},
   "outputs": [
    {
     "data": {
      "text/plain": [
       "O (generic function with 1 method)"
      ]
     },
     "execution_count": 82,
     "metadata": {},
     "output_type": "execute_result"
    }
   ],
   "source": [
    "function O(sp, o)\n",
    "    if o == sp\n",
    "        return 0.55\n",
    "    else\n",
    "        return 0.45\n",
    "    end\n",
    "end"
   ]
  },
  {
   "cell_type": "code",
   "execution_count": 83,
   "metadata": {},
   "outputs": [
    {
     "data": {
      "text/plain": [
       "2-element Array{Symbol,1}:\n",
       " :TL\n",
       " :TR"
      ]
     },
     "execution_count": 83,
     "metadata": {},
     "output_type": "execute_result"
    }
   ],
   "source": [
    "S = [:TL, :TR]"
   ]
  },
  {
   "cell_type": "code",
   "execution_count": 84,
   "metadata": {},
   "outputs": [
    {
     "data": {
      "text/plain": [
       ":TL"
      ]
     },
     "execution_count": 84,
     "metadata": {},
     "output_type": "execute_result"
    }
   ],
   "source": [
    "s = :TL"
   ]
  },
  {
   "cell_type": "code",
   "execution_count": 91,
   "metadata": {},
   "outputs": [
    {
     "data": {
      "text/plain": [
       "Dict{Symbol,Float64} with 2 entries:\n",
       "  :TL => 0.5\n",
       "  :TR => 0.5"
      ]
     },
     "execution_count": 91,
     "metadata": {},
     "output_type": "execute_result"
    }
   ],
   "source": [
    "b = Dict(:TL=>0.5, :TR=>0.5)"
   ]
  },
  {
   "cell_type": "code",
   "execution_count": 101,
   "metadata": {},
   "outputs": [
    {
     "data": {
      "text/plain": [
       ":TL"
      ]
     },
     "metadata": {},
     "output_type": "display_data"
    },
    {
     "data": {
      "text/plain": [
       "Dict{Symbol,Float64} with 2 entries:\n",
       "  :TL => 0.832767\n",
       "  :TR => 0.167233"
      ]
     },
     "metadata": {},
     "output_type": "display_data"
    }
   ],
   "source": [
    "o = rand() < 0.55 ? s : (s == S[1] ? S[2] : S[1])\n",
    "display(o)\n",
    "bp = empty(b)\n",
    "for sp in S\n",
    "    bp[sp] = O(sp, o)*sum(T(s, sp)*b[s] for s in S)\n",
    "end\n",
    "normalizer = sum(values(bp))\n",
    "for sp in S\n",
    "    bp[sp] /= normalizer\n",
    "end\n",
    "b = bp\n",
    "display(b)"
   ]
  },
  {
   "cell_type": "code",
   "execution_count": 80,
   "metadata": {},
   "outputs": [
    {
     "data": {
      "text/plain": [
       "Dict{Symbol,Float64} with 2 entries:\n",
       "  :TL => 0.5\n",
       "  :TR => 0.5"
      ]
     },
     "execution_count": 80,
     "metadata": {},
     "output_type": "execute_result"
    }
   ],
   "source": [
    "h = (:TL, :TR, :TL, :TL, :TL, :TL, :TL, :TR, :TR, :TR, :TR, :TR)\n",
    "b = Dict(:TL=>0.5, :TR=>0.5)"
   ]
  },
  {
   "cell_type": "code",
   "execution_count": 81,
   "metadata": {},
   "outputs": [
    {
     "data": {
      "text/plain": [
       ":TL"
      ]
     },
     "metadata": {},
     "output_type": "display_data"
    },
    {
     "data": {
      "text/plain": [
       "Dict{Symbol,Float64} with 2 entries:\n",
       "  :TL => 0.85\n",
       "  :TR => 0.15"
      ]
     },
     "metadata": {},
     "output_type": "display_data"
    },
    {
     "data": {
      "text/plain": [
       ":TR"
      ]
     },
     "metadata": {},
     "output_type": "display_data"
    },
    {
     "data": {
      "text/plain": [
       "Dict{Symbol,Float64} with 2 entries:\n",
       "  :TL => 0.5\n",
       "  :TR => 0.5"
      ]
     },
     "metadata": {},
     "output_type": "display_data"
    },
    {
     "data": {
      "text/plain": [
       ":TL"
      ]
     },
     "metadata": {},
     "output_type": "display_data"
    },
    {
     "data": {
      "text/plain": [
       "Dict{Symbol,Float64} with 2 entries:\n",
       "  :TL => 0.85\n",
       "  :TR => 0.15"
      ]
     },
     "metadata": {},
     "output_type": "display_data"
    },
    {
     "data": {
      "text/plain": [
       ":TL"
      ]
     },
     "metadata": {},
     "output_type": "display_data"
    },
    {
     "data": {
      "text/plain": [
       "Dict{Symbol,Float64} with 2 entries:\n",
       "  :TL => 0.969799\n",
       "  :TR => 0.0302013"
      ]
     },
     "metadata": {},
     "output_type": "display_data"
    },
    {
     "data": {
      "text/plain": [
       ":TL"
      ]
     },
     "metadata": {},
     "output_type": "display_data"
    },
    {
     "data": {
      "text/plain": [
       "Dict{Symbol,Float64} with 2 entries:\n",
       "  :TL => 0.994534\n",
       "  :TR => 0.00546559"
      ]
     },
     "metadata": {},
     "output_type": "display_data"
    },
    {
     "data": {
      "text/plain": [
       ":TL"
      ]
     },
     "metadata": {},
     "output_type": "display_data"
    },
    {
     "data": {
      "text/plain": [
       "Dict{Symbol,Float64} with 2 entries:\n",
       "  :TL => 0.999031\n",
       "  :TR => 0.000968876"
      ]
     },
     "metadata": {},
     "output_type": "display_data"
    },
    {
     "data": {
      "text/plain": [
       ":TL"
      ]
     },
     "metadata": {},
     "output_type": "display_data"
    },
    {
     "data": {
      "text/plain": [
       "Dict{Symbol,Float64} with 2 entries:\n",
       "  :TL => 0.999829\n",
       "  :TR => 0.000171115"
      ]
     },
     "metadata": {},
     "output_type": "display_data"
    },
    {
     "data": {
      "text/plain": [
       ":TR"
      ]
     },
     "metadata": {},
     "output_type": "display_data"
    },
    {
     "data": {
      "text/plain": [
       "Dict{Symbol,Float64} with 2 entries:\n",
       "  :TL => 0.999031\n",
       "  :TR => 0.000968876"
      ]
     },
     "metadata": {},
     "output_type": "display_data"
    },
    {
     "data": {
      "text/plain": [
       ":TR"
      ]
     },
     "metadata": {},
     "output_type": "display_data"
    },
    {
     "data": {
      "text/plain": [
       "Dict{Symbol,Float64} with 2 entries:\n",
       "  :TL => 0.994534\n",
       "  :TR => 0.00546559"
      ]
     },
     "metadata": {},
     "output_type": "display_data"
    },
    {
     "data": {
      "text/plain": [
       ":TR"
      ]
     },
     "metadata": {},
     "output_type": "display_data"
    },
    {
     "data": {
      "text/plain": [
       "Dict{Symbol,Float64} with 2 entries:\n",
       "  :TL => 0.969799\n",
       "  :TR => 0.0302013"
      ]
     },
     "metadata": {},
     "output_type": "display_data"
    },
    {
     "data": {
      "text/plain": [
       ":TR"
      ]
     },
     "metadata": {},
     "output_type": "display_data"
    },
    {
     "data": {
      "text/plain": [
       "Dict{Symbol,Float64} with 2 entries:\n",
       "  :TL => 0.85\n",
       "  :TR => 0.15"
      ]
     },
     "metadata": {},
     "output_type": "display_data"
    },
    {
     "data": {
      "text/plain": [
       ":TR"
      ]
     },
     "metadata": {},
     "output_type": "display_data"
    },
    {
     "data": {
      "text/plain": [
       "Dict{Symbol,Float64} with 2 entries:\n",
       "  :TL => 0.5\n",
       "  :TR => 0.5"
      ]
     },
     "metadata": {},
     "output_type": "display_data"
    }
   ],
   "source": [
    "for o in h\n",
    "    display(o)\n",
    "    bp = empty(b)\n",
    "    for sp in S\n",
    "        bp[sp] = O(sp, o)*sum(T(s, sp)*b[s] for s in S)\n",
    "    end\n",
    "    normalizer = sum(values(bp))\n",
    "    for sp in S\n",
    "        bp[sp] /= normalizer\n",
    "    end\n",
    "    b = bp\n",
    "    display(b)\n",
    "end"
   ]
  },
  {
   "cell_type": "code",
   "execution_count": null,
   "metadata": {},
   "outputs": [],
   "source": []
  }
 ],
 "metadata": {
  "kernelspec": {
   "display_name": "Julia 1.3.1",
   "language": "julia",
   "name": "julia-1.3"
  },
  "language_info": {
   "file_extension": ".jl",
   "mimetype": "application/julia",
   "name": "julia",
   "version": "1.3.1"
  }
 },
 "nbformat": 4,
 "nbformat_minor": 2
}
